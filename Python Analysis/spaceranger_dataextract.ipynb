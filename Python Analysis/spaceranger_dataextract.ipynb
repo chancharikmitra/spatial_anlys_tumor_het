{
 "cells": [
  {
   "cell_type": "markdown",
   "id": "d78b7152",
   "metadata": {},
   "source": [
    "# SpaceRanger Data Extraction Code:"
   ]
  },
  {
   "cell_type": "markdown",
   "id": "af35009a",
   "metadata": {},
   "source": [
    "This notebook is specifically for extracting a .csv file from the SpaceRanger outs folder of a sample. Essentially, running this script for an outs file will output a .csv file which contains the gene expression counts for all barcode coordinates. This *in combination* to the coordinates and spatial projection information in the **spatial** folder will allow for easy statistical analysis of the gene expression data of a SpaceRanger sample."
   ]
  },
  {
   "cell_type": "code",
   "execution_count": 4,
   "id": "3176aa9c",
   "metadata": {
    "tags": []
   },
   "outputs": [],
   "source": [
    "import csv\n",
    "import gzip\n",
    "import os\n",
    "import scipy.io\n",
    "import pandas as pd\n",
    "import numpy as np"
   ]
  },
  {
   "cell_type": "markdown",
   "id": "b7077745-6fa6-4a0f-b443-cd4f83e48f75",
   "metadata": {},
   "source": [
    "All that needs to be checked is that the file paths point to the correct directory. Without a GPU, the process can take several minutes"
   ]
  },
  {
   "cell_type": "code",
   "execution_count": 5,
   "id": "745f0c5b",
   "metadata": {
    "tags": []
   },
   "outputs": [],
   "source": [
    "# define MEX directory\n",
    "matrix_dir = \"V1_62_human_outs/filtered_feature_bc_matrix\"\n",
    "# read in MEX format matrix as table\n",
    "mat_filtered = scipy.io.mmread(os.path.join(matrix_dir, \"matrix.mtx.gz\"))\n",
    " \n",
    "# list of transcript ids, e.g. 'ENSG00000187634'\n",
    "features_path = os.path.join(matrix_dir, \"features.tsv.gz\")\n",
    "feature_ids = [row[0] for row in csv.reader(gzip.open(features_path, mode=\"rt\"), delimiter=\"\\t\")]\n",
    " \n",
    "# list of gene names, e.g. 'SAMD11'\n",
    "gene_names = [row[1] for row in csv.reader(gzip.open(features_path, mode=\"rt\"), delimiter=\"\\t\")]\n",
    " \n",
    "# list of feature_types, e.g. 'Gene Expression'\n",
    "feature_types = [row[2] for row in csv.reader(gzip.open(features_path, mode=\"rt\"), delimiter=\"\\t\")]\n",
    " \n",
    "# list of barcodes, e.g. 'AAACATACAAAACG-1'\n",
    "barcodes_path = os.path.join(matrix_dir, \"barcodes.tsv.gz\")\n",
    "barcodes = [row[0] for row in csv.reader(gzip.open(barcodes_path, mode=\"rt\"), delimiter=\"\\t\")]"
   ]
  },
  {
   "cell_type": "code",
   "execution_count": 6,
   "id": "32dad4fc",
   "metadata": {
    "tags": []
   },
   "outputs": [
    {
     "name": "stdout",
     "output_type": "stream",
     "text": [
      "            feature_id             gene     feature_type  AAACAGCTTTCAGAAG-1   \n",
      "0      ENSG00000243485      MIR1302-2HG  Gene Expression                   0  \\\n",
      "1      ENSG00000237613          FAM138A  Gene Expression                   0   \n",
      "2      ENSG00000186092            OR4F5  Gene Expression                   0   \n",
      "3      ENSG00000238009  ENSG00000238009  Gene Expression                   0   \n",
      "4      ENSG00000239945  ENSG00000239945  Gene Expression                   0   \n",
      "...                ...              ...              ...                 ...   \n",
      "37728  ENSG00000277836  ENSG00000277836  Gene Expression                   0   \n",
      "37729  ENSG00000278633  ENSG00000278633  Gene Expression                   0   \n",
      "37730  ENSG00000276017  ENSG00000276017  Gene Expression                   0   \n",
      "37731  ENSG00000278817  ENSG00000278817  Gene Expression                   0   \n",
      "37732  ENSG00000277196  ENSG00000277196  Gene Expression                   0   \n",
      "\n",
      "       AAACAGGGTCTATATT-1  AAACCGGGTAGGTACC-1  AAACCGTTCGTCCAGG-1   \n",
      "0                       0                   0                   0  \\\n",
      "1                       0                   0                   0   \n",
      "2                       0                   0                   0   \n",
      "3                       0                   0                   0   \n",
      "4                       0                   0                   0   \n",
      "...                   ...                 ...                 ...   \n",
      "37728                   0                   0                   0   \n",
      "37729                   0                   0                   0   \n",
      "37730                   0                   0                   0   \n",
      "37731                   0                   0                   0   \n",
      "37732                   0                   0                   0   \n",
      "\n",
      "       AAACCTCATGAAGTTG-1  AAACGAGACGGTTGAT-1  AAAGGCTCTCGCGCCG-1  ...   \n",
      "0                       0                   0                   0  ...  \\\n",
      "1                       0                   0                   0  ...   \n",
      "2                       0                   0                   0  ...   \n",
      "3                       0                   0                   0  ...   \n",
      "4                       0                   0                   0  ...   \n",
      "...                   ...                 ...                 ...  ...   \n",
      "37728                   0                   0                   0  ...   \n",
      "37729                   0                   0                   0  ...   \n",
      "37730                   0                   0                   0  ...   \n",
      "37731                   0                   0                   2  ...   \n",
      "37732                   0                   0                   0  ...   \n",
      "\n",
      "       TTGTAAGGCCAGTTGG-1  TTGTAATCCGTACTCG-1  TTGTGAGGCATGACGC-1   \n",
      "0                       0                   0                   0  \\\n",
      "1                       0                   0                   0   \n",
      "2                       0                   0                   0   \n",
      "3                       0                   0                   0   \n",
      "4                       0                   0                   0   \n",
      "...                   ...                 ...                 ...   \n",
      "37728                   0                   0                   0   \n",
      "37729                   0                   0                   0   \n",
      "37730                   0                   0                   0   \n",
      "37731                   0                   0                   0   \n",
      "37732                   0                   0                   0   \n",
      "\n",
      "       TTGTGTATGCCACCAA-1  TTGTGTTTCCCGAAAG-1  TTGTTCAGTGTGCTAC-1   \n",
      "0                       0                   0                   0  \\\n",
      "1                       0                   0                   0   \n",
      "2                       0                   0                   0   \n",
      "3                       0                   0                   0   \n",
      "4                       0                   0                   0   \n",
      "...                   ...                 ...                 ...   \n",
      "37728                   0                   0                   0   \n",
      "37729                   0                   0                   0   \n",
      "37730                   0                   0                   0   \n",
      "37731                   1                   0                   0   \n",
      "37732                   0                   0                   0   \n",
      "\n",
      "       TTGTTGTGTGTCAAGA-1  TTGTTTCACATCCAGG-1  TTGTTTCATTAGTCTA-1   \n",
      "0                       0                   0                   0  \\\n",
      "1                       0                   0                   0   \n",
      "2                       0                   0                   0   \n",
      "3                       0                   0                   0   \n",
      "4                       0                   0                   0   \n",
      "...                   ...                 ...                 ...   \n",
      "37728                   0                   0                   0   \n",
      "37729                   0                   0                   0   \n",
      "37730                   0                   0                   0   \n",
      "37731                   0                   0                   0   \n",
      "37732                   0                   0                   0   \n",
      "\n",
      "       TTGTTTCCATACAACT-1  \n",
      "0                       0  \n",
      "1                       0  \n",
      "2                       0  \n",
      "3                       0  \n",
      "4                       0  \n",
      "...                   ...  \n",
      "37728                   0  \n",
      "37729                   0  \n",
      "37730                   0  \n",
      "37731                   0  \n",
      "37732                   0  \n",
      "\n",
      "[37733 rows x 1295 columns]\n"
     ]
    }
   ],
   "source": [
    "# transform table to pandas dataframe and label rows and columns\n",
    "matrix = pd.DataFrame.sparse.from_spmatrix(mat_filtered)\n",
    "matrix.columns = barcodes\n",
    "matrix.insert(loc=0, column=\"feature_id\", value=feature_ids)\n",
    "matrix.insert(loc=1, column=\"gene\", value=gene_names)\n",
    "matrix.insert(loc=2, column=\"feature_type\", value=feature_types)\n",
    " \n",
    "# display matrix\n",
    "print(matrix)\n",
    " \n",
    "# save the table as a CSV (note the CSV will be a very large file)\n",
    "matrix.to_csv(\"V1_62_human_matrix.csv\", index=False)"
   ]
  }
 ],
 "metadata": {
  "kernelspec": {
   "display_name": "Python 3 (ipykernel)",
   "language": "python",
   "name": "python3"
  },
  "language_info": {
   "codemirror_mode": {
    "name": "ipython",
    "version": 3
   },
   "file_extension": ".py",
   "mimetype": "text/x-python",
   "name": "python",
   "nbconvert_exporter": "python",
   "pygments_lexer": "ipython3",
   "version": "3.8.16"
  }
 },
 "nbformat": 4,
 "nbformat_minor": 5
}
