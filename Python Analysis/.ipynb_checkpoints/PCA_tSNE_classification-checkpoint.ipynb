{
 "cells": [
  {
   "cell_type": "markdown",
   "id": "8e8f3d25",
   "metadata": {},
   "source": [
    "# Notebook PCA, t-SNE, and Classifying Sample Regions"
   ]
  },
  {
   "cell_type": "markdown",
   "id": "01a46f15-248e-4d3f-878e-3e9c7abcd7fd",
   "metadata": {},
   "source": [
    "**Description**: This notebook allows the user to perform (local and global) PCA, t-SNE, and barcode-level classification on a .csv file of gene expression data generated from SpaceRanger Output. To get this output, please use the spaceranger_dataextract notebook."
   ]
  },
  {
   "cell_type": "code",
   "execution_count": 2,
   "id": "fd9cbf8f",
   "metadata": {
    "tags": []
   },
   "outputs": [],
   "source": [
    "import csv\n",
    "import gzip\n",
    "import os\n",
    "import scipy.io\n",
    "import pandas as pd\n",
    "import numpy as np\n",
    "\n",
    "import matplotlib.pyplot as plt\n",
    "from sklearn.decomposition import PCA\n",
    "from sklearn.cluster import KMeans\n",
    "from sklearn.preprocessing import StandardScaler\n",
    "from sklearn.preprocessing import Normalizer\n",
    "from sklearn.manifold import TSNE\n",
    "from sklearn.model_selection import train_test_split\n",
    "from sklearn.linear_model import LogisticRegression\n",
    "from sklearn.ensemble import RandomForestClassifier as rfc\n",
    "from sklearn.svm import SVC as svc\n",
    "from sklearn.tree import DecisionTreeClassifier as dtc\n",
    "from sklearn.preprocessing import OneHotEncoder as ohe\n",
    "from sklearn.tree import export_graphviz"
   ]
  },
  {
   "cell_type": "markdown",
   "id": "861351ef",
   "metadata": {},
   "source": [
    "## 1. Extract Data From CSV:"
   ]
  },
  {
   "cell_type": "markdown",
   "id": "a4b64062-9063-40d4-b438-63145c7f1000",
   "metadata": {},
   "source": [
    "Recall, this notebook is currently set up for aggregated clustering over 2 samples, so we set up two sets of data."
   ]
  },
  {
   "cell_type": "code",
   "execution_count": 3,
   "id": "86f0e648",
   "metadata": {
    "tags": []
   },
   "outputs": [],
   "source": [
    "#Start from here, above code was to create csv\n",
    "matrix = pd.read_csv(\"F8_37_human_mat.csv\")"
   ]
  },
  {
   "cell_type": "code",
   "execution_count": 1,
   "id": "94f8b041",
   "metadata": {
    "tags": []
   },
   "outputs": [],
   "source": [
    "#matrix.loc[matrix[\"gene\"] == \"FASN\"]"
   ]
  },
  {
   "cell_type": "code",
   "execution_count": 2,
   "id": "51c6c06c",
   "metadata": {
    "tags": []
   },
   "outputs": [],
   "source": [
    "#matrix.loc[matrix[\"gene\"] == \"LDHA\"]"
   ]
  },
  {
   "cell_type": "code",
   "execution_count": 3,
   "id": "8c3b51f4",
   "metadata": {
    "tags": []
   },
   "outputs": [],
   "source": [
    "#matrix2 = pd.read_csv(\"F8_38_human_outs/f838_human_filtered_matrix.csv\")"
   ]
  },
  {
   "cell_type": "markdown",
   "id": "89d78a85",
   "metadata": {},
   "source": [
    "## 2. Identifying Unexpressed Genes:"
   ]
  },
  {
   "cell_type": "code",
   "execution_count": 68,
   "id": "89ba926c",
   "metadata": {
    "tags": []
   },
   "outputs": [],
   "source": [
    "blank_list = []\n",
    "for i in range(36601):\n",
    "    #if i%100 == 0:\n",
    "        #print(i)\n",
    "    if matrix.iloc[i][3:].sum() == 0:\n",
    "        blank_list.append(i)"
   ]
  },
  {
   "cell_type": "code",
   "execution_count": 7,
   "id": "ff5ba4dc",
   "metadata": {
    "tags": []
   },
   "outputs": [
    {
     "name": "stdout",
     "output_type": "stream",
     "text": [
      "14022\n"
     ]
    },
    {
     "data": {
      "text/plain": [
       "[0, 1, 2, 4, 5, 7, 10, 12, 13, 18]"
      ]
     },
     "execution_count": 7,
     "metadata": {},
     "output_type": "execute_result"
    }
   ],
   "source": [
    "print(len(blank_list))\n",
    "blank_list[0:10]"
   ]
  },
  {
   "cell_type": "code",
   "execution_count": 8,
   "id": "58f5caec",
   "metadata": {},
   "outputs": [],
   "source": [
    "#Ideas:\n",
    "#Filter out zeros for all samples\n",
    "#Summary statistics for each row\n",
    "#Getting the top 5 most expressed genes for each coordinate and creating some kind of map or probability distro\n",
    "#Apply Decision Trees, RFCs, or Gradient Boosting onto each sample using Dr. Erdogan's labels.\n",
    "#Include all of this in paper"
   ]
  },
  {
   "cell_type": "markdown",
   "id": "5156f95c",
   "metadata": {},
   "source": [
    "## 3. Creating Separate Tables for Genes and Expressions:"
   ]
  },
  {
   "cell_type": "code",
   "execution_count": 70,
   "id": "42cb492c",
   "metadata": {
    "tags": []
   },
   "outputs": [
    {
     "data": {
      "text/plain": [
       "(37733, 3525)"
      ]
     },
     "execution_count": 70,
     "metadata": {},
     "output_type": "execute_result"
    }
   ],
   "source": [
    "matrix.drop(columns=[\"feature_id\", \"feature_type\"], inplace=True)\n",
    "matrix.shape"
   ]
  },
  {
   "cell_type": "code",
   "execution_count": 71,
   "id": "72c928ea",
   "metadata": {
    "tags": []
   },
   "outputs": [
    {
     "data": {
      "text/html": [
       "<div>\n",
       "<style scoped>\n",
       "    .dataframe tbody tr th:only-of-type {\n",
       "        vertical-align: middle;\n",
       "    }\n",
       "\n",
       "    .dataframe tbody tr th {\n",
       "        vertical-align: top;\n",
       "    }\n",
       "\n",
       "    .dataframe thead th {\n",
       "        text-align: right;\n",
       "    }\n",
       "</style>\n",
       "<table border=\"1\" class=\"dataframe\">\n",
       "  <thead>\n",
       "    <tr style=\"text-align: right;\">\n",
       "      <th></th>\n",
       "      <th>3</th>\n",
       "      <th>6</th>\n",
       "      <th>8</th>\n",
       "      <th>9</th>\n",
       "      <th>11</th>\n",
       "      <th>14</th>\n",
       "      <th>15</th>\n",
       "      <th>16</th>\n",
       "      <th>17</th>\n",
       "      <th>19</th>\n",
       "      <th>...</th>\n",
       "      <th>37723</th>\n",
       "      <th>37724</th>\n",
       "      <th>37725</th>\n",
       "      <th>37726</th>\n",
       "      <th>37727</th>\n",
       "      <th>37728</th>\n",
       "      <th>37729</th>\n",
       "      <th>37730</th>\n",
       "      <th>37731</th>\n",
       "      <th>37732</th>\n",
       "    </tr>\n",
       "  </thead>\n",
       "  <tbody>\n",
       "    <tr>\n",
       "      <th>gene</th>\n",
       "      <td>ENSG00000238009</td>\n",
       "      <td>ENSG00000241860</td>\n",
       "      <td>ENSG00000286448</td>\n",
       "      <td>ENSG00000236601</td>\n",
       "      <td>ENSG00000235146</td>\n",
       "      <td>LINC01409</td>\n",
       "      <td>FAM87B</td>\n",
       "      <td>LINC00115</td>\n",
       "      <td>LINC01128</td>\n",
       "      <td>FAM41C</td>\n",
       "      <td>...</td>\n",
       "      <td>ENSG00000275249</td>\n",
       "      <td>ENSG00000274792</td>\n",
       "      <td>ENSG00000274175</td>\n",
       "      <td>ENSG00000275869</td>\n",
       "      <td>ENSG00000273554</td>\n",
       "      <td>ENSG00000277836</td>\n",
       "      <td>ENSG00000278633</td>\n",
       "      <td>ENSG00000276017</td>\n",
       "      <td>ENSG00000278817</td>\n",
       "      <td>ENSG00000277196</td>\n",
       "    </tr>\n",
       "    <tr>\n",
       "      <th>AAACAAGTATCTCCCA-1</th>\n",
       "      <td>0</td>\n",
       "      <td>0</td>\n",
       "      <td>0</td>\n",
       "      <td>0</td>\n",
       "      <td>0</td>\n",
       "      <td>0</td>\n",
       "      <td>0</td>\n",
       "      <td>0</td>\n",
       "      <td>0</td>\n",
       "      <td>0</td>\n",
       "      <td>...</td>\n",
       "      <td>0</td>\n",
       "      <td>0</td>\n",
       "      <td>0</td>\n",
       "      <td>0</td>\n",
       "      <td>0</td>\n",
       "      <td>0</td>\n",
       "      <td>0</td>\n",
       "      <td>0</td>\n",
       "      <td>1</td>\n",
       "      <td>0</td>\n",
       "    </tr>\n",
       "    <tr>\n",
       "      <th>AAACAATCTACTAGCA-1</th>\n",
       "      <td>0</td>\n",
       "      <td>0</td>\n",
       "      <td>0</td>\n",
       "      <td>0</td>\n",
       "      <td>0</td>\n",
       "      <td>0</td>\n",
       "      <td>0</td>\n",
       "      <td>0</td>\n",
       "      <td>0</td>\n",
       "      <td>0</td>\n",
       "      <td>...</td>\n",
       "      <td>0</td>\n",
       "      <td>0</td>\n",
       "      <td>0</td>\n",
       "      <td>0</td>\n",
       "      <td>0</td>\n",
       "      <td>0</td>\n",
       "      <td>0</td>\n",
       "      <td>0</td>\n",
       "      <td>0</td>\n",
       "      <td>0</td>\n",
       "    </tr>\n",
       "    <tr>\n",
       "      <th>AAACAGAGCGACTCCT-1</th>\n",
       "      <td>0</td>\n",
       "      <td>0</td>\n",
       "      <td>0</td>\n",
       "      <td>0</td>\n",
       "      <td>0</td>\n",
       "      <td>0</td>\n",
       "      <td>0</td>\n",
       "      <td>0</td>\n",
       "      <td>0</td>\n",
       "      <td>0</td>\n",
       "      <td>...</td>\n",
       "      <td>0</td>\n",
       "      <td>0</td>\n",
       "      <td>0</td>\n",
       "      <td>0</td>\n",
       "      <td>0</td>\n",
       "      <td>0</td>\n",
       "      <td>0</td>\n",
       "      <td>0</td>\n",
       "      <td>1</td>\n",
       "      <td>0</td>\n",
       "    </tr>\n",
       "    <tr>\n",
       "      <th>AAACAGCTTTCAGAAG-1</th>\n",
       "      <td>0</td>\n",
       "      <td>0</td>\n",
       "      <td>0</td>\n",
       "      <td>0</td>\n",
       "      <td>0</td>\n",
       "      <td>0</td>\n",
       "      <td>0</td>\n",
       "      <td>0</td>\n",
       "      <td>0</td>\n",
       "      <td>0</td>\n",
       "      <td>...</td>\n",
       "      <td>0</td>\n",
       "      <td>0</td>\n",
       "      <td>0</td>\n",
       "      <td>0</td>\n",
       "      <td>0</td>\n",
       "      <td>0</td>\n",
       "      <td>0</td>\n",
       "      <td>0</td>\n",
       "      <td>0</td>\n",
       "      <td>0</td>\n",
       "    </tr>\n",
       "  </tbody>\n",
       "</table>\n",
       "<p>5 rows × 23711 columns</p>\n",
       "</div>"
      ],
      "text/plain": [
       "                              3                6                8       \n",
       "gene                ENSG00000238009  ENSG00000241860  ENSG00000286448  \\\n",
       "AAACAAGTATCTCCCA-1                0                0                0   \n",
       "AAACAATCTACTAGCA-1                0                0                0   \n",
       "AAACAGAGCGACTCCT-1                0                0                0   \n",
       "AAACAGCTTTCAGAAG-1                0                0                0   \n",
       "\n",
       "                              9                11         14      15      \n",
       "gene                ENSG00000236601  ENSG00000235146  LINC01409  FAM87B  \\\n",
       "AAACAAGTATCTCCCA-1                0                0          0       0   \n",
       "AAACAATCTACTAGCA-1                0                0          0       0   \n",
       "AAACAGAGCGACTCCT-1                0                0          0       0   \n",
       "AAACAGCTTTCAGAAG-1                0                0          0       0   \n",
       "\n",
       "                        16         17      19     ...            37723   \n",
       "gene                LINC00115  LINC01128  FAM41C  ...  ENSG00000275249  \\\n",
       "AAACAAGTATCTCCCA-1          0          0       0  ...                0   \n",
       "AAACAATCTACTAGCA-1          0          0       0  ...                0   \n",
       "AAACAGAGCGACTCCT-1          0          0       0  ...                0   \n",
       "AAACAGCTTTCAGAAG-1          0          0       0  ...                0   \n",
       "\n",
       "                              37724            37725            37726   \n",
       "gene                ENSG00000274792  ENSG00000274175  ENSG00000275869  \\\n",
       "AAACAAGTATCTCCCA-1                0                0                0   \n",
       "AAACAATCTACTAGCA-1                0                0                0   \n",
       "AAACAGAGCGACTCCT-1                0                0                0   \n",
       "AAACAGCTTTCAGAAG-1                0                0                0   \n",
       "\n",
       "                              37727            37728            37729   \n",
       "gene                ENSG00000273554  ENSG00000277836  ENSG00000278633  \\\n",
       "AAACAAGTATCTCCCA-1                0                0                0   \n",
       "AAACAATCTACTAGCA-1                0                0                0   \n",
       "AAACAGAGCGACTCCT-1                0                0                0   \n",
       "AAACAGCTTTCAGAAG-1                0                0                0   \n",
       "\n",
       "                              37730            37731            37732  \n",
       "gene                ENSG00000276017  ENSG00000278817  ENSG00000277196  \n",
       "AAACAAGTATCTCCCA-1                0                1                0  \n",
       "AAACAATCTACTAGCA-1                0                0                0  \n",
       "AAACAGAGCGACTCCT-1                0                1                0  \n",
       "AAACAGCTTTCAGAAG-1                0                0                0  \n",
       "\n",
       "[5 rows x 23711 columns]"
      ]
     },
     "execution_count": 71,
     "metadata": {},
     "output_type": "execute_result"
    }
   ],
   "source": [
    "all_filtered = matrix.T\n",
    "all_filtered.drop(columns=blank_list, axis=1, inplace=True)\n",
    "all_filtered.head()"
   ]
  },
  {
   "cell_type": "code",
   "execution_count": null,
   "id": "1a79da8f",
   "metadata": {
    "tags": []
   },
   "outputs": [
    {
     "data": {
      "text/plain": [
       "(37733, 3716)"
      ]
     },
     "execution_count": 72,
     "metadata": {},
     "output_type": "execute_result"
    }
   ],
   "source": [
    "matrix2.drop(columns=[\"feature_id\", \"feature_type\"], inplace=True)\n",
    "matrix2.shape"
   ]
  },
  {
   "cell_type": "code",
   "execution_count": null,
   "id": "de5363b3",
   "metadata": {
    "tags": []
   },
   "outputs": [
    {
     "data": {
      "text/html": [
       "<div>\n",
       "<style scoped>\n",
       "    .dataframe tbody tr th:only-of-type {\n",
       "        vertical-align: middle;\n",
       "    }\n",
       "\n",
       "    .dataframe tbody tr th {\n",
       "        vertical-align: top;\n",
       "    }\n",
       "\n",
       "    .dataframe thead th {\n",
       "        text-align: right;\n",
       "    }\n",
       "</style>\n",
       "<table border=\"1\" class=\"dataframe\">\n",
       "  <thead>\n",
       "    <tr style=\"text-align: right;\">\n",
       "      <th></th>\n",
       "      <th>3</th>\n",
       "      <th>6</th>\n",
       "      <th>8</th>\n",
       "      <th>9</th>\n",
       "      <th>11</th>\n",
       "      <th>14</th>\n",
       "      <th>15</th>\n",
       "      <th>16</th>\n",
       "      <th>17</th>\n",
       "      <th>19</th>\n",
       "      <th>...</th>\n",
       "      <th>37723</th>\n",
       "      <th>37724</th>\n",
       "      <th>37725</th>\n",
       "      <th>37726</th>\n",
       "      <th>37727</th>\n",
       "      <th>37728</th>\n",
       "      <th>37729</th>\n",
       "      <th>37730</th>\n",
       "      <th>37731</th>\n",
       "      <th>37732</th>\n",
       "    </tr>\n",
       "  </thead>\n",
       "  <tbody>\n",
       "    <tr>\n",
       "      <th>gene</th>\n",
       "      <td>ENSG00000238009</td>\n",
       "      <td>ENSG00000241860</td>\n",
       "      <td>ENSG00000286448</td>\n",
       "      <td>ENSG00000236601</td>\n",
       "      <td>ENSG00000235146</td>\n",
       "      <td>LINC01409</td>\n",
       "      <td>FAM87B</td>\n",
       "      <td>LINC00115</td>\n",
       "      <td>LINC01128</td>\n",
       "      <td>FAM41C</td>\n",
       "      <td>...</td>\n",
       "      <td>ENSG00000275249</td>\n",
       "      <td>ENSG00000274792</td>\n",
       "      <td>ENSG00000274175</td>\n",
       "      <td>ENSG00000275869</td>\n",
       "      <td>ENSG00000273554</td>\n",
       "      <td>ENSG00000277836</td>\n",
       "      <td>ENSG00000278633</td>\n",
       "      <td>ENSG00000276017</td>\n",
       "      <td>ENSG00000278817</td>\n",
       "      <td>ENSG00000277196</td>\n",
       "    </tr>\n",
       "    <tr>\n",
       "      <th>AAACAAGTATCTCCCA-1</th>\n",
       "      <td>0</td>\n",
       "      <td>0</td>\n",
       "      <td>0</td>\n",
       "      <td>0</td>\n",
       "      <td>0</td>\n",
       "      <td>0</td>\n",
       "      <td>0</td>\n",
       "      <td>0</td>\n",
       "      <td>0</td>\n",
       "      <td>0</td>\n",
       "      <td>...</td>\n",
       "      <td>0</td>\n",
       "      <td>0</td>\n",
       "      <td>0</td>\n",
       "      <td>0</td>\n",
       "      <td>0</td>\n",
       "      <td>0</td>\n",
       "      <td>0</td>\n",
       "      <td>0</td>\n",
       "      <td>0</td>\n",
       "      <td>0</td>\n",
       "    </tr>\n",
       "    <tr>\n",
       "      <th>AAACACCAATAACTGC-1</th>\n",
       "      <td>0</td>\n",
       "      <td>0</td>\n",
       "      <td>0</td>\n",
       "      <td>0</td>\n",
       "      <td>0</td>\n",
       "      <td>0</td>\n",
       "      <td>0</td>\n",
       "      <td>0</td>\n",
       "      <td>0</td>\n",
       "      <td>0</td>\n",
       "      <td>...</td>\n",
       "      <td>0</td>\n",
       "      <td>0</td>\n",
       "      <td>0</td>\n",
       "      <td>0</td>\n",
       "      <td>0</td>\n",
       "      <td>0</td>\n",
       "      <td>0</td>\n",
       "      <td>0</td>\n",
       "      <td>0</td>\n",
       "      <td>0</td>\n",
       "    </tr>\n",
       "    <tr>\n",
       "      <th>AAACAGAGCGACTCCT-1</th>\n",
       "      <td>0</td>\n",
       "      <td>0</td>\n",
       "      <td>0</td>\n",
       "      <td>0</td>\n",
       "      <td>0</td>\n",
       "      <td>0</td>\n",
       "      <td>0</td>\n",
       "      <td>0</td>\n",
       "      <td>0</td>\n",
       "      <td>0</td>\n",
       "      <td>...</td>\n",
       "      <td>0</td>\n",
       "      <td>0</td>\n",
       "      <td>0</td>\n",
       "      <td>0</td>\n",
       "      <td>0</td>\n",
       "      <td>0</td>\n",
       "      <td>0</td>\n",
       "      <td>0</td>\n",
       "      <td>0</td>\n",
       "      <td>0</td>\n",
       "    </tr>\n",
       "    <tr>\n",
       "      <th>AAACAGCTTTCAGAAG-1</th>\n",
       "      <td>0</td>\n",
       "      <td>0</td>\n",
       "      <td>0</td>\n",
       "      <td>0</td>\n",
       "      <td>0</td>\n",
       "      <td>0</td>\n",
       "      <td>0</td>\n",
       "      <td>0</td>\n",
       "      <td>0</td>\n",
       "      <td>1</td>\n",
       "      <td>...</td>\n",
       "      <td>0</td>\n",
       "      <td>0</td>\n",
       "      <td>0</td>\n",
       "      <td>0</td>\n",
       "      <td>0</td>\n",
       "      <td>0</td>\n",
       "      <td>0</td>\n",
       "      <td>0</td>\n",
       "      <td>0</td>\n",
       "      <td>0</td>\n",
       "    </tr>\n",
       "  </tbody>\n",
       "</table>\n",
       "<p>5 rows × 22924 columns</p>\n",
       "</div>"
      ],
      "text/plain": [
       "                              3                6                8       \n",
       "gene                ENSG00000238009  ENSG00000241860  ENSG00000286448  \\\n",
       "AAACAAGTATCTCCCA-1                0                0                0   \n",
       "AAACACCAATAACTGC-1                0                0                0   \n",
       "AAACAGAGCGACTCCT-1                0                0                0   \n",
       "AAACAGCTTTCAGAAG-1                0                0                0   \n",
       "\n",
       "                              9                11         14      15      \n",
       "gene                ENSG00000236601  ENSG00000235146  LINC01409  FAM87B  \\\n",
       "AAACAAGTATCTCCCA-1                0                0          0       0   \n",
       "AAACACCAATAACTGC-1                0                0          0       0   \n",
       "AAACAGAGCGACTCCT-1                0                0          0       0   \n",
       "AAACAGCTTTCAGAAG-1                0                0          0       0   \n",
       "\n",
       "                        16         17      19     ...            37723   \n",
       "gene                LINC00115  LINC01128  FAM41C  ...  ENSG00000275249  \\\n",
       "AAACAAGTATCTCCCA-1          0          0       0  ...                0   \n",
       "AAACACCAATAACTGC-1          0          0       0  ...                0   \n",
       "AAACAGAGCGACTCCT-1          0          0       0  ...                0   \n",
       "AAACAGCTTTCAGAAG-1          0          0       1  ...                0   \n",
       "\n",
       "                              37724            37725            37726   \n",
       "gene                ENSG00000274792  ENSG00000274175  ENSG00000275869  \\\n",
       "AAACAAGTATCTCCCA-1                0                0                0   \n",
       "AAACACCAATAACTGC-1                0                0                0   \n",
       "AAACAGAGCGACTCCT-1                0                0                0   \n",
       "AAACAGCTTTCAGAAG-1                0                0                0   \n",
       "\n",
       "                              37727            37728            37729   \n",
       "gene                ENSG00000273554  ENSG00000277836  ENSG00000278633  \\\n",
       "AAACAAGTATCTCCCA-1                0                0                0   \n",
       "AAACACCAATAACTGC-1                0                0                0   \n",
       "AAACAGAGCGACTCCT-1                0                0                0   \n",
       "AAACAGCTTTCAGAAG-1                0                0                0   \n",
       "\n",
       "                              37730            37731            37732  \n",
       "gene                ENSG00000276017  ENSG00000278817  ENSG00000277196  \n",
       "AAACAAGTATCTCCCA-1                0                0                0  \n",
       "AAACACCAATAACTGC-1                0                0                0  \n",
       "AAACAGAGCGACTCCT-1                0                0                0  \n",
       "AAACAGCTTTCAGAAG-1                0                0                0  \n",
       "\n",
       "[5 rows x 22924 columns]"
      ]
     },
     "execution_count": 73,
     "metadata": {},
     "output_type": "execute_result"
    }
   ],
   "source": [
    "all_filtered2 = matrix2.T\n",
    "all_filtered2.drop(columns=blank_list2, axis=1, inplace=True)\n",
    "all_filtered2.head()"
   ]
  },
  {
   "cell_type": "markdown",
   "id": "ebb3d192",
   "metadata": {},
   "source": [
    "## 4. PCA:"
   ]
  },
  {
   "cell_type": "markdown",
   "id": "e0daa8cf-1fdd-43a7-bc49-ca5dfc881894",
   "metadata": {},
   "source": [
    "In order to do any type of *local* PCA, one will need a region of barcodes/cells to define the area in which PCA will be performed on. To do this:\n",
    "\n",
    "1. Open the correct sample in Loupe Browser (Loupe will need the corresponding cloupe file)\n",
    "2. Select a region of barcodes/cells\n",
    "3. Export this region as a CSV (you can give this region an informative name for clarity) -> This is the .csv file currently shown as `hotspot_region.csv` below"
   ]
  },
  {
   "cell_type": "markdown",
   "id": "2ebe89d1-9dd3-409b-9762-8ca6907b234d",
   "metadata": {},
   "source": [
    "For global PCA on the entire tissue sample, no need to filter out the non-region cells as the entire sample is part of your dataset."
   ]
  },
  {
   "cell_type": "code",
   "execution_count": 29,
   "id": "626b10ea",
   "metadata": {
    "tags": []
   },
   "outputs": [],
   "source": [
    "all_expr = matrix.drop(matrix.columns[[0,1,2]], axis=1)"
   ]
  },
  {
   "cell_type": "code",
   "execution_count": 30,
   "id": "22ec8352",
   "metadata": {
    "tags": []
   },
   "outputs": [
    {
     "data": {
      "text/html": [
       "<div>\n",
       "<style scoped>\n",
       "    .dataframe tbody tr th:only-of-type {\n",
       "        vertical-align: middle;\n",
       "    }\n",
       "\n",
       "    .dataframe tbody tr th {\n",
       "        vertical-align: top;\n",
       "    }\n",
       "\n",
       "    .dataframe thead th {\n",
       "        text-align: right;\n",
       "    }\n",
       "</style>\n",
       "<table border=\"1\" class=\"dataframe\">\n",
       "  <thead>\n",
       "    <tr style=\"text-align: right;\">\n",
       "      <th></th>\n",
       "      <th>AAACAAGTATCTCCCA-1</th>\n",
       "      <th>AAACAATCTACTAGCA-1</th>\n",
       "      <th>AAACAGAGCGACTCCT-1</th>\n",
       "      <th>AAACAGCTTTCAGAAG-1</th>\n",
       "      <th>AAACAGGGTCTATATT-1</th>\n",
       "      <th>AAACCCGAACGAAATC-1</th>\n",
       "      <th>AAACCGGAAATGTTAA-1</th>\n",
       "      <th>AAACCGGGTAGGTACC-1</th>\n",
       "      <th>AAACCGTTCGTCCAGG-1</th>\n",
       "      <th>AAACCTCATGAAGTTG-1</th>\n",
       "      <th>...</th>\n",
       "      <th>TTGTGGTATAGGTATG-1</th>\n",
       "      <th>TTGTGTATGCCACCAA-1</th>\n",
       "      <th>TTGTGTTTCCCGAAAG-1</th>\n",
       "      <th>TTGTTAGCAAATTCGA-1</th>\n",
       "      <th>TTGTTCAGTGTGCTAC-1</th>\n",
       "      <th>TTGTTGTGTGTCAAGA-1</th>\n",
       "      <th>TTGTTTCACATCCAGG-1</th>\n",
       "      <th>TTGTTTCATTAGTCTA-1</th>\n",
       "      <th>TTGTTTCCATACAACT-1</th>\n",
       "      <th>TTGTTTGTGTAAATTC-1</th>\n",
       "    </tr>\n",
       "  </thead>\n",
       "  <tbody>\n",
       "    <tr>\n",
       "      <th>0</th>\n",
       "      <td>0</td>\n",
       "      <td>0</td>\n",
       "      <td>0</td>\n",
       "      <td>0</td>\n",
       "      <td>0</td>\n",
       "      <td>0</td>\n",
       "      <td>0</td>\n",
       "      <td>0</td>\n",
       "      <td>0</td>\n",
       "      <td>0</td>\n",
       "      <td>...</td>\n",
       "      <td>0</td>\n",
       "      <td>0</td>\n",
       "      <td>0</td>\n",
       "      <td>0</td>\n",
       "      <td>0</td>\n",
       "      <td>0</td>\n",
       "      <td>0</td>\n",
       "      <td>0</td>\n",
       "      <td>0</td>\n",
       "      <td>0</td>\n",
       "    </tr>\n",
       "    <tr>\n",
       "      <th>1</th>\n",
       "      <td>0</td>\n",
       "      <td>0</td>\n",
       "      <td>0</td>\n",
       "      <td>0</td>\n",
       "      <td>0</td>\n",
       "      <td>0</td>\n",
       "      <td>0</td>\n",
       "      <td>0</td>\n",
       "      <td>0</td>\n",
       "      <td>0</td>\n",
       "      <td>...</td>\n",
       "      <td>0</td>\n",
       "      <td>0</td>\n",
       "      <td>0</td>\n",
       "      <td>0</td>\n",
       "      <td>0</td>\n",
       "      <td>0</td>\n",
       "      <td>0</td>\n",
       "      <td>0</td>\n",
       "      <td>0</td>\n",
       "      <td>0</td>\n",
       "    </tr>\n",
       "    <tr>\n",
       "      <th>2</th>\n",
       "      <td>0</td>\n",
       "      <td>0</td>\n",
       "      <td>0</td>\n",
       "      <td>0</td>\n",
       "      <td>0</td>\n",
       "      <td>0</td>\n",
       "      <td>0</td>\n",
       "      <td>0</td>\n",
       "      <td>0</td>\n",
       "      <td>0</td>\n",
       "      <td>...</td>\n",
       "      <td>0</td>\n",
       "      <td>0</td>\n",
       "      <td>0</td>\n",
       "      <td>0</td>\n",
       "      <td>0</td>\n",
       "      <td>0</td>\n",
       "      <td>0</td>\n",
       "      <td>0</td>\n",
       "      <td>0</td>\n",
       "      <td>0</td>\n",
       "    </tr>\n",
       "    <tr>\n",
       "      <th>3</th>\n",
       "      <td>0</td>\n",
       "      <td>0</td>\n",
       "      <td>0</td>\n",
       "      <td>0</td>\n",
       "      <td>0</td>\n",
       "      <td>0</td>\n",
       "      <td>0</td>\n",
       "      <td>0</td>\n",
       "      <td>0</td>\n",
       "      <td>0</td>\n",
       "      <td>...</td>\n",
       "      <td>0</td>\n",
       "      <td>0</td>\n",
       "      <td>0</td>\n",
       "      <td>0</td>\n",
       "      <td>0</td>\n",
       "      <td>0</td>\n",
       "      <td>0</td>\n",
       "      <td>0</td>\n",
       "      <td>0</td>\n",
       "      <td>0</td>\n",
       "    </tr>\n",
       "    <tr>\n",
       "      <th>4</th>\n",
       "      <td>0</td>\n",
       "      <td>0</td>\n",
       "      <td>0</td>\n",
       "      <td>0</td>\n",
       "      <td>0</td>\n",
       "      <td>0</td>\n",
       "      <td>0</td>\n",
       "      <td>0</td>\n",
       "      <td>0</td>\n",
       "      <td>0</td>\n",
       "      <td>...</td>\n",
       "      <td>0</td>\n",
       "      <td>0</td>\n",
       "      <td>0</td>\n",
       "      <td>0</td>\n",
       "      <td>0</td>\n",
       "      <td>0</td>\n",
       "      <td>0</td>\n",
       "      <td>0</td>\n",
       "      <td>0</td>\n",
       "      <td>0</td>\n",
       "    </tr>\n",
       "    <tr>\n",
       "      <th>...</th>\n",
       "      <td>...</td>\n",
       "      <td>...</td>\n",
       "      <td>...</td>\n",
       "      <td>...</td>\n",
       "      <td>...</td>\n",
       "      <td>...</td>\n",
       "      <td>...</td>\n",
       "      <td>...</td>\n",
       "      <td>...</td>\n",
       "      <td>...</td>\n",
       "      <td>...</td>\n",
       "      <td>...</td>\n",
       "      <td>...</td>\n",
       "      <td>...</td>\n",
       "      <td>...</td>\n",
       "      <td>...</td>\n",
       "      <td>...</td>\n",
       "      <td>...</td>\n",
       "      <td>...</td>\n",
       "      <td>...</td>\n",
       "      <td>...</td>\n",
       "    </tr>\n",
       "    <tr>\n",
       "      <th>37728</th>\n",
       "      <td>0</td>\n",
       "      <td>0</td>\n",
       "      <td>0</td>\n",
       "      <td>0</td>\n",
       "      <td>0</td>\n",
       "      <td>0</td>\n",
       "      <td>0</td>\n",
       "      <td>0</td>\n",
       "      <td>0</td>\n",
       "      <td>0</td>\n",
       "      <td>...</td>\n",
       "      <td>0</td>\n",
       "      <td>0</td>\n",
       "      <td>0</td>\n",
       "      <td>0</td>\n",
       "      <td>0</td>\n",
       "      <td>0</td>\n",
       "      <td>0</td>\n",
       "      <td>0</td>\n",
       "      <td>0</td>\n",
       "      <td>0</td>\n",
       "    </tr>\n",
       "    <tr>\n",
       "      <th>37729</th>\n",
       "      <td>0</td>\n",
       "      <td>0</td>\n",
       "      <td>0</td>\n",
       "      <td>0</td>\n",
       "      <td>0</td>\n",
       "      <td>0</td>\n",
       "      <td>0</td>\n",
       "      <td>0</td>\n",
       "      <td>0</td>\n",
       "      <td>0</td>\n",
       "      <td>...</td>\n",
       "      <td>0</td>\n",
       "      <td>0</td>\n",
       "      <td>0</td>\n",
       "      <td>0</td>\n",
       "      <td>0</td>\n",
       "      <td>0</td>\n",
       "      <td>0</td>\n",
       "      <td>0</td>\n",
       "      <td>0</td>\n",
       "      <td>0</td>\n",
       "    </tr>\n",
       "    <tr>\n",
       "      <th>37730</th>\n",
       "      <td>0</td>\n",
       "      <td>0</td>\n",
       "      <td>0</td>\n",
       "      <td>0</td>\n",
       "      <td>0</td>\n",
       "      <td>0</td>\n",
       "      <td>0</td>\n",
       "      <td>0</td>\n",
       "      <td>0</td>\n",
       "      <td>0</td>\n",
       "      <td>...</td>\n",
       "      <td>0</td>\n",
       "      <td>0</td>\n",
       "      <td>0</td>\n",
       "      <td>0</td>\n",
       "      <td>0</td>\n",
       "      <td>0</td>\n",
       "      <td>0</td>\n",
       "      <td>0</td>\n",
       "      <td>0</td>\n",
       "      <td>0</td>\n",
       "    </tr>\n",
       "    <tr>\n",
       "      <th>37731</th>\n",
       "      <td>1</td>\n",
       "      <td>0</td>\n",
       "      <td>1</td>\n",
       "      <td>0</td>\n",
       "      <td>1</td>\n",
       "      <td>0</td>\n",
       "      <td>0</td>\n",
       "      <td>1</td>\n",
       "      <td>0</td>\n",
       "      <td>0</td>\n",
       "      <td>...</td>\n",
       "      <td>0</td>\n",
       "      <td>0</td>\n",
       "      <td>0</td>\n",
       "      <td>0</td>\n",
       "      <td>0</td>\n",
       "      <td>0</td>\n",
       "      <td>0</td>\n",
       "      <td>0</td>\n",
       "      <td>0</td>\n",
       "      <td>1</td>\n",
       "    </tr>\n",
       "    <tr>\n",
       "      <th>37732</th>\n",
       "      <td>0</td>\n",
       "      <td>0</td>\n",
       "      <td>0</td>\n",
       "      <td>0</td>\n",
       "      <td>0</td>\n",
       "      <td>0</td>\n",
       "      <td>0</td>\n",
       "      <td>0</td>\n",
       "      <td>0</td>\n",
       "      <td>0</td>\n",
       "      <td>...</td>\n",
       "      <td>0</td>\n",
       "      <td>0</td>\n",
       "      <td>0</td>\n",
       "      <td>0</td>\n",
       "      <td>0</td>\n",
       "      <td>0</td>\n",
       "      <td>0</td>\n",
       "      <td>0</td>\n",
       "      <td>0</td>\n",
       "      <td>0</td>\n",
       "    </tr>\n",
       "  </tbody>\n",
       "</table>\n",
       "<p>37733 rows × 3524 columns</p>\n",
       "</div>"
      ],
      "text/plain": [
       "       AAACAAGTATCTCCCA-1  AAACAATCTACTAGCA-1  AAACAGAGCGACTCCT-1   \n",
       "0                       0                   0                   0  \\\n",
       "1                       0                   0                   0   \n",
       "2                       0                   0                   0   \n",
       "3                       0                   0                   0   \n",
       "4                       0                   0                   0   \n",
       "...                   ...                 ...                 ...   \n",
       "37728                   0                   0                   0   \n",
       "37729                   0                   0                   0   \n",
       "37730                   0                   0                   0   \n",
       "37731                   1                   0                   1   \n",
       "37732                   0                   0                   0   \n",
       "\n",
       "       AAACAGCTTTCAGAAG-1  AAACAGGGTCTATATT-1  AAACCCGAACGAAATC-1   \n",
       "0                       0                   0                   0  \\\n",
       "1                       0                   0                   0   \n",
       "2                       0                   0                   0   \n",
       "3                       0                   0                   0   \n",
       "4                       0                   0                   0   \n",
       "...                   ...                 ...                 ...   \n",
       "37728                   0                   0                   0   \n",
       "37729                   0                   0                   0   \n",
       "37730                   0                   0                   0   \n",
       "37731                   0                   1                   0   \n",
       "37732                   0                   0                   0   \n",
       "\n",
       "       AAACCGGAAATGTTAA-1  AAACCGGGTAGGTACC-1  AAACCGTTCGTCCAGG-1   \n",
       "0                       0                   0                   0  \\\n",
       "1                       0                   0                   0   \n",
       "2                       0                   0                   0   \n",
       "3                       0                   0                   0   \n",
       "4                       0                   0                   0   \n",
       "...                   ...                 ...                 ...   \n",
       "37728                   0                   0                   0   \n",
       "37729                   0                   0                   0   \n",
       "37730                   0                   0                   0   \n",
       "37731                   0                   1                   0   \n",
       "37732                   0                   0                   0   \n",
       "\n",
       "       AAACCTCATGAAGTTG-1  ...  TTGTGGTATAGGTATG-1  TTGTGTATGCCACCAA-1   \n",
       "0                       0  ...                   0                   0  \\\n",
       "1                       0  ...                   0                   0   \n",
       "2                       0  ...                   0                   0   \n",
       "3                       0  ...                   0                   0   \n",
       "4                       0  ...                   0                   0   \n",
       "...                   ...  ...                 ...                 ...   \n",
       "37728                   0  ...                   0                   0   \n",
       "37729                   0  ...                   0                   0   \n",
       "37730                   0  ...                   0                   0   \n",
       "37731                   0  ...                   0                   0   \n",
       "37732                   0  ...                   0                   0   \n",
       "\n",
       "       TTGTGTTTCCCGAAAG-1  TTGTTAGCAAATTCGA-1  TTGTTCAGTGTGCTAC-1   \n",
       "0                       0                   0                   0  \\\n",
       "1                       0                   0                   0   \n",
       "2                       0                   0                   0   \n",
       "3                       0                   0                   0   \n",
       "4                       0                   0                   0   \n",
       "...                   ...                 ...                 ...   \n",
       "37728                   0                   0                   0   \n",
       "37729                   0                   0                   0   \n",
       "37730                   0                   0                   0   \n",
       "37731                   0                   0                   0   \n",
       "37732                   0                   0                   0   \n",
       "\n",
       "       TTGTTGTGTGTCAAGA-1  TTGTTTCACATCCAGG-1  TTGTTTCATTAGTCTA-1   \n",
       "0                       0                   0                   0  \\\n",
       "1                       0                   0                   0   \n",
       "2                       0                   0                   0   \n",
       "3                       0                   0                   0   \n",
       "4                       0                   0                   0   \n",
       "...                   ...                 ...                 ...   \n",
       "37728                   0                   0                   0   \n",
       "37729                   0                   0                   0   \n",
       "37730                   0                   0                   0   \n",
       "37731                   0                   0                   0   \n",
       "37732                   0                   0                   0   \n",
       "\n",
       "       TTGTTTCCATACAACT-1  TTGTTTGTGTAAATTC-1  \n",
       "0                       0                   0  \n",
       "1                       0                   0  \n",
       "2                       0                   0  \n",
       "3                       0                   0  \n",
       "4                       0                   0  \n",
       "...                   ...                 ...  \n",
       "37728                   0                   0  \n",
       "37729                   0                   0  \n",
       "37730                   0                   0  \n",
       "37731                   0                   1  \n",
       "37732                   0                   0  \n",
       "\n",
       "[37733 rows x 3524 columns]"
      ]
     },
     "execution_count": 30,
     "metadata": {},
     "output_type": "execute_result"
    }
   ],
   "source": [
    "all_expr"
   ]
  },
  {
   "cell_type": "code",
   "execution_count": 31,
   "id": "676f1636",
   "metadata": {
    "tags": []
   },
   "outputs": [],
   "source": [
    "all_names = matrix[matrix.columns[[0,1,2]]]"
   ]
  },
  {
   "cell_type": "code",
   "execution_count": 32,
   "id": "62a31561",
   "metadata": {
    "tags": []
   },
   "outputs": [
    {
     "data": {
      "text/html": [
       "<div>\n",
       "<style scoped>\n",
       "    .dataframe tbody tr th:only-of-type {\n",
       "        vertical-align: middle;\n",
       "    }\n",
       "\n",
       "    .dataframe tbody tr th {\n",
       "        vertical-align: top;\n",
       "    }\n",
       "\n",
       "    .dataframe thead th {\n",
       "        text-align: right;\n",
       "    }\n",
       "</style>\n",
       "<table border=\"1\" class=\"dataframe\">\n",
       "  <thead>\n",
       "    <tr style=\"text-align: right;\">\n",
       "      <th></th>\n",
       "      <th>feature_id</th>\n",
       "      <th>gene</th>\n",
       "      <th>feature_type</th>\n",
       "    </tr>\n",
       "  </thead>\n",
       "  <tbody>\n",
       "    <tr>\n",
       "      <th>0</th>\n",
       "      <td>ENSG00000243485</td>\n",
       "      <td>MIR1302-2HG</td>\n",
       "      <td>Gene Expression</td>\n",
       "    </tr>\n",
       "    <tr>\n",
       "      <th>1</th>\n",
       "      <td>ENSG00000237613</td>\n",
       "      <td>FAM138A</td>\n",
       "      <td>Gene Expression</td>\n",
       "    </tr>\n",
       "    <tr>\n",
       "      <th>2</th>\n",
       "      <td>ENSG00000186092</td>\n",
       "      <td>OR4F5</td>\n",
       "      <td>Gene Expression</td>\n",
       "    </tr>\n",
       "    <tr>\n",
       "      <th>3</th>\n",
       "      <td>ENSG00000238009</td>\n",
       "      <td>ENSG00000238009</td>\n",
       "      <td>Gene Expression</td>\n",
       "    </tr>\n",
       "    <tr>\n",
       "      <th>4</th>\n",
       "      <td>ENSG00000239945</td>\n",
       "      <td>ENSG00000239945</td>\n",
       "      <td>Gene Expression</td>\n",
       "    </tr>\n",
       "    <tr>\n",
       "      <th>...</th>\n",
       "      <td>...</td>\n",
       "      <td>...</td>\n",
       "      <td>...</td>\n",
       "    </tr>\n",
       "    <tr>\n",
       "      <th>37728</th>\n",
       "      <td>ENSG00000277836</td>\n",
       "      <td>ENSG00000277836</td>\n",
       "      <td>Gene Expression</td>\n",
       "    </tr>\n",
       "    <tr>\n",
       "      <th>37729</th>\n",
       "      <td>ENSG00000278633</td>\n",
       "      <td>ENSG00000278633</td>\n",
       "      <td>Gene Expression</td>\n",
       "    </tr>\n",
       "    <tr>\n",
       "      <th>37730</th>\n",
       "      <td>ENSG00000276017</td>\n",
       "      <td>ENSG00000276017</td>\n",
       "      <td>Gene Expression</td>\n",
       "    </tr>\n",
       "    <tr>\n",
       "      <th>37731</th>\n",
       "      <td>ENSG00000278817</td>\n",
       "      <td>ENSG00000278817</td>\n",
       "      <td>Gene Expression</td>\n",
       "    </tr>\n",
       "    <tr>\n",
       "      <th>37732</th>\n",
       "      <td>ENSG00000277196</td>\n",
       "      <td>ENSG00000277196</td>\n",
       "      <td>Gene Expression</td>\n",
       "    </tr>\n",
       "  </tbody>\n",
       "</table>\n",
       "<p>37733 rows × 3 columns</p>\n",
       "</div>"
      ],
      "text/plain": [
       "            feature_id             gene     feature_type\n",
       "0      ENSG00000243485      MIR1302-2HG  Gene Expression\n",
       "1      ENSG00000237613          FAM138A  Gene Expression\n",
       "2      ENSG00000186092            OR4F5  Gene Expression\n",
       "3      ENSG00000238009  ENSG00000238009  Gene Expression\n",
       "4      ENSG00000239945  ENSG00000239945  Gene Expression\n",
       "...                ...              ...              ...\n",
       "37728  ENSG00000277836  ENSG00000277836  Gene Expression\n",
       "37729  ENSG00000278633  ENSG00000278633  Gene Expression\n",
       "37730  ENSG00000276017  ENSG00000276017  Gene Expression\n",
       "37731  ENSG00000278817  ENSG00000278817  Gene Expression\n",
       "37732  ENSG00000277196  ENSG00000277196  Gene Expression\n",
       "\n",
       "[37733 rows x 3 columns]"
      ]
     },
     "execution_count": 32,
     "metadata": {},
     "output_type": "execute_result"
    }
   ],
   "source": [
    "all_names"
   ]
  },
  {
   "cell_type": "code",
   "execution_count": 33,
   "id": "3b8e273e",
   "metadata": {
    "tags": []
   },
   "outputs": [
    {
     "data": {
      "text/html": [
       "<div>\n",
       "<style scoped>\n",
       "    .dataframe tbody tr th:only-of-type {\n",
       "        vertical-align: middle;\n",
       "    }\n",
       "\n",
       "    .dataframe tbody tr th {\n",
       "        vertical-align: top;\n",
       "    }\n",
       "\n",
       "    .dataframe thead th {\n",
       "        text-align: right;\n",
       "    }\n",
       "</style>\n",
       "<table border=\"1\" class=\"dataframe\">\n",
       "  <thead>\n",
       "    <tr style=\"text-align: right;\">\n",
       "      <th></th>\n",
       "      <th>AAACAAGTATCTCCCA-1</th>\n",
       "      <th>AAACAATCTACTAGCA-1</th>\n",
       "      <th>AAACAGAGCGACTCCT-1</th>\n",
       "      <th>AAACAGCTTTCAGAAG-1</th>\n",
       "      <th>AAACAGGGTCTATATT-1</th>\n",
       "      <th>AAACCCGAACGAAATC-1</th>\n",
       "      <th>AAACCGGAAATGTTAA-1</th>\n",
       "      <th>AAACCGGGTAGGTACC-1</th>\n",
       "      <th>AAACCGTTCGTCCAGG-1</th>\n",
       "      <th>AAACCTCATGAAGTTG-1</th>\n",
       "      <th>...</th>\n",
       "      <th>TTGTGGTATAGGTATG-1</th>\n",
       "      <th>TTGTGTATGCCACCAA-1</th>\n",
       "      <th>TTGTGTTTCCCGAAAG-1</th>\n",
       "      <th>TTGTTAGCAAATTCGA-1</th>\n",
       "      <th>TTGTTCAGTGTGCTAC-1</th>\n",
       "      <th>TTGTTGTGTGTCAAGA-1</th>\n",
       "      <th>TTGTTTCACATCCAGG-1</th>\n",
       "      <th>TTGTTTCATTAGTCTA-1</th>\n",
       "      <th>TTGTTTCCATACAACT-1</th>\n",
       "      <th>TTGTTTGTGTAAATTC-1</th>\n",
       "    </tr>\n",
       "  </thead>\n",
       "  <tbody>\n",
       "    <tr>\n",
       "      <th>3</th>\n",
       "      <td>0</td>\n",
       "      <td>0</td>\n",
       "      <td>0</td>\n",
       "      <td>0</td>\n",
       "      <td>0</td>\n",
       "      <td>0</td>\n",
       "      <td>0</td>\n",
       "      <td>0</td>\n",
       "      <td>0</td>\n",
       "      <td>0</td>\n",
       "      <td>...</td>\n",
       "      <td>0</td>\n",
       "      <td>0</td>\n",
       "      <td>0</td>\n",
       "      <td>0</td>\n",
       "      <td>0</td>\n",
       "      <td>0</td>\n",
       "      <td>0</td>\n",
       "      <td>0</td>\n",
       "      <td>0</td>\n",
       "      <td>0</td>\n",
       "    </tr>\n",
       "    <tr>\n",
       "      <th>6</th>\n",
       "      <td>0</td>\n",
       "      <td>0</td>\n",
       "      <td>0</td>\n",
       "      <td>0</td>\n",
       "      <td>0</td>\n",
       "      <td>0</td>\n",
       "      <td>0</td>\n",
       "      <td>0</td>\n",
       "      <td>0</td>\n",
       "      <td>0</td>\n",
       "      <td>...</td>\n",
       "      <td>0</td>\n",
       "      <td>0</td>\n",
       "      <td>1</td>\n",
       "      <td>0</td>\n",
       "      <td>0</td>\n",
       "      <td>0</td>\n",
       "      <td>0</td>\n",
       "      <td>0</td>\n",
       "      <td>0</td>\n",
       "      <td>0</td>\n",
       "    </tr>\n",
       "    <tr>\n",
       "      <th>8</th>\n",
       "      <td>0</td>\n",
       "      <td>0</td>\n",
       "      <td>0</td>\n",
       "      <td>0</td>\n",
       "      <td>0</td>\n",
       "      <td>0</td>\n",
       "      <td>0</td>\n",
       "      <td>0</td>\n",
       "      <td>0</td>\n",
       "      <td>0</td>\n",
       "      <td>...</td>\n",
       "      <td>0</td>\n",
       "      <td>0</td>\n",
       "      <td>0</td>\n",
       "      <td>0</td>\n",
       "      <td>0</td>\n",
       "      <td>0</td>\n",
       "      <td>0</td>\n",
       "      <td>0</td>\n",
       "      <td>0</td>\n",
       "      <td>0</td>\n",
       "    </tr>\n",
       "    <tr>\n",
       "      <th>9</th>\n",
       "      <td>0</td>\n",
       "      <td>0</td>\n",
       "      <td>0</td>\n",
       "      <td>0</td>\n",
       "      <td>0</td>\n",
       "      <td>0</td>\n",
       "      <td>0</td>\n",
       "      <td>0</td>\n",
       "      <td>0</td>\n",
       "      <td>0</td>\n",
       "      <td>...</td>\n",
       "      <td>0</td>\n",
       "      <td>0</td>\n",
       "      <td>0</td>\n",
       "      <td>0</td>\n",
       "      <td>0</td>\n",
       "      <td>0</td>\n",
       "      <td>0</td>\n",
       "      <td>0</td>\n",
       "      <td>0</td>\n",
       "      <td>0</td>\n",
       "    </tr>\n",
       "    <tr>\n",
       "      <th>11</th>\n",
       "      <td>0</td>\n",
       "      <td>0</td>\n",
       "      <td>0</td>\n",
       "      <td>0</td>\n",
       "      <td>0</td>\n",
       "      <td>0</td>\n",
       "      <td>0</td>\n",
       "      <td>0</td>\n",
       "      <td>0</td>\n",
       "      <td>0</td>\n",
       "      <td>...</td>\n",
       "      <td>0</td>\n",
       "      <td>0</td>\n",
       "      <td>0</td>\n",
       "      <td>0</td>\n",
       "      <td>0</td>\n",
       "      <td>0</td>\n",
       "      <td>0</td>\n",
       "      <td>0</td>\n",
       "      <td>0</td>\n",
       "      <td>0</td>\n",
       "    </tr>\n",
       "  </tbody>\n",
       "</table>\n",
       "<p>5 rows × 3524 columns</p>\n",
       "</div>"
      ],
      "text/plain": [
       "    AAACAAGTATCTCCCA-1  AAACAATCTACTAGCA-1  AAACAGAGCGACTCCT-1   \n",
       "3                    0                   0                   0  \\\n",
       "6                    0                   0                   0   \n",
       "8                    0                   0                   0   \n",
       "9                    0                   0                   0   \n",
       "11                   0                   0                   0   \n",
       "\n",
       "    AAACAGCTTTCAGAAG-1  AAACAGGGTCTATATT-1  AAACCCGAACGAAATC-1   \n",
       "3                    0                   0                   0  \\\n",
       "6                    0                   0                   0   \n",
       "8                    0                   0                   0   \n",
       "9                    0                   0                   0   \n",
       "11                   0                   0                   0   \n",
       "\n",
       "    AAACCGGAAATGTTAA-1  AAACCGGGTAGGTACC-1  AAACCGTTCGTCCAGG-1   \n",
       "3                    0                   0                   0  \\\n",
       "6                    0                   0                   0   \n",
       "8                    0                   0                   0   \n",
       "9                    0                   0                   0   \n",
       "11                   0                   0                   0   \n",
       "\n",
       "    AAACCTCATGAAGTTG-1  ...  TTGTGGTATAGGTATG-1  TTGTGTATGCCACCAA-1   \n",
       "3                    0  ...                   0                   0  \\\n",
       "6                    0  ...                   0                   0   \n",
       "8                    0  ...                   0                   0   \n",
       "9                    0  ...                   0                   0   \n",
       "11                   0  ...                   0                   0   \n",
       "\n",
       "    TTGTGTTTCCCGAAAG-1  TTGTTAGCAAATTCGA-1  TTGTTCAGTGTGCTAC-1   \n",
       "3                    0                   0                   0  \\\n",
       "6                    1                   0                   0   \n",
       "8                    0                   0                   0   \n",
       "9                    0                   0                   0   \n",
       "11                   0                   0                   0   \n",
       "\n",
       "    TTGTTGTGTGTCAAGA-1  TTGTTTCACATCCAGG-1  TTGTTTCATTAGTCTA-1   \n",
       "3                    0                   0                   0  \\\n",
       "6                    0                   0                   0   \n",
       "8                    0                   0                   0   \n",
       "9                    0                   0                   0   \n",
       "11                   0                   0                   0   \n",
       "\n",
       "    TTGTTTCCATACAACT-1  TTGTTTGTGTAAATTC-1  \n",
       "3                    0                   0  \n",
       "6                    0                   0  \n",
       "8                    0                   0  \n",
       "9                    0                   0  \n",
       "11                   0                   0  \n",
       "\n",
       "[5 rows x 3524 columns]"
      ]
     },
     "execution_count": 33,
     "metadata": {},
     "output_type": "execute_result"
    }
   ],
   "source": [
    "filtered_expr = all_expr.drop(index=blank_list)\n",
    "filtered_expr.head()"
   ]
  },
  {
   "cell_type": "code",
   "execution_count": 34,
   "id": "067fdd35",
   "metadata": {
    "tags": []
   },
   "outputs": [
    {
     "data": {
      "text/plain": [
       "3        0\n",
       "6        0\n",
       "8        0\n",
       "9        0\n",
       "11       0\n",
       "        ..\n",
       "37728    0\n",
       "37729    0\n",
       "37730    0\n",
       "37731    1\n",
       "37732    0\n",
       "Name: AAACAAGTATCTCCCA-1, Length: 23711, dtype: int64"
      ]
     },
     "execution_count": 34,
     "metadata": {},
     "output_type": "execute_result"
    }
   ],
   "source": [
    "filtered_expr.iloc[:,0]"
   ]
  },
  {
   "cell_type": "code",
   "execution_count": 35,
   "id": "42fcb376",
   "metadata": {
    "tags": []
   },
   "outputs": [
    {
     "data": {
      "text/html": [
       "<div>\n",
       "<style scoped>\n",
       "    .dataframe tbody tr th:only-of-type {\n",
       "        vertical-align: middle;\n",
       "    }\n",
       "\n",
       "    .dataframe tbody tr th {\n",
       "        vertical-align: top;\n",
       "    }\n",
       "\n",
       "    .dataframe thead th {\n",
       "        text-align: right;\n",
       "    }\n",
       "</style>\n",
       "<table border=\"1\" class=\"dataframe\">\n",
       "  <thead>\n",
       "    <tr style=\"text-align: right;\">\n",
       "      <th></th>\n",
       "      <th>feature_id</th>\n",
       "      <th>gene</th>\n",
       "      <th>feature_type</th>\n",
       "    </tr>\n",
       "  </thead>\n",
       "  <tbody>\n",
       "    <tr>\n",
       "      <th>3</th>\n",
       "      <td>ENSG00000238009</td>\n",
       "      <td>ENSG00000238009</td>\n",
       "      <td>Gene Expression</td>\n",
       "    </tr>\n",
       "    <tr>\n",
       "      <th>6</th>\n",
       "      <td>ENSG00000241860</td>\n",
       "      <td>ENSG00000241860</td>\n",
       "      <td>Gene Expression</td>\n",
       "    </tr>\n",
       "    <tr>\n",
       "      <th>8</th>\n",
       "      <td>ENSG00000286448</td>\n",
       "      <td>ENSG00000286448</td>\n",
       "      <td>Gene Expression</td>\n",
       "    </tr>\n",
       "    <tr>\n",
       "      <th>9</th>\n",
       "      <td>ENSG00000236601</td>\n",
       "      <td>ENSG00000236601</td>\n",
       "      <td>Gene Expression</td>\n",
       "    </tr>\n",
       "    <tr>\n",
       "      <th>11</th>\n",
       "      <td>ENSG00000235146</td>\n",
       "      <td>ENSG00000235146</td>\n",
       "      <td>Gene Expression</td>\n",
       "    </tr>\n",
       "  </tbody>\n",
       "</table>\n",
       "</div>"
      ],
      "text/plain": [
       "         feature_id             gene     feature_type\n",
       "3   ENSG00000238009  ENSG00000238009  Gene Expression\n",
       "6   ENSG00000241860  ENSG00000241860  Gene Expression\n",
       "8   ENSG00000286448  ENSG00000286448  Gene Expression\n",
       "9   ENSG00000236601  ENSG00000236601  Gene Expression\n",
       "11  ENSG00000235146  ENSG00000235146  Gene Expression"
      ]
     },
     "execution_count": 35,
     "metadata": {},
     "output_type": "execute_result"
    }
   ],
   "source": [
    "filtered_names = all_names.drop(index=blank_list)\n",
    "filtered_names.head()"
   ]
  },
  {
   "cell_type": "markdown",
   "id": "0e93bc51-534f-4bf6-9bdd-16821259b6f7",
   "metadata": {},
   "source": [
    "When doing global PCA, you can comment out the next few cells that deal with filtering out \"non-region\" barcodes."
   ]
  },
  {
   "cell_type": "code",
   "execution_count": 36,
   "id": "545569c7",
   "metadata": {
    "tags": []
   },
   "outputs": [
    {
     "data": {
      "text/html": [
       "<div>\n",
       "<style scoped>\n",
       "    .dataframe tbody tr th:only-of-type {\n",
       "        vertical-align: middle;\n",
       "    }\n",
       "\n",
       "    .dataframe tbody tr th {\n",
       "        vertical-align: top;\n",
       "    }\n",
       "\n",
       "    .dataframe thead th {\n",
       "        text-align: right;\n",
       "    }\n",
       "</style>\n",
       "<table border=\"1\" class=\"dataframe\">\n",
       "  <thead>\n",
       "    <tr style=\"text-align: right;\">\n",
       "      <th></th>\n",
       "      <th>Barcode</th>\n",
       "      <th>Graph-based</th>\n",
       "    </tr>\n",
       "  </thead>\n",
       "  <tbody>\n",
       "    <tr>\n",
       "      <th>0</th>\n",
       "      <td>AAACAGCTTTCAGAAG-1</td>\n",
       "      <td>Cluster 2</td>\n",
       "    </tr>\n",
       "    <tr>\n",
       "      <th>1</th>\n",
       "      <td>AAACAGGGTCTATATT-1</td>\n",
       "      <td>Cluster 2</td>\n",
       "    </tr>\n",
       "    <tr>\n",
       "      <th>2</th>\n",
       "      <td>AAACCGGGTAGGTACC-1</td>\n",
       "      <td>Cluster 2</td>\n",
       "    </tr>\n",
       "    <tr>\n",
       "      <th>3</th>\n",
       "      <td>AAACCGTTCGTCCAGG-1</td>\n",
       "      <td>Cluster 2</td>\n",
       "    </tr>\n",
       "    <tr>\n",
       "      <th>4</th>\n",
       "      <td>AAACCTCATGAAGTTG-1</td>\n",
       "      <td>Cluster 2</td>\n",
       "    </tr>\n",
       "  </tbody>\n",
       "</table>\n",
       "</div>"
      ],
      "text/plain": [
       "              Barcode Graph-based\n",
       "0  AAACAGCTTTCAGAAG-1   Cluster 2\n",
       "1  AAACAGGGTCTATATT-1   Cluster 2\n",
       "2  AAACCGGGTAGGTACC-1   Cluster 2\n",
       "3  AAACCGTTCGTCCAGG-1   Cluster 2\n",
       "4  AAACCTCATGAAGTTG-1   Cluster 2"
      ]
     },
     "execution_count": 36,
     "metadata": {},
     "output_type": "execute_result"
    }
   ],
   "source": [
    "hotspot_region = pd.read_csv(\"hotspot_region.csv\")\n",
    "hotspot_region.head()"
   ]
  },
  {
   "cell_type": "code",
   "execution_count": 42,
   "id": "082dca05",
   "metadata": {
    "tags": []
   },
   "outputs": [
    {
     "name": "stdout",
     "output_type": "stream",
     "text": [
      "583\n"
     ]
    }
   ],
   "source": [
    "barcodes = list(hotspot_region[\"Barcode\"])\n",
    "print(len(barcodes))"
   ]
  },
  {
   "cell_type": "code",
   "execution_count": 39,
   "id": "11672043",
   "metadata": {
    "tags": []
   },
   "outputs": [
    {
     "data": {
      "text/plain": [
       "(23711, 3524)"
      ]
     },
     "execution_count": 39,
     "metadata": {},
     "output_type": "execute_result"
    }
   ],
   "source": [
    "filtered_expr.shape"
   ]
  },
  {
   "cell_type": "code",
   "execution_count": 40,
   "id": "e9dcd327",
   "metadata": {
    "tags": []
   },
   "outputs": [],
   "source": [
    "filtered_expr.drop(columns=[col for col in filtered_expr if col not in barcodes], inplace=True)"
   ]
  },
  {
   "cell_type": "code",
   "execution_count": 41,
   "id": "92120a87",
   "metadata": {
    "tags": []
   },
   "outputs": [
    {
     "data": {
      "text/plain": [
       "(23711, 583)"
      ]
     },
     "execution_count": 41,
     "metadata": {},
     "output_type": "execute_result"
    }
   ],
   "source": [
    "filtered_expr.shape"
   ]
  },
  {
   "cell_type": "code",
   "execution_count": 43,
   "id": "f62a54d8",
   "metadata": {
    "tags": []
   },
   "outputs": [],
   "source": [
    "feature_mat = filtered_expr.T\n",
    "#print(feature_mat.head())\n",
    "feature_mat = np.array(feature_mat)"
   ]
  },
  {
   "cell_type": "code",
   "execution_count": 44,
   "id": "4cc3155d",
   "metadata": {
    "tags": []
   },
   "outputs": [
    {
     "data": {
      "text/html": [
       "<style>#sk-container-id-1 {color: black;background-color: white;}#sk-container-id-1 pre{padding: 0;}#sk-container-id-1 div.sk-toggleable {background-color: white;}#sk-container-id-1 label.sk-toggleable__label {cursor: pointer;display: block;width: 100%;margin-bottom: 0;padding: 0.3em;box-sizing: border-box;text-align: center;}#sk-container-id-1 label.sk-toggleable__label-arrow:before {content: \"▸\";float: left;margin-right: 0.25em;color: #696969;}#sk-container-id-1 label.sk-toggleable__label-arrow:hover:before {color: black;}#sk-container-id-1 div.sk-estimator:hover label.sk-toggleable__label-arrow:before {color: black;}#sk-container-id-1 div.sk-toggleable__content {max-height: 0;max-width: 0;overflow: hidden;text-align: left;background-color: #f0f8ff;}#sk-container-id-1 div.sk-toggleable__content pre {margin: 0.2em;color: black;border-radius: 0.25em;background-color: #f0f8ff;}#sk-container-id-1 input.sk-toggleable__control:checked~div.sk-toggleable__content {max-height: 200px;max-width: 100%;overflow: auto;}#sk-container-id-1 input.sk-toggleable__control:checked~label.sk-toggleable__label-arrow:before {content: \"▾\";}#sk-container-id-1 div.sk-estimator input.sk-toggleable__control:checked~label.sk-toggleable__label {background-color: #d4ebff;}#sk-container-id-1 div.sk-label input.sk-toggleable__control:checked~label.sk-toggleable__label {background-color: #d4ebff;}#sk-container-id-1 input.sk-hidden--visually {border: 0;clip: rect(1px 1px 1px 1px);clip: rect(1px, 1px, 1px, 1px);height: 1px;margin: -1px;overflow: hidden;padding: 0;position: absolute;width: 1px;}#sk-container-id-1 div.sk-estimator {font-family: monospace;background-color: #f0f8ff;border: 1px dotted black;border-radius: 0.25em;box-sizing: border-box;margin-bottom: 0.5em;}#sk-container-id-1 div.sk-estimator:hover {background-color: #d4ebff;}#sk-container-id-1 div.sk-parallel-item::after {content: \"\";width: 100%;border-bottom: 1px solid gray;flex-grow: 1;}#sk-container-id-1 div.sk-label:hover label.sk-toggleable__label {background-color: #d4ebff;}#sk-container-id-1 div.sk-serial::before {content: \"\";position: absolute;border-left: 1px solid gray;box-sizing: border-box;top: 0;bottom: 0;left: 50%;z-index: 0;}#sk-container-id-1 div.sk-serial {display: flex;flex-direction: column;align-items: center;background-color: white;padding-right: 0.2em;padding-left: 0.2em;position: relative;}#sk-container-id-1 div.sk-item {position: relative;z-index: 1;}#sk-container-id-1 div.sk-parallel {display: flex;align-items: stretch;justify-content: center;background-color: white;position: relative;}#sk-container-id-1 div.sk-item::before, #sk-container-id-1 div.sk-parallel-item::before {content: \"\";position: absolute;border-left: 1px solid gray;box-sizing: border-box;top: 0;bottom: 0;left: 50%;z-index: -1;}#sk-container-id-1 div.sk-parallel-item {display: flex;flex-direction: column;z-index: 1;position: relative;background-color: white;}#sk-container-id-1 div.sk-parallel-item:first-child::after {align-self: flex-end;width: 50%;}#sk-container-id-1 div.sk-parallel-item:last-child::after {align-self: flex-start;width: 50%;}#sk-container-id-1 div.sk-parallel-item:only-child::after {width: 0;}#sk-container-id-1 div.sk-dashed-wrapped {border: 1px dashed gray;margin: 0 0.4em 0.5em 0.4em;box-sizing: border-box;padding-bottom: 0.4em;background-color: white;}#sk-container-id-1 div.sk-label label {font-family: monospace;font-weight: bold;display: inline-block;line-height: 1.2em;}#sk-container-id-1 div.sk-label-container {text-align: center;}#sk-container-id-1 div.sk-container {/* jupyter's `normalize.less` sets `[hidden] { display: none; }` but bootstrap.min.css set `[hidden] { display: none !important; }` so we also need the `!important` here to be able to override the default hidden behavior on the sphinx rendered scikit-learn.org. See: https://github.com/scikit-learn/scikit-learn/issues/21755 */display: inline-block !important;position: relative;}#sk-container-id-1 div.sk-text-repr-fallback {display: none;}</style><div id=\"sk-container-id-1\" class=\"sk-top-container\"><div class=\"sk-text-repr-fallback\"><pre>PCA(n_components=4)</pre><b>In a Jupyter environment, please rerun this cell to show the HTML representation or trust the notebook. <br />On GitHub, the HTML representation is unable to render, please try loading this page with nbviewer.org.</b></div><div class=\"sk-container\" hidden><div class=\"sk-item\"><div class=\"sk-estimator sk-toggleable\"><input class=\"sk-toggleable__control sk-hidden--visually\" id=\"sk-estimator-id-1\" type=\"checkbox\" checked><label for=\"sk-estimator-id-1\" class=\"sk-toggleable__label sk-toggleable__label-arrow\">PCA</label><div class=\"sk-toggleable__content\"><pre>PCA(n_components=4)</pre></div></div></div></div></div>"
      ],
      "text/plain": [
       "PCA(n_components=4)"
      ]
     },
     "execution_count": 44,
     "metadata": {},
     "output_type": "execute_result"
    }
   ],
   "source": [
    "pca = PCA(n_components=4)\n",
    "pca.fit(feature_mat)"
   ]
  },
  {
   "cell_type": "code",
   "execution_count": 45,
   "id": "d0a53516",
   "metadata": {
    "tags": []
   },
   "outputs": [
    {
     "name": "stdout",
     "output_type": "stream",
     "text": [
      "Cumulative Explained Variance:  [0.603, 0.79, 0.822, 0.839]\n"
     ]
    },
    {
     "data": {
      "image/png": "[encoded data removed]",
      "text/plain": [
       "<Figure size 640x480 with 1 Axes>"
      ]
     },
     "metadata": {},
     "output_type": "display_data"
    }
   ],
   "source": [
    "plt.bar(list(range(1, 5)), np.cumsum(pca.explained_variance_ratio_))\n",
    "plt.xlabel(\"Principal Components\")\n",
    "plt.ylabel(\"Explained Variance\")\n",
    "plt.title(\"PCA + Manual Filtering\")\n",
    "cumsum = []\n",
    "for each in np.cumsum((pca.explained_variance_ratio_)):\n",
    "    cumsum.append(float(\"{:.3f}\".format(each)))\n",
    "print(\"Cumulative Explained Variance: \", cumsum)\n",
    "plt.rcParams[\"font.size\"] = 16"
   ]
  },
  {
   "cell_type": "code",
   "execution_count": 54,
   "id": "40674ef1",
   "metadata": {
    "tags": []
   },
   "outputs": [
    {
     "name": "stdout",
     "output_type": "stream",
     "text": [
      "[23680 23677 13998 ... 12520  3481  3646]\n"
     ]
    }
   ],
   "source": [
    "sorted_genes1= np.argsort(pca.components_[0])\n",
    "print(np.argsort(pca.components_[0]))"
   ]
  },
  {
   "cell_type": "code",
   "execution_count": 57,
   "id": "c741446a",
   "metadata": {
    "tags": []
   },
   "outputs": [
    {
     "data": {
      "text/html": [
       "<div>\n",
       "<style scoped>\n",
       "    .dataframe tbody tr th:only-of-type {\n",
       "        vertical-align: middle;\n",
       "    }\n",
       "\n",
       "    .dataframe tbody tr th {\n",
       "        vertical-align: top;\n",
       "    }\n",
       "\n",
       "    .dataframe thead th {\n",
       "        text-align: right;\n",
       "    }\n",
       "</style>\n",
       "<table border=\"1\" class=\"dataframe\">\n",
       "  <thead>\n",
       "    <tr style=\"text-align: right;\">\n",
       "      <th></th>\n",
       "      <th>feature_id</th>\n",
       "      <th>gene</th>\n",
       "      <th>feature_type</th>\n",
       "    </tr>\n",
       "  </thead>\n",
       "  <tbody>\n",
       "    <tr>\n",
       "      <th>37702</th>\n",
       "      <td>ENSG00000198938</td>\n",
       "      <td>MT-CO3</td>\n",
       "      <td>Gene Expression</td>\n",
       "    </tr>\n",
       "    <tr>\n",
       "      <th>37699</th>\n",
       "      <td>ENSG00000198712</td>\n",
       "      <td>MT-CO2</td>\n",
       "      <td>Gene Expression</td>\n",
       "    </tr>\n",
       "    <tr>\n",
       "      <th>22687</th>\n",
       "      <td>ENSG00000229117</td>\n",
       "      <td>RPL41</td>\n",
       "      <td>Gene Expression</td>\n",
       "    </tr>\n",
       "    <tr>\n",
       "      <th>37698</th>\n",
       "      <td>ENSG00000198804</td>\n",
       "      <td>MT-CO1</td>\n",
       "      <td>Gene Expression</td>\n",
       "    </tr>\n",
       "    <tr>\n",
       "      <th>26808</th>\n",
       "      <td>ENSG00000137818</td>\n",
       "      <td>RPLP1</td>\n",
       "      <td>Gene Expression</td>\n",
       "    </tr>\n",
       "    <tr>\n",
       "      <th>33170</th>\n",
       "      <td>ENSG00000105372</td>\n",
       "      <td>RPS19</td>\n",
       "      <td>Gene Expression</td>\n",
       "    </tr>\n",
       "    <tr>\n",
       "      <th>35318</th>\n",
       "      <td>ENSG00000160182</td>\n",
       "      <td>TFF1</td>\n",
       "      <td>Gene Expression</td>\n",
       "    </tr>\n",
       "    <tr>\n",
       "      <th>29008</th>\n",
       "      <td>ENSG00000167526</td>\n",
       "      <td>RPL13</td>\n",
       "      <td>Gene Expression</td>\n",
       "    </tr>\n",
       "    <tr>\n",
       "      <th>37705</th>\n",
       "      <td>ENSG00000198886</td>\n",
       "      <td>MT-ND4</td>\n",
       "      <td>Gene Expression</td>\n",
       "    </tr>\n",
       "    <tr>\n",
       "      <th>37703</th>\n",
       "      <td>ENSG00000198840</td>\n",
       "      <td>MT-ND3</td>\n",
       "      <td>Gene Expression</td>\n",
       "    </tr>\n",
       "    <tr>\n",
       "      <th>37701</th>\n",
       "      <td>ENSG00000198899</td>\n",
       "      <td>MT-ATP6</td>\n",
       "      <td>Gene Expression</td>\n",
       "    </tr>\n",
       "    <tr>\n",
       "      <th>24011</th>\n",
       "      <td>ENSG00000133112</td>\n",
       "      <td>TPT1</td>\n",
       "      <td>Gene Expression</td>\n",
       "    </tr>\n",
       "    <tr>\n",
       "      <th>5765</th>\n",
       "      <td>ENSG00000197756</td>\n",
       "      <td>RPL37A</td>\n",
       "      <td>Gene Expression</td>\n",
       "    </tr>\n",
       "    <tr>\n",
       "      <th>27823</th>\n",
       "      <td>ENSG00000134419</td>\n",
       "      <td>RPS15A</td>\n",
       "      <td>Gene Expression</td>\n",
       "    </tr>\n",
       "    <tr>\n",
       "      <th>21031</th>\n",
       "      <td>ENSG00000149273</td>\n",
       "      <td>RPS3</td>\n",
       "      <td>Gene Expression</td>\n",
       "    </tr>\n",
       "    <tr>\n",
       "      <th>16322</th>\n",
       "      <td>ENSG00000156482</td>\n",
       "      <td>RPL30</td>\n",
       "      <td>Gene Expression</td>\n",
       "    </tr>\n",
       "    <tr>\n",
       "      <th>37708</th>\n",
       "      <td>ENSG00000198727</td>\n",
       "      <td>MT-CYB</td>\n",
       "      <td>Gene Expression</td>\n",
       "    </tr>\n",
       "    <tr>\n",
       "      <th>12238</th>\n",
       "      <td>ENSG00000231500</td>\n",
       "      <td>RPS18</td>\n",
       "      <td>Gene Expression</td>\n",
       "    </tr>\n",
       "    <tr>\n",
       "      <th>10103</th>\n",
       "      <td>ENSG00000145592</td>\n",
       "      <td>RPL37</td>\n",
       "      <td>Gene Expression</td>\n",
       "    </tr>\n",
       "    <tr>\n",
       "      <th>25051</th>\n",
       "      <td>ENSG00000213741</td>\n",
       "      <td>RPS29</td>\n",
       "      <td>Gene Expression</td>\n",
       "    </tr>\n",
       "    <tr>\n",
       "      <th>6287</th>\n",
       "      <td>ENSG00000144713</td>\n",
       "      <td>RPL32</td>\n",
       "      <td>Gene Expression</td>\n",
       "    </tr>\n",
       "    <tr>\n",
       "      <th>2158</th>\n",
       "      <td>ENSG00000177954</td>\n",
       "      <td>RPS27</td>\n",
       "      <td>Gene Expression</td>\n",
       "    </tr>\n",
       "    <tr>\n",
       "      <th>12657</th>\n",
       "      <td>ENSG00000156508</td>\n",
       "      <td>EEF1A1</td>\n",
       "      <td>Gene Expression</td>\n",
       "    </tr>\n",
       "    <tr>\n",
       "      <th>33771</th>\n",
       "      <td>ENSG00000108107</td>\n",
       "      <td>RPL28</td>\n",
       "      <td>Gene Expression</td>\n",
       "    </tr>\n",
       "    <tr>\n",
       "      <th>31546</th>\n",
       "      <td>ENSG00000265681</td>\n",
       "      <td>RPL17</td>\n",
       "      <td>Gene Expression</td>\n",
       "    </tr>\n",
       "    <tr>\n",
       "      <th>27482</th>\n",
       "      <td>ENSG00000140988</td>\n",
       "      <td>RPS2</td>\n",
       "      <td>Gene Expression</td>\n",
       "    </tr>\n",
       "    <tr>\n",
       "      <th>37232</th>\n",
       "      <td>ENSG00000198918</td>\n",
       "      <td>RPL39</td>\n",
       "      <td>Gene Expression</td>\n",
       "    </tr>\n",
       "    <tr>\n",
       "      <th>8131</th>\n",
       "      <td>ENSG00000182899</td>\n",
       "      <td>RPL35A</td>\n",
       "      <td>Gene Expression</td>\n",
       "    </tr>\n",
       "    <tr>\n",
       "      <th>17855</th>\n",
       "      <td>ENSG00000197958</td>\n",
       "      <td>RPL12</td>\n",
       "      <td>Gene Expression</td>\n",
       "    </tr>\n",
       "    <tr>\n",
       "      <th>33486</th>\n",
       "      <td>ENSG00000142541</td>\n",
       "      <td>RPL13A</td>\n",
       "      <td>Gene Expression</td>\n",
       "    </tr>\n",
       "  </tbody>\n",
       "</table>\n",
       "</div>"
      ],
      "text/plain": [
       "            feature_id     gene     feature_type\n",
       "37702  ENSG00000198938   MT-CO3  Gene Expression\n",
       "37699  ENSG00000198712   MT-CO2  Gene Expression\n",
       "22687  ENSG00000229117    RPL41  Gene Expression\n",
       "37698  ENSG00000198804   MT-CO1  Gene Expression\n",
       "26808  ENSG00000137818    RPLP1  Gene Expression\n",
       "33170  ENSG00000105372    RPS19  Gene Expression\n",
       "35318  ENSG00000160182     TFF1  Gene Expression\n",
       "29008  ENSG00000167526    RPL13  Gene Expression\n",
       "37705  ENSG00000198886   MT-ND4  Gene Expression\n",
       "37703  ENSG00000198840   MT-ND3  Gene Expression\n",
       "37701  ENSG00000198899  MT-ATP6  Gene Expression\n",
       "24011  ENSG00000133112     TPT1  Gene Expression\n",
       "5765   ENSG00000197756   RPL37A  Gene Expression\n",
       "27823  ENSG00000134419   RPS15A  Gene Expression\n",
       "21031  ENSG00000149273     RPS3  Gene Expression\n",
       "16322  ENSG00000156482    RPL30  Gene Expression\n",
       "37708  ENSG00000198727   MT-CYB  Gene Expression\n",
       "12238  ENSG00000231500    RPS18  Gene Expression\n",
       "10103  ENSG00000145592    RPL37  Gene Expression\n",
       "25051  ENSG00000213741    RPS29  Gene Expression\n",
       "6287   ENSG00000144713    RPL32  Gene Expression\n",
       "2158   ENSG00000177954    RPS27  Gene Expression\n",
       "12657  ENSG00000156508   EEF1A1  Gene Expression\n",
       "33771  ENSG00000108107    RPL28  Gene Expression\n",
       "31546  ENSG00000265681    RPL17  Gene Expression\n",
       "27482  ENSG00000140988     RPS2  Gene Expression\n",
       "37232  ENSG00000198918    RPL39  Gene Expression\n",
       "8131   ENSG00000182899   RPL35A  Gene Expression\n",
       "17855  ENSG00000197958    RPL12  Gene Expression\n",
       "33486  ENSG00000142541   RPL13A  Gene Expression"
      ]
     },
     "execution_count": 57,
     "metadata": {},
     "output_type": "execute_result"
    }
   ],
   "source": [
    "filtered_names.iloc[sorted_genes1[:30]]"
   ]
  },
  {
   "cell_type": "code",
   "execution_count": 61,
   "id": "a011acbb",
   "metadata": {
    "tags": []
   },
   "outputs": [
    {
     "data": {
      "text/html": [
       "<div>\n",
       "<style scoped>\n",
       "    .dataframe tbody tr th:only-of-type {\n",
       "        vertical-align: middle;\n",
       "    }\n",
       "\n",
       "    .dataframe tbody tr th {\n",
       "        vertical-align: top;\n",
       "    }\n",
       "\n",
       "    .dataframe thead th {\n",
       "        text-align: right;\n",
       "    }\n",
       "</style>\n",
       "<table border=\"1\" class=\"dataframe\">\n",
       "  <thead>\n",
       "    <tr style=\"text-align: right;\">\n",
       "      <th></th>\n",
       "      <th>feature_id</th>\n",
       "      <th>gene</th>\n",
       "      <th>feature_type</th>\n",
       "    </tr>\n",
       "  </thead>\n",
       "  <tbody>\n",
       "    <tr>\n",
       "      <th>37702</th>\n",
       "      <td>ENSG00000198938</td>\n",
       "      <td>MT-CO3</td>\n",
       "      <td>Gene Expression</td>\n",
       "    </tr>\n",
       "    <tr>\n",
       "      <th>37698</th>\n",
       "      <td>ENSG00000198804</td>\n",
       "      <td>MT-CO1</td>\n",
       "      <td>Gene Expression</td>\n",
       "    </tr>\n",
       "    <tr>\n",
       "      <th>37699</th>\n",
       "      <td>ENSG00000198712</td>\n",
       "      <td>MT-CO2</td>\n",
       "      <td>Gene Expression</td>\n",
       "    </tr>\n",
       "    <tr>\n",
       "      <th>37705</th>\n",
       "      <td>ENSG00000198886</td>\n",
       "      <td>MT-ND4</td>\n",
       "      <td>Gene Expression</td>\n",
       "    </tr>\n",
       "    <tr>\n",
       "      <th>37701</th>\n",
       "      <td>ENSG00000198899</td>\n",
       "      <td>MT-ATP6</td>\n",
       "      <td>Gene Expression</td>\n",
       "    </tr>\n",
       "    <tr>\n",
       "      <th>37703</th>\n",
       "      <td>ENSG00000198840</td>\n",
       "      <td>MT-ND3</td>\n",
       "      <td>Gene Expression</td>\n",
       "    </tr>\n",
       "    <tr>\n",
       "      <th>37708</th>\n",
       "      <td>ENSG00000198727</td>\n",
       "      <td>MT-CYB</td>\n",
       "      <td>Gene Expression</td>\n",
       "    </tr>\n",
       "    <tr>\n",
       "      <th>37696</th>\n",
       "      <td>ENSG00000198888</td>\n",
       "      <td>MT-ND1</td>\n",
       "      <td>Gene Expression</td>\n",
       "    </tr>\n",
       "    <tr>\n",
       "      <th>37697</th>\n",
       "      <td>ENSG00000198763</td>\n",
       "      <td>MT-ND2</td>\n",
       "      <td>Gene Expression</td>\n",
       "    </tr>\n",
       "    <tr>\n",
       "      <th>35318</th>\n",
       "      <td>ENSG00000160182</td>\n",
       "      <td>TFF1</td>\n",
       "      <td>Gene Expression</td>\n",
       "    </tr>\n",
       "    <tr>\n",
       "      <th>30391</th>\n",
       "      <td>ENSG00000108821</td>\n",
       "      <td>COL1A1</td>\n",
       "      <td>Gene Expression</td>\n",
       "    </tr>\n",
       "    <tr>\n",
       "      <th>37706</th>\n",
       "      <td>ENSG00000198786</td>\n",
       "      <td>MT-ND5</td>\n",
       "      <td>Gene Expression</td>\n",
       "    </tr>\n",
       "    <tr>\n",
       "      <th>23197</th>\n",
       "      <td>ENSG00000166598</td>\n",
       "      <td>HSP90B1</td>\n",
       "      <td>Gene Expression</td>\n",
       "    </tr>\n",
       "    <tr>\n",
       "      <th>26715</th>\n",
       "      <td>ENSG00000166794</td>\n",
       "      <td>PPIB</td>\n",
       "      <td>Gene Expression</td>\n",
       "    </tr>\n",
       "    <tr>\n",
       "      <th>19931</th>\n",
       "      <td>ENSG00000166441</td>\n",
       "      <td>RPL27A</td>\n",
       "      <td>Gene Expression</td>\n",
       "    </tr>\n",
       "    <tr>\n",
       "      <th>15940</th>\n",
       "      <td>ENSG00000008988</td>\n",
       "      <td>RPS20</td>\n",
       "      <td>Gene Expression</td>\n",
       "    </tr>\n",
       "    <tr>\n",
       "      <th>32678</th>\n",
       "      <td>ENSG00000213988</td>\n",
       "      <td>ZNF90</td>\n",
       "      <td>Gene Expression</td>\n",
       "    </tr>\n",
       "    <tr>\n",
       "      <th>5740</th>\n",
       "      <td>ENSG00000115414</td>\n",
       "      <td>FN1</td>\n",
       "      <td>Gene Expression</td>\n",
       "    </tr>\n",
       "    <tr>\n",
       "      <th>20739</th>\n",
       "      <td>ENSG00000251562</td>\n",
       "      <td>MALAT1</td>\n",
       "      <td>Gene Expression</td>\n",
       "    </tr>\n",
       "    <tr>\n",
       "      <th>5489</th>\n",
       "      <td>ENSG00000168542</td>\n",
       "      <td>COL3A1</td>\n",
       "      <td>Gene Expression</td>\n",
       "    </tr>\n",
       "    <tr>\n",
       "      <th>23867</th>\n",
       "      <td>ENSG00000189403</td>\n",
       "      <td>HMGB1</td>\n",
       "      <td>Gene Expression</td>\n",
       "    </tr>\n",
       "    <tr>\n",
       "      <th>17827</th>\n",
       "      <td>ENSG00000044574</td>\n",
       "      <td>HSPA5</td>\n",
       "      <td>Gene Expression</td>\n",
       "    </tr>\n",
       "    <tr>\n",
       "      <th>37704</th>\n",
       "      <td>ENSG00000212907</td>\n",
       "      <td>MT-ND4L</td>\n",
       "      <td>Gene Expression</td>\n",
       "    </tr>\n",
       "    <tr>\n",
       "      <th>13711</th>\n",
       "      <td>ENSG00000106541</td>\n",
       "      <td>AGR2</td>\n",
       "      <td>Gene Expression</td>\n",
       "    </tr>\n",
       "    <tr>\n",
       "      <th>24439</th>\n",
       "      <td>ENSG00000289901</td>\n",
       "      <td>ENSG00000289901</td>\n",
       "      <td>Gene Expression</td>\n",
       "    </tr>\n",
       "    <tr>\n",
       "      <th>2127</th>\n",
       "      <td>ENSG00000197956</td>\n",
       "      <td>S100A6</td>\n",
       "      <td>Gene Expression</td>\n",
       "    </tr>\n",
       "    <tr>\n",
       "      <th>20648</th>\n",
       "      <td>ENSG00000176340</td>\n",
       "      <td>COX8A</td>\n",
       "      <td>Gene Expression</td>\n",
       "    </tr>\n",
       "    <tr>\n",
       "      <th>22457</th>\n",
       "      <td>ENSG00000139644</td>\n",
       "      <td>TMBIM6</td>\n",
       "      <td>Gene Expression</td>\n",
       "    </tr>\n",
       "    <tr>\n",
       "      <th>37232</th>\n",
       "      <td>ENSG00000198918</td>\n",
       "      <td>RPL39</td>\n",
       "      <td>Gene Expression</td>\n",
       "    </tr>\n",
       "    <tr>\n",
       "      <th>14424</th>\n",
       "      <td>ENSG00000164692</td>\n",
       "      <td>COL1A2</td>\n",
       "      <td>Gene Expression</td>\n",
       "    </tr>\n",
       "  </tbody>\n",
       "</table>\n",
       "</div>"
      ],
      "text/plain": [
       "            feature_id             gene     feature_type\n",
       "37702  ENSG00000198938           MT-CO3  Gene Expression\n",
       "37698  ENSG00000198804           MT-CO1  Gene Expression\n",
       "37699  ENSG00000198712           MT-CO2  Gene Expression\n",
       "37705  ENSG00000198886           MT-ND4  Gene Expression\n",
       "37701  ENSG00000198899          MT-ATP6  Gene Expression\n",
       "37703  ENSG00000198840           MT-ND3  Gene Expression\n",
       "37708  ENSG00000198727           MT-CYB  Gene Expression\n",
       "37696  ENSG00000198888           MT-ND1  Gene Expression\n",
       "37697  ENSG00000198763           MT-ND2  Gene Expression\n",
       "35318  ENSG00000160182             TFF1  Gene Expression\n",
       "30391  ENSG00000108821           COL1A1  Gene Expression\n",
       "37706  ENSG00000198786           MT-ND5  Gene Expression\n",
       "23197  ENSG00000166598          HSP90B1  Gene Expression\n",
       "26715  ENSG00000166794             PPIB  Gene Expression\n",
       "19931  ENSG00000166441           RPL27A  Gene Expression\n",
       "15940  ENSG00000008988            RPS20  Gene Expression\n",
       "32678  ENSG00000213988            ZNF90  Gene Expression\n",
       "5740   ENSG00000115414              FN1  Gene Expression\n",
       "20739  ENSG00000251562           MALAT1  Gene Expression\n",
       "5489   ENSG00000168542           COL3A1  Gene Expression\n",
       "23867  ENSG00000189403            HMGB1  Gene Expression\n",
       "17827  ENSG00000044574            HSPA5  Gene Expression\n",
       "37704  ENSG00000212907          MT-ND4L  Gene Expression\n",
       "13711  ENSG00000106541             AGR2  Gene Expression\n",
       "24439  ENSG00000289901  ENSG00000289901  Gene Expression\n",
       "2127   ENSG00000197956           S100A6  Gene Expression\n",
       "20648  ENSG00000176340            COX8A  Gene Expression\n",
       "22457  ENSG00000139644           TMBIM6  Gene Expression\n",
       "37232  ENSG00000198918            RPL39  Gene Expression\n",
       "14424  ENSG00000164692           COL1A2  Gene Expression"
      ]
     },
     "execution_count": 61,
     "metadata": {},
     "output_type": "execute_result"
    }
   ],
   "source": [
    "sorted_genes2 = np.argsort(pca.components_[1])\n",
    "filtered_names.iloc[sorted_genes2[:30]]"
   ]
  },
  {
   "cell_type": "markdown",
   "id": "54a434fe",
   "metadata": {},
   "source": [
    "## 5a. Summary Statistics and Analysis:"
   ]
  },
  {
   "cell_type": "code",
   "execution_count": null,
   "id": "37c3dfbd",
   "metadata": {},
   "outputs": [],
   "source": [
    "expr_stats = filtered_expr.T.describe()\n"
   ]
  },
  {
   "cell_type": "code",
   "execution_count": 14,
   "id": "4a27f982",
   "metadata": {},
   "outputs": [
    {
     "data": {
      "text/html": [
       "<div>\n",
       "<style scoped>\n",
       "    .dataframe tbody tr th:only-of-type {\n",
       "        vertical-align: middle;\n",
       "    }\n",
       "\n",
       "    .dataframe tbody tr th {\n",
       "        vertical-align: top;\n",
       "    }\n",
       "\n",
       "    .dataframe thead th {\n",
       "        text-align: right;\n",
       "    }\n",
       "</style>\n",
       "<table border=\"1\" class=\"dataframe\">\n",
       "  <thead>\n",
       "    <tr style=\"text-align: right;\">\n",
       "      <th>gene</th>\n",
       "      <th>AL627309.1</th>\n",
       "      <th>AL627309.5</th>\n",
       "      <th>AP006222.2</th>\n",
       "      <th>AL732372.1</th>\n",
       "      <th>AC114498.1</th>\n",
       "      <th>LINC01409</th>\n",
       "      <th>FAM87B</th>\n",
       "      <th>LINC01128</th>\n",
       "      <th>LINC00115</th>\n",
       "      <th>FAM41C</th>\n",
       "      <th>...</th>\n",
       "      <th>AC145212.1</th>\n",
       "      <th>MAFIP</th>\n",
       "      <th>AC011043.1</th>\n",
       "      <th>AL354822.1</th>\n",
       "      <th>AL592183.1</th>\n",
       "      <th>AC240274.1</th>\n",
       "      <th>AC004556.3</th>\n",
       "      <th>AC136612.1</th>\n",
       "      <th>AC136616.1</th>\n",
       "      <th>AC007325.4</th>\n",
       "    </tr>\n",
       "  </thead>\n",
       "  <tbody>\n",
       "    <tr>\n",
       "      <th>count</th>\n",
       "      <td>3522.000000</td>\n",
       "      <td>3522.000000</td>\n",
       "      <td>3522.000000</td>\n",
       "      <td>3522.000000</td>\n",
       "      <td>3522.000000</td>\n",
       "      <td>3522.000000</td>\n",
       "      <td>3522.000000</td>\n",
       "      <td>3522.000000</td>\n",
       "      <td>3522.000000</td>\n",
       "      <td>3522.000000</td>\n",
       "      <td>...</td>\n",
       "      <td>3522.000000</td>\n",
       "      <td>3522.000000</td>\n",
       "      <td>3522.000000</td>\n",
       "      <td>3522.000000</td>\n",
       "      <td>3522.000000</td>\n",
       "      <td>3522.000000</td>\n",
       "      <td>3522.000000</td>\n",
       "      <td>3522.000000</td>\n",
       "      <td>3522.000000</td>\n",
       "      <td>3522.000000</td>\n",
       "    </tr>\n",
       "    <tr>\n",
       "      <th>mean</th>\n",
       "      <td>0.008518</td>\n",
       "      <td>0.009086</td>\n",
       "      <td>0.002839</td>\n",
       "      <td>0.006246</td>\n",
       "      <td>0.000568</td>\n",
       "      <td>0.049972</td>\n",
       "      <td>0.000568</td>\n",
       "      <td>0.100227</td>\n",
       "      <td>0.016184</td>\n",
       "      <td>0.002555</td>\n",
       "      <td>...</td>\n",
       "      <td>0.100511</td>\n",
       "      <td>0.021863</td>\n",
       "      <td>0.055934</td>\n",
       "      <td>0.009654</td>\n",
       "      <td>0.004827</td>\n",
       "      <td>0.005395</td>\n",
       "      <td>0.000852</td>\n",
       "      <td>0.000568</td>\n",
       "      <td>0.018739</td>\n",
       "      <td>0.087166</td>\n",
       "    </tr>\n",
       "    <tr>\n",
       "      <th>std</th>\n",
       "      <td>0.091912</td>\n",
       "      <td>0.094899</td>\n",
       "      <td>0.053217</td>\n",
       "      <td>0.082324</td>\n",
       "      <td>0.033700</td>\n",
       "      <td>0.225602</td>\n",
       "      <td>0.023826</td>\n",
       "      <td>0.326619</td>\n",
       "      <td>0.130624</td>\n",
       "      <td>0.050493</td>\n",
       "      <td>...</td>\n",
       "      <td>0.324350</td>\n",
       "      <td>0.148185</td>\n",
       "      <td>0.234718</td>\n",
       "      <td>0.097791</td>\n",
       "      <td>0.069317</td>\n",
       "      <td>0.073260</td>\n",
       "      <td>0.029177</td>\n",
       "      <td>0.023826</td>\n",
       "      <td>0.139748</td>\n",
       "      <td>0.297791</td>\n",
       "    </tr>\n",
       "    <tr>\n",
       "      <th>min</th>\n",
       "      <td>0.000000</td>\n",
       "      <td>0.000000</td>\n",
       "      <td>0.000000</td>\n",
       "      <td>0.000000</td>\n",
       "      <td>0.000000</td>\n",
       "      <td>0.000000</td>\n",
       "      <td>0.000000</td>\n",
       "      <td>0.000000</td>\n",
       "      <td>0.000000</td>\n",
       "      <td>0.000000</td>\n",
       "      <td>...</td>\n",
       "      <td>0.000000</td>\n",
       "      <td>0.000000</td>\n",
       "      <td>0.000000</td>\n",
       "      <td>0.000000</td>\n",
       "      <td>0.000000</td>\n",
       "      <td>0.000000</td>\n",
       "      <td>0.000000</td>\n",
       "      <td>0.000000</td>\n",
       "      <td>0.000000</td>\n",
       "      <td>0.000000</td>\n",
       "    </tr>\n",
       "    <tr>\n",
       "      <th>25%</th>\n",
       "      <td>0.000000</td>\n",
       "      <td>0.000000</td>\n",
       "      <td>0.000000</td>\n",
       "      <td>0.000000</td>\n",
       "      <td>0.000000</td>\n",
       "      <td>0.000000</td>\n",
       "      <td>0.000000</td>\n",
       "      <td>0.000000</td>\n",
       "      <td>0.000000</td>\n",
       "      <td>0.000000</td>\n",
       "      <td>...</td>\n",
       "      <td>0.000000</td>\n",
       "      <td>0.000000</td>\n",
       "      <td>0.000000</td>\n",
       "      <td>0.000000</td>\n",
       "      <td>0.000000</td>\n",
       "      <td>0.000000</td>\n",
       "      <td>0.000000</td>\n",
       "      <td>0.000000</td>\n",
       "      <td>0.000000</td>\n",
       "      <td>0.000000</td>\n",
       "    </tr>\n",
       "    <tr>\n",
       "      <th>50%</th>\n",
       "      <td>0.000000</td>\n",
       "      <td>0.000000</td>\n",
       "      <td>0.000000</td>\n",
       "      <td>0.000000</td>\n",
       "      <td>0.000000</td>\n",
       "      <td>0.000000</td>\n",
       "      <td>0.000000</td>\n",
       "      <td>0.000000</td>\n",
       "      <td>0.000000</td>\n",
       "      <td>0.000000</td>\n",
       "      <td>...</td>\n",
       "      <td>0.000000</td>\n",
       "      <td>0.000000</td>\n",
       "      <td>0.000000</td>\n",
       "      <td>0.000000</td>\n",
       "      <td>0.000000</td>\n",
       "      <td>0.000000</td>\n",
       "      <td>0.000000</td>\n",
       "      <td>0.000000</td>\n",
       "      <td>0.000000</td>\n",
       "      <td>0.000000</td>\n",
       "    </tr>\n",
       "    <tr>\n",
       "      <th>75%</th>\n",
       "      <td>0.000000</td>\n",
       "      <td>0.000000</td>\n",
       "      <td>0.000000</td>\n",
       "      <td>0.000000</td>\n",
       "      <td>0.000000</td>\n",
       "      <td>0.000000</td>\n",
       "      <td>0.000000</td>\n",
       "      <td>0.000000</td>\n",
       "      <td>0.000000</td>\n",
       "      <td>0.000000</td>\n",
       "      <td>...</td>\n",
       "      <td>0.000000</td>\n",
       "      <td>0.000000</td>\n",
       "      <td>0.000000</td>\n",
       "      <td>0.000000</td>\n",
       "      <td>0.000000</td>\n",
       "      <td>0.000000</td>\n",
       "      <td>0.000000</td>\n",
       "      <td>0.000000</td>\n",
       "      <td>0.000000</td>\n",
       "      <td>0.000000</td>\n",
       "    </tr>\n",
       "    <tr>\n",
       "      <th>max</th>\n",
       "      <td>1.000000</td>\n",
       "      <td>1.000000</td>\n",
       "      <td>1.000000</td>\n",
       "      <td>2.000000</td>\n",
       "      <td>2.000000</td>\n",
       "      <td>2.000000</td>\n",
       "      <td>1.000000</td>\n",
       "      <td>3.000000</td>\n",
       "      <td>2.000000</td>\n",
       "      <td>1.000000</td>\n",
       "      <td>...</td>\n",
       "      <td>2.000000</td>\n",
       "      <td>2.000000</td>\n",
       "      <td>2.000000</td>\n",
       "      <td>1.000000</td>\n",
       "      <td>1.000000</td>\n",
       "      <td>1.000000</td>\n",
       "      <td>1.000000</td>\n",
       "      <td>1.000000</td>\n",
       "      <td>2.000000</td>\n",
       "      <td>2.000000</td>\n",
       "    </tr>\n",
       "  </tbody>\n",
       "</table>\n",
       "<p>8 rows × 22541 columns</p>\n",
       "</div>"
      ],
      "text/plain": [
       "gene    AL627309.1   AL627309.5   AP006222.2   AL732372.1   AC114498.1  \\\n",
       "count  3522.000000  3522.000000  3522.000000  3522.000000  3522.000000   \n",
       "mean      0.008518     0.009086     0.002839     0.006246     0.000568   \n",
       "std       0.091912     0.094899     0.053217     0.082324     0.033700   \n",
       "min       0.000000     0.000000     0.000000     0.000000     0.000000   \n",
       "25%       0.000000     0.000000     0.000000     0.000000     0.000000   \n",
       "50%       0.000000     0.000000     0.000000     0.000000     0.000000   \n",
       "75%       0.000000     0.000000     0.000000     0.000000     0.000000   \n",
       "max       1.000000     1.000000     1.000000     2.000000     2.000000   \n",
       "\n",
       "gene     LINC01409       FAM87B    LINC01128    LINC00115       FAM41C  ...  \\\n",
       "count  3522.000000  3522.000000  3522.000000  3522.000000  3522.000000  ...   \n",
       "mean      0.049972     0.000568     0.100227     0.016184     0.002555  ...   \n",
       "std       0.225602     0.023826     0.326619     0.130624     0.050493  ...   \n",
       "min       0.000000     0.000000     0.000000     0.000000     0.000000  ...   \n",
       "25%       0.000000     0.000000     0.000000     0.000000     0.000000  ...   \n",
       "50%       0.000000     0.000000     0.000000     0.000000     0.000000  ...   \n",
       "75%       0.000000     0.000000     0.000000     0.000000     0.000000  ...   \n",
       "max       2.000000     1.000000     3.000000     2.000000     1.000000  ...   \n",
       "\n",
       "gene    AC145212.1        MAFIP   AC011043.1   AL354822.1   AL592183.1  \\\n",
       "count  3522.000000  3522.000000  3522.000000  3522.000000  3522.000000   \n",
       "mean      0.100511     0.021863     0.055934     0.009654     0.004827   \n",
       "std       0.324350     0.148185     0.234718     0.097791     0.069317   \n",
       "min       0.000000     0.000000     0.000000     0.000000     0.000000   \n",
       "25%       0.000000     0.000000     0.000000     0.000000     0.000000   \n",
       "50%       0.000000     0.000000     0.000000     0.000000     0.000000   \n",
       "75%       0.000000     0.000000     0.000000     0.000000     0.000000   \n",
       "max       2.000000     2.000000     2.000000     1.000000     1.000000   \n",
       "\n",
       "gene    AC240274.1   AC004556.3   AC136612.1   AC136616.1   AC007325.4  \n",
       "count  3522.000000  3522.000000  3522.000000  3522.000000  3522.000000  \n",
       "mean      0.005395     0.000852     0.000568     0.018739     0.087166  \n",
       "std       0.073260     0.029177     0.023826     0.139748     0.297791  \n",
       "min       0.000000     0.000000     0.000000     0.000000     0.000000  \n",
       "25%       0.000000     0.000000     0.000000     0.000000     0.000000  \n",
       "50%       0.000000     0.000000     0.000000     0.000000     0.000000  \n",
       "75%       0.000000     0.000000     0.000000     0.000000     0.000000  \n",
       "max       1.000000     1.000000     1.000000     2.000000     2.000000  \n",
       "\n",
       "[8 rows x 22541 columns]"
      ]
     },
     "execution_count": 14,
     "metadata": {},
     "output_type": "execute_result"
    }
   ],
   "source": [
    "expr_stats.columns = all_filtered.columns\n",
    "expr_stats.head(10)\n"
   ]
  },
  {
   "cell_type": "code",
   "execution_count": 21,
   "id": "a3618d0a",
   "metadata": {},
   "outputs": [
    {
     "ename": "IndexingError",
     "evalue": "Unalignable boolean Series provided as indexer (index of the boolean Series and of the indexed object do not match).",
     "output_type": "error",
     "traceback": [
      "\u001b[0;31m---------------------------------------------------------------------------\u001b[0m",
      "\u001b[0;31mIndexingError\u001b[0m                             Traceback (most recent call last)",
      "Input \u001b[0;32mIn [21]\u001b[0m, in \u001b[0;36m<module>\u001b[0;34m\u001b[0m\n\u001b[0;32m----> 1\u001b[0m \u001b[43mexpr_stats\u001b[49m\u001b[38;5;241;43m.\u001b[39;49m\u001b[43mloc\u001b[49m\u001b[43m[\u001b[49m\u001b[43mfiltered_names\u001b[49m\u001b[43m[\u001b[49m\u001b[38;5;124;43m\"\u001b[39;49m\u001b[38;5;124;43mgene\u001b[39;49m\u001b[38;5;124;43m\"\u001b[39;49m\u001b[43m]\u001b[49m\u001b[43m \u001b[49m\u001b[38;5;241;43m==\u001b[39;49m\u001b[43m \u001b[49m\u001b[38;5;124;43m\"\u001b[39;49m\u001b[38;5;124;43mTFF3\u001b[39;49m\u001b[38;5;124;43m\"\u001b[39;49m\u001b[43m]\u001b[49m\n",
      "File \u001b[0;32m/Library/Frameworks/Python.framework/Versions/3.9/lib/python3.9/site-packages/pandas/core/indexing.py:967\u001b[0m, in \u001b[0;36m_LocationIndexer.__getitem__\u001b[0;34m(self, key)\u001b[0m\n\u001b[1;32m    964\u001b[0m axis \u001b[38;5;241m=\u001b[39m \u001b[38;5;28mself\u001b[39m\u001b[38;5;241m.\u001b[39maxis \u001b[38;5;129;01mor\u001b[39;00m \u001b[38;5;241m0\u001b[39m\n\u001b[1;32m    966\u001b[0m maybe_callable \u001b[38;5;241m=\u001b[39m com\u001b[38;5;241m.\u001b[39mapply_if_callable(key, \u001b[38;5;28mself\u001b[39m\u001b[38;5;241m.\u001b[39mobj)\n\u001b[0;32m--> 967\u001b[0m \u001b[38;5;28;01mreturn\u001b[39;00m \u001b[38;5;28;43mself\u001b[39;49m\u001b[38;5;241;43m.\u001b[39;49m\u001b[43m_getitem_axis\u001b[49m\u001b[43m(\u001b[49m\u001b[43mmaybe_callable\u001b[49m\u001b[43m,\u001b[49m\u001b[43m \u001b[49m\u001b[43maxis\u001b[49m\u001b[38;5;241;43m=\u001b[39;49m\u001b[43maxis\u001b[49m\u001b[43m)\u001b[49m\n",
      "File \u001b[0;32m/Library/Frameworks/Python.framework/Versions/3.9/lib/python3.9/site-packages/pandas/core/indexing.py:1182\u001b[0m, in \u001b[0;36m_LocIndexer._getitem_axis\u001b[0;34m(self, key, axis)\u001b[0m\n\u001b[1;32m   1180\u001b[0m     \u001b[38;5;28;01mreturn\u001b[39;00m \u001b[38;5;28mself\u001b[39m\u001b[38;5;241m.\u001b[39m_get_slice_axis(key, axis\u001b[38;5;241m=\u001b[39maxis)\n\u001b[1;32m   1181\u001b[0m \u001b[38;5;28;01melif\u001b[39;00m com\u001b[38;5;241m.\u001b[39mis_bool_indexer(key):\n\u001b[0;32m-> 1182\u001b[0m     \u001b[38;5;28;01mreturn\u001b[39;00m \u001b[38;5;28;43mself\u001b[39;49m\u001b[38;5;241;43m.\u001b[39;49m\u001b[43m_getbool_axis\u001b[49m\u001b[43m(\u001b[49m\u001b[43mkey\u001b[49m\u001b[43m,\u001b[49m\u001b[43m \u001b[49m\u001b[43maxis\u001b[49m\u001b[38;5;241;43m=\u001b[39;49m\u001b[43maxis\u001b[49m\u001b[43m)\u001b[49m\n\u001b[1;32m   1183\u001b[0m \u001b[38;5;28;01melif\u001b[39;00m is_list_like_indexer(key):\n\u001b[1;32m   1184\u001b[0m \n\u001b[1;32m   1185\u001b[0m     \u001b[38;5;66;03m# an iterable multi-selection\u001b[39;00m\n\u001b[1;32m   1186\u001b[0m     \u001b[38;5;28;01mif\u001b[39;00m \u001b[38;5;129;01mnot\u001b[39;00m (\u001b[38;5;28misinstance\u001b[39m(key, \u001b[38;5;28mtuple\u001b[39m) \u001b[38;5;129;01mand\u001b[39;00m \u001b[38;5;28misinstance\u001b[39m(labels, MultiIndex)):\n",
      "File \u001b[0;32m/Library/Frameworks/Python.framework/Versions/3.9/lib/python3.9/site-packages/pandas/core/indexing.py:984\u001b[0m, in \u001b[0;36m_LocationIndexer._getbool_axis\u001b[0;34m(self, key, axis)\u001b[0m\n\u001b[1;32m    981\u001b[0m \u001b[38;5;28;01mdef\u001b[39;00m \u001b[38;5;21m_getbool_axis\u001b[39m(\u001b[38;5;28mself\u001b[39m, key, axis: \u001b[38;5;28mint\u001b[39m):\n\u001b[1;32m    982\u001b[0m     \u001b[38;5;66;03m# caller is responsible for ensuring non-None axis\u001b[39;00m\n\u001b[1;32m    983\u001b[0m     labels \u001b[38;5;241m=\u001b[39m \u001b[38;5;28mself\u001b[39m\u001b[38;5;241m.\u001b[39mobj\u001b[38;5;241m.\u001b[39m_get_axis(axis)\n\u001b[0;32m--> 984\u001b[0m     key \u001b[38;5;241m=\u001b[39m \u001b[43mcheck_bool_indexer\u001b[49m\u001b[43m(\u001b[49m\u001b[43mlabels\u001b[49m\u001b[43m,\u001b[49m\u001b[43m \u001b[49m\u001b[43mkey\u001b[49m\u001b[43m)\u001b[49m\n\u001b[1;32m    985\u001b[0m     inds \u001b[38;5;241m=\u001b[39m key\u001b[38;5;241m.\u001b[39mnonzero()[\u001b[38;5;241m0\u001b[39m]\n\u001b[1;32m    986\u001b[0m     \u001b[38;5;28;01mreturn\u001b[39;00m \u001b[38;5;28mself\u001b[39m\u001b[38;5;241m.\u001b[39mobj\u001b[38;5;241m.\u001b[39m_take_with_is_copy(inds, axis\u001b[38;5;241m=\u001b[39maxis)\n",
      "File \u001b[0;32m/Library/Frameworks/Python.framework/Versions/3.9/lib/python3.9/site-packages/pandas/core/indexing.py:2376\u001b[0m, in \u001b[0;36mcheck_bool_indexer\u001b[0;34m(index, key)\u001b[0m\n\u001b[1;32m   2374\u001b[0m     mask \u001b[38;5;241m=\u001b[39m isna(result\u001b[38;5;241m.\u001b[39m_values)\n\u001b[1;32m   2375\u001b[0m     \u001b[38;5;28;01mif\u001b[39;00m mask\u001b[38;5;241m.\u001b[39many():\n\u001b[0;32m-> 2376\u001b[0m         \u001b[38;5;28;01mraise\u001b[39;00m IndexingError(\n\u001b[1;32m   2377\u001b[0m             \u001b[38;5;124m\"\u001b[39m\u001b[38;5;124mUnalignable boolean Series provided as \u001b[39m\u001b[38;5;124m\"\u001b[39m\n\u001b[1;32m   2378\u001b[0m             \u001b[38;5;124m\"\u001b[39m\u001b[38;5;124mindexer (index of the boolean Series and of \u001b[39m\u001b[38;5;124m\"\u001b[39m\n\u001b[1;32m   2379\u001b[0m             \u001b[38;5;124m\"\u001b[39m\u001b[38;5;124mthe indexed object do not match).\u001b[39m\u001b[38;5;124m\"\u001b[39m\n\u001b[1;32m   2380\u001b[0m         )\n\u001b[1;32m   2381\u001b[0m     \u001b[38;5;28;01mreturn\u001b[39;00m result\u001b[38;5;241m.\u001b[39mastype(\u001b[38;5;28mbool\u001b[39m)\u001b[38;5;241m.\u001b[39m_values\n\u001b[1;32m   2382\u001b[0m \u001b[38;5;28;01mif\u001b[39;00m is_object_dtype(key):\n\u001b[1;32m   2383\u001b[0m     \u001b[38;5;66;03m# key might be object-dtype bool, check_array_indexer needs bool array\u001b[39;00m\n",
      "\u001b[0;31mIndexingError\u001b[0m: Unalignable boolean Series provided as indexer (index of the boolean Series and of the indexed object do not match)."
     ]
    }
   ],
   "source": [
    "expr_stats.loc[filtered_names[\"gene\"] == \"TFF3\"]"
   ]
  },
  {
   "cell_type": "code",
   "execution_count": null,
   "id": "0af6cd33",
   "metadata": {},
   "outputs": [],
   "source": [
    "TFF3_expr = filtered_expr.loc[filtered_names[\"gene\"] == \"TFF3\"]\n",
    "TFF3_expr"
   ]
  },
  {
   "cell_type": "code",
   "execution_count": null,
   "id": "a343fa95",
   "metadata": {},
   "outputs": [],
   "source": [
    "'''# the histogram of the data\n",
    "n, bins, patches = plt.hist(TFF3_expr, bins=20, density=True, facecolor='g', alpha=0.75)\n",
    "\n",
    "\n",
    "plt.xlabel('UMI Counts')\n",
    "plt.ylabel('Probability')\n",
    "plt.title('Histogram of TFF3')\n",
    "plt.text(60, .025, r'$\\mu=100,\\ \\sigma=15$')\n",
    "plt.xlim(0, 180)\n",
    "plt.ylim(0, 0.03)\n",
    "plt.grid(True)\n",
    "plt.show()'''"
   ]
  },
  {
   "cell_type": "markdown",
   "id": "855972c2",
   "metadata": {},
   "source": [
    "## 5b. An Extra Global PCA Example (no different than earlier):"
   ]
  },
  {
   "cell_type": "code",
   "execution_count": 15,
   "id": "81c7be5b",
   "metadata": {},
   "outputs": [
    {
     "name": "stdout",
     "output_type": "stream",
     "text": [
      "                    3      6      8      9      11     14     15     16     \\\n",
      "AAACAAGTATCTCCCA-1      0      0      0      0      0      0      0      0   \n",
      "AAACAATCTACTAGCA-1      0      0      0      0      0      0      0      0   \n",
      "AAACAGAGCGACTCCT-1      0      0      0      0      0      0      0      0   \n",
      "AAACAGCTTTCAGAAG-1      0      0      0      0      0      0      0      0   \n",
      "AAACAGGGTCTATATT-1      0      0      0      0      0      0      0      0   \n",
      "\n",
      "                    17     18     ...  36573  36574  36575  36579  36580  \\\n",
      "AAACAAGTATCTCCCA-1      0      0  ...      1      0      0      0      0   \n",
      "AAACAATCTACTAGCA-1      0      0  ...      0      0      0      0      0   \n",
      "AAACAGAGCGACTCCT-1      0      0  ...      0      0      0      0      0   \n",
      "AAACAGCTTTCAGAAG-1      0      0  ...      0      0      0      0      0   \n",
      "AAACAGGGTCTATATT-1      0      0  ...      0      0      0      0      0   \n",
      "\n",
      "                    36581  36584  36592  36593  36599  \n",
      "AAACAAGTATCTCCCA-1      0      0      0      0      1  \n",
      "AAACAATCTACTAGCA-1      0      0      0      0      0  \n",
      "AAACAGAGCGACTCCT-1      0      0      0      0      1  \n",
      "AAACAGCTTTCAGAAG-1      0      0      0      0      0  \n",
      "AAACAGGGTCTATATT-1      0      0      0      0      1  \n",
      "\n",
      "[5 rows x 22541 columns]\n",
      "[[0 0 0 ... 0 0 1]\n",
      " [0 0 0 ... 0 0 0]\n",
      " [0 0 0 ... 0 0 1]\n",
      " ...\n",
      " [0 0 0 ... 0 0 0]\n",
      " [0 0 0 ... 0 0 0]\n",
      " [0 0 0 ... 0 0 1]]\n"
     ]
    },
    {
     "data": {
      "text/plain": [
       "'scaler = StandardScaler()\\nscaler.fit(feature_mat)\\nprint(scaler.mean_[2])\\nscaled_data = scaler.transform(feature_mat)'"
      ]
     },
     "execution_count": 15,
     "metadata": {},
     "output_type": "execute_result"
    }
   ],
   "source": [
    "#First, we STANDARDIZE (zero mean and unit std. dev):\n",
    "feature_mat = filtered_expr.T\n",
    "print(feature_mat.head())\n",
    "feature_mat = np.array(feature_mat)\n",
    "print(feature_mat)\n",
    "'''scaler = StandardScaler()\n",
    "scaler.fit(feature_mat)\n",
    "print(scaler.mean_[2])\n",
    "scaled_data = scaler.transform(feature_mat)'''"
   ]
  },
  {
   "cell_type": "code",
   "execution_count": 17,
   "id": "75bfd225",
   "metadata": {},
   "outputs": [],
   "source": [
    "#Trying Normalizing instead of standardizing\n",
    "norm = Normalizer()\n",
    "norm.fit(feature_mat)\n",
    "norm_data = norm.transform(feature_mat)"
   ]
  },
  {
   "cell_type": "code",
   "execution_count": 107,
   "id": "48fec7d8",
   "metadata": {},
   "outputs": [
    {
     "ename": "NameError",
     "evalue": "name 'scaled_data' is not defined",
     "output_type": "error",
     "traceback": [
      "\u001b[0;31m---------------------------------------------------------------------------\u001b[0m",
      "\u001b[0;31mNameError\u001b[0m                                 Traceback (most recent call last)",
      "Input \u001b[0;32mIn [107]\u001b[0m, in \u001b[0;36m<module>\u001b[0;34m\u001b[0m\n\u001b[0;32m----> 1\u001b[0m \u001b[43mscaled_data\u001b[49m[\u001b[38;5;241m0\u001b[39m:\u001b[38;5;241m10\u001b[39m]\n",
      "\u001b[0;31mNameError\u001b[0m: name 'scaled_data' is not defined"
     ]
    }
   ],
   "source": [
    "scaled_data[0:10]"
   ]
  },
  {
   "cell_type": "code",
   "execution_count": 16,
   "id": "67234882",
   "metadata": {},
   "outputs": [
    {
     "data": {
      "text/plain": [
       "PCA(n_components=4)"
      ]
     },
     "execution_count": 16,
     "metadata": {},
     "output_type": "execute_result"
    }
   ],
   "source": [
    "pca = PCA(n_components=4)\n",
    "pca.fit(feature_mat)"
   ]
  },
  {
   "cell_type": "code",
   "execution_count": 17,
   "id": "5d32e787",
   "metadata": {},
   "outputs": [
    {
     "name": "stdout",
     "output_type": "stream",
     "text": [
      "Cumulative Explained Variance:  [0.781, 0.88, 0.899, 0.911]\n"
     ]
    },
    {
     "data": {
      "image/png": "[encoded data removed]",
      "text/plain": [
       "<Figure size 432x288 with 1 Axes>"
      ]
     },
     "metadata": {
      "needs_background": "light"
     },
     "output_type": "display_data"
    }
   ],
   "source": [
    "plt.bar(list(range(1, 5)), np.cumsum(pca.explained_variance_ratio_))\n",
    "plt.xlabel(\"Principal Components\")\n",
    "plt.ylabel(\"Explained Variance\")\n",
    "plt.title(\"PCA + Manual Filtering\")\n",
    "cumsum = []\n",
    "for each in np.cumsum((pca.explained_variance_ratio_)):\n",
    "    cumsum.append(float(\"{:.3f}\".format(each)))\n",
    "print(\"Cumulative Explained Variance: \", cumsum)\n",
    "plt.rcParams[\"font.size\"] = 16"
   ]
  },
  {
   "cell_type": "code",
   "execution_count": 18,
   "id": "d03edcd5",
   "metadata": {},
   "outputs": [
    {
     "name": "stdout",
     "output_type": "stream",
     "text": [
      "13535\n"
     ]
    }
   ],
   "source": [
    "print(np.argmax(pca.components_[0]))"
   ]
  },
  {
   "cell_type": "code",
   "execution_count": 19,
   "id": "2be6be18",
   "metadata": {},
   "outputs": [
    {
     "data": {
      "text/plain": [
       "AAACAAGTATCTCCCA-1    389\n",
       "AAACAATCTACTAGCA-1    465\n",
       "AAACAGAGCGACTCCT-1     62\n",
       "AAACAGCTTTCAGAAG-1    526\n",
       "AAACAGGGTCTATATT-1    383\n",
       "                     ... \n",
       "TTGTTGTGTGTCAAGA-1     65\n",
       "TTGTTTCACATCCAGG-1    530\n",
       "TTGTTTCATTAGTCTA-1    296\n",
       "TTGTTTCCATACAACT-1    345\n",
       "TTGTTTGTGTAAATTC-1    134\n",
       "Name: 21902, Length: 3522, dtype: int64"
      ]
     },
     "execution_count": 19,
     "metadata": {},
     "output_type": "execute_result"
    }
   ],
   "source": [
    "filtered_expr.iloc[13535]"
   ]
  },
  {
   "cell_type": "code",
   "execution_count": 20,
   "id": "1d4c635d",
   "metadata": {},
   "outputs": [
    {
     "data": {
      "text/plain": [
       "feature_id      ENSG00000229117\n",
       "gene                      RPL41\n",
       "feature_type    Gene Expression\n",
       "Name: 21902, dtype: object"
      ]
     },
     "execution_count": 20,
     "metadata": {},
     "output_type": "execute_result"
    }
   ],
   "source": [
    "filtered_names.loc[21902]"
   ]
  },
  {
   "cell_type": "markdown",
   "id": "286203bd",
   "metadata": {},
   "source": [
    "## 6. TSNE:"
   ]
  },
  {
   "cell_type": "code",
   "execution_count": 21,
   "id": "4875fbbb",
   "metadata": {},
   "outputs": [
    {
     "name": "stdout",
     "output_type": "stream",
     "text": [
      "3522\n"
     ]
    }
   ],
   "source": [
    "projected = pca.transform(feature_mat)\n",
    "print(len(projected))"
   ]
  },
  {
   "cell_type": "code",
   "execution_count": 22,
   "id": "fe838806",
   "metadata": {},
   "outputs": [
    {
     "name": "stderr",
     "output_type": "stream",
     "text": [
      "/Library/Frameworks/Python.framework/Versions/3.9/lib/python3.9/site-packages/sklearn/manifold/_t_sne.py:780: FutureWarning: The default initialization in TSNE will change from 'random' to 'pca' in 1.2.\n",
      "  warnings.warn(\n",
      "/Library/Frameworks/Python.framework/Versions/3.9/lib/python3.9/site-packages/sklearn/manifold/_t_sne.py:790: FutureWarning: The default learning rate in TSNE will change from 200.0 to 'auto' in 1.2.\n",
      "  warnings.warn(\n"
     ]
    }
   ],
   "source": [
    "tsne = TSNE(n_components=2, perplexity=30.0, random_state=0)\n",
    "embedded = tsne.fit_transform(projected)\n"
   ]
  },
  {
   "cell_type": "code",
   "execution_count": 23,
   "id": "cc22b8ee",
   "metadata": {},
   "outputs": [
    {
     "name": "stdout",
     "output_type": "stream",
     "text": [
      "[[-22.887768   16.138916 ]\n",
      " [-54.59031    22.7679   ]\n",
      " [ 51.124084   19.455606 ]\n",
      " ...\n",
      " [ -5.0025234  32.445377 ]\n",
      " [-25.968054   31.507772 ]\n",
      " [ 10.215057  -54.65688  ]]\n",
      "[[-22.887768  -54.59031    51.124084  ...  -5.0025234 -25.968054\n",
      "   10.215057 ]\n",
      " [ 16.138916   22.7679     19.455606  ...  32.445377   31.507772\n",
      "  -54.65688  ]]\n"
     ]
    }
   ],
   "source": [
    "print(embedded)\n",
    "print(embedded.T)"
   ]
  },
  {
   "cell_type": "code",
   "execution_count": 28,
   "id": "45122b31",
   "metadata": {},
   "outputs": [
    {
     "data": {
      "image/png": "[encoded data removed]",
      "text/plain": [
       "<Figure size 720x720 with 1 Axes>"
      ]
     },
     "metadata": {
      "needs_background": "light"
     },
     "output_type": "display_data"
    }
   ],
   "source": [
    "two_components = np.hstack((embedded, tumor.reshape(-1,1)))\n",
    "two_components = pd.DataFrame(data=two_components)\n",
    "two_components.columns = [\"c1\", \"c2\", \"label\"]\n",
    "\n",
    "label_groups = two_components.groupby(\"label\")\n",
    "\n",
    "plt.figure(figsize=(10, 10))\n",
    "for label, group in label_groups:\n",
    "    plt.scatter(group[\"c1\"], group[\"c2\"], marker=\"o\", label=label)\n",
    "\n",
    "plt.legend(labels=[\"Non-Tumor\", \"Tumor\", \"Hepatocyte\"], fontsize=18)\n",
    "plt.title(\"t-SNE Clustering\", fontdict={\"fontsize\": 24})\n",
    "plt.show()\n",
    "\n",
    "#plt.scatter(embedded.T[0], embedded.T[1]) #Add class labels from segmentation"
   ]
  },
  {
   "cell_type": "markdown",
   "id": "569673c4",
   "metadata": {},
   "source": [
    "## 7a. Classification:"
   ]
  },
  {
   "cell_type": "markdown",
   "id": "2617582e-5faf-4bfe-ae98-bf60e528a314",
   "metadata": {},
   "source": [
    "If you want to classify a tissue sample into specific regions based on their gene expression data, you will first need to define different regions you would like to classify. This can be done using the Loupe method explained in **Part 4: PCA** of this notebook. The analysis below is on classifying a tissue sample into tumor, non-tumor, and hepatocyte regions."
   ]
  },
  {
   "cell_type": "markdown",
   "id": "40fc7b7c-a237-4bd1-954d-8fb574eb919e",
   "metadata": {},
   "source": [
    "Methods Used:\n",
    "1. Support-Vector Machine Classifier\n",
    "2. Decision Tree Classifier\n",
    "3. Random Forest Classifier"
   ]
  },
  {
   "cell_type": "code",
   "execution_count": 25,
   "id": "a000606a",
   "metadata": {},
   "outputs": [],
   "source": [
    "tumor = pd.read_csv(\"Tumor.csv\")\n",
    "non_tumor = pd.read_csv(\"Non-Tumor.csv\")\n",
    "hepatocyte = pd.read_csv(\"Hepatocyte.csv\")"
   ]
  },
  {
   "cell_type": "code",
   "execution_count": 26,
   "id": "49449875",
   "metadata": {},
   "outputs": [
    {
     "name": "stdout",
     "output_type": "stream",
     "text": [
      "[ 1.  1.  1. ... nan nan  1.]\n"
     ]
    }
   ],
   "source": [
    "tumor = np.array(tumor[\"Tumor\"])\n",
    "print(tumor)\n"
   ]
  },
  {
   "cell_type": "code",
   "execution_count": 27,
   "id": "a65b3feb",
   "metadata": {},
   "outputs": [
    {
     "name": "stdout",
     "output_type": "stream",
     "text": [
      "2571\n",
      "2532\n",
      "2529\n",
      "281\n",
      "[1. 1. 1. 0. 0. 1. 2. 0. 0. 0. 1. 1. 1. 1. 1. 1. 1. 0. 1. 1.]\n"
     ]
    }
   ],
   "source": [
    "for i in range(3522):\n",
    "    if np.isnan(tumor[i]):\n",
    "        tumor[i] = 0\n",
    "print((tumor==1).sum())\n",
    "for i in range(3522):\n",
    "    if np.isnan(non_tumor[\"Non-Tumor\"][i]) == False:\n",
    "        tumor[i] = 0\n",
    "print((tumor==1).sum())\n",
    "\n",
    "for j in range(3522):\n",
    "    if np.isnan(hepatocyte[\"Hepatocyte\"][j]) == False:\n",
    "        tumor[j] = 2\n",
    "print((tumor==1).sum())\n",
    "print((tumor==2).sum())\n",
    "print(tumor[0:20])"
   ]
  },
  {
   "cell_type": "code",
   "execution_count": 29,
   "id": "15825fa1",
   "metadata": {},
   "outputs": [],
   "source": [
    "sc = StandardScaler()\n",
    "no = Normalizer()"
   ]
  },
  {
   "cell_type": "code",
   "execution_count": 30,
   "id": "5791c431",
   "metadata": {},
   "outputs": [
    {
     "name": "stdout",
     "output_type": "stream",
     "text": [
      "[[ 0.93811728  0.36109474  0.54273543  0.18698935]\n",
      " [ 1.60676671 -2.00024485 -1.10160058 -1.18967684]\n",
      " [-1.06758532  0.17395594 -0.11684745 -0.01206202]\n",
      " ...\n",
      " [ 1.02163516  2.69483307 -0.49914913  1.28344976]\n",
      " [ 1.38053766  0.38526521  0.01426075 -1.59310526]\n",
      " [-0.51831721 -0.33029945 -0.65961558 -0.36175697]]\n",
      "[[ 0.98640611  0.13544598  0.08999053  0.02364472]\n",
      " [ 0.90653293 -0.40258749 -0.09800876 -0.08071949]\n",
      " [-0.99816578  0.05802106 -0.01722778 -0.00135625]\n",
      " ...\n",
      " [ 0.72277808  0.68012285 -0.05568644  0.10919599]\n",
      " [ 0.98572535  0.09813271  0.00160568 -0.13679518]\n",
      " [-0.95389757 -0.21685045 -0.19142868 -0.08006481]]\n"
     ]
    }
   ],
   "source": [
    "scaled_train = sc.fit_transform(projected)\n",
    "print(scaled_train)\n",
    "normalized_train = no.fit_transform(projected)\n",
    "print(normalized_train)"
   ]
  },
  {
   "cell_type": "code",
   "execution_count": 31,
   "id": "e191d33a",
   "metadata": {},
   "outputs": [],
   "source": [
    "X_train, X_test, y_train, y_test = train_test_split(scaled_train, tumor, test_size=.2, random_state=0, shuffle=True, stratify=tumor)\n",
    "X_train_us, X_test_us, y_train_us, y_test_us = train_test_split(projected, tumor, test_size=.2, random_state=0, shuffle=True, stratify=tumor)"
   ]
  },
  {
   "cell_type": "code",
   "execution_count": 32,
   "id": "6d428ddd",
   "metadata": {},
   "outputs": [],
   "source": [
    "model = LogisticRegression(random_state=0)"
   ]
  },
  {
   "cell_type": "code",
   "execution_count": 33,
   "id": "1b912c33",
   "metadata": {},
   "outputs": [
    {
     "data": {
      "text/plain": [
       "LogisticRegression(random_state=0)"
      ]
     },
     "execution_count": 33,
     "metadata": {},
     "output_type": "execute_result"
    }
   ],
   "source": [
    "model.fit(X_train, y_train)"
   ]
  },
  {
   "cell_type": "code",
   "execution_count": 34,
   "id": "328e295e",
   "metadata": {},
   "outputs": [
    {
     "data": {
      "text/plain": [
       "0.9134751773049645"
      ]
     },
     "execution_count": 34,
     "metadata": {},
     "output_type": "execute_result"
    }
   ],
   "source": [
    "model.score(X_test, y_test)"
   ]
  },
  {
   "cell_type": "code",
   "execution_count": 35,
   "id": "cacd08e3",
   "metadata": {},
   "outputs": [],
   "source": [
    "rfc_model = rfc(random_state=0)"
   ]
  },
  {
   "cell_type": "code",
   "execution_count": 36,
   "id": "13c967cf",
   "metadata": {},
   "outputs": [
    {
     "data": {
      "text/plain": [
       "RandomForestClassifier(random_state=0)"
      ]
     },
     "execution_count": 36,
     "metadata": {},
     "output_type": "execute_result"
    }
   ],
   "source": [
    "rfc_model.fit(X_train_us, y_train_us)"
   ]
  },
  {
   "cell_type": "code",
   "execution_count": 37,
   "id": "55c62574",
   "metadata": {},
   "outputs": [
    {
     "data": {
      "text/plain": [
       "0.9333333333333333"
      ]
     },
     "execution_count": 37,
     "metadata": {},
     "output_type": "execute_result"
    }
   ],
   "source": [
    "rfc_model.score(X_test_us, y_test_us)"
   ]
  },
  {
   "cell_type": "code",
   "execution_count": 38,
   "id": "05c902b9",
   "metadata": {},
   "outputs": [],
   "source": [
    "svc_model = svc(random_state=0)"
   ]
  },
  {
   "cell_type": "code",
   "execution_count": 39,
   "id": "25ae6ed5",
   "metadata": {},
   "outputs": [
    {
     "data": {
      "text/plain": [
       "SVC(random_state=0)"
      ]
     },
     "execution_count": 39,
     "metadata": {},
     "output_type": "execute_result"
    }
   ],
   "source": [
    "svc_model.fit(X_train, y_train)"
   ]
  },
  {
   "cell_type": "code",
   "execution_count": 40,
   "id": "5cc653a8",
   "metadata": {},
   "outputs": [
    {
     "data": {
      "text/plain": [
       "0.9319148936170213"
      ]
     },
     "execution_count": 40,
     "metadata": {},
     "output_type": "execute_result"
    }
   ],
   "source": [
    "svc_model.score(X_test,y_test)"
   ]
  },
  {
   "cell_type": "code",
   "execution_count": 46,
   "id": "8d63f3d3",
   "metadata": {},
   "outputs": [],
   "source": [
    "dtc_model = dtc(random_state=0, max_depth=3)"
   ]
  },
  {
   "cell_type": "code",
   "execution_count": 47,
   "id": "a4769a67",
   "metadata": {},
   "outputs": [
    {
     "data": {
      "text/plain": [
       "DecisionTreeClassifier(max_depth=3, random_state=0)"
      ]
     },
     "execution_count": 47,
     "metadata": {},
     "output_type": "execute_result"
    }
   ],
   "source": [
    "dtc_model.fit(X_train_us, y_train_us)"
   ]
  },
  {
   "cell_type": "code",
   "execution_count": 48,
   "id": "f0ec65c5",
   "metadata": {},
   "outputs": [
    {
     "data": {
      "text/plain": [
       "0.8567375886524823"
      ]
     },
     "execution_count": 48,
     "metadata": {},
     "output_type": "execute_result"
    }
   ],
   "source": [
    "dtc_model.score(X_test_us, y_test_us)"
   ]
  },
  {
   "cell_type": "code",
   "execution_count": 59,
   "id": "d1f35ae9",
   "metadata": {},
   "outputs": [
    {
     "data": {
      "text/plain": [
       "[Text(0.5, 0.875, 'PCA2 <= 106.192\\ngini = 0.437\\nsamples = 2817\\nvalue = [569, 2023, 225]'),\n",
       " Text(0.25, 0.625, 'PCA4 <= -71.689\\ngini = 0.328\\nsamples = 2463\\nvalue = [273, 1990, 200]'),\n",
       " Text(0.125, 0.375, 'PCA1 <= 171.976\\ngini = 0.299\\nsamples = 120\\nvalue = [98, 22, 0]'),\n",
       " Text(0.0625, 0.125, 'gini = 0.48\\nsamples = 20\\nvalue = [8, 12, 0]'),\n",
       " Text(0.1875, 0.125, 'gini = 0.18\\nsamples = 100\\nvalue = [90, 10, 0]'),\n",
       " Text(0.375, 0.375, 'PCA3 <= -37.368\\ngini = 0.282\\nsamples = 2343\\nvalue = [175, 1968, 200]'),\n",
       " Text(0.3125, 0.125, 'gini = 0.543\\nsamples = 663\\nvalue = [78, 401, 184]'),\n",
       " Text(0.4375, 0.125, 'gini = 0.127\\nsamples = 1680\\nvalue = [97, 1567, 16]'),\n",
       " Text(0.75, 0.625, 'PCA4 <= 9.559\\ngini = 0.287\\nsamples = 354\\nvalue = [296, 33, 25]'),\n",
       " Text(0.625, 0.375, 'PCA1 <= 226.711\\ngini = 0.094\\nsamples = 203\\nvalue = [193, 1, 9]'),\n",
       " Text(0.5625, 0.125, 'gini = 0.375\\nsamples = 28\\nvalue = [21, 0, 7]'),\n",
       " Text(0.6875, 0.125, 'gini = 0.034\\nsamples = 175\\nvalue = [172, 1, 2]'),\n",
       " Text(0.875, 0.375, 'PCA3 <= -12.157\\ngini = 0.479\\nsamples = 151\\nvalue = [103, 32, 16]'),\n",
       " Text(0.8125, 0.125, 'gini = 0.329\\nsamples = 113\\nvalue = [91, 6, 16]'),\n",
       " Text(0.9375, 0.125, 'gini = 0.432\\nsamples = 38\\nvalue = [12, 26, 0]')]"
      ]
     },
     "execution_count": 59,
     "metadata": {},
     "output_type": "execute_result"
    },
    {
     "data": {
      "image/png": "[encoded data removed]",
      "text/plain": [
       "<Figure size 1080x1080 with 1 Axes>"
      ]
     },
     "metadata": {
      "needs_background": "light"
     },
     "output_type": "display_data"
    }
   ],
   "source": [
    "from sklearn import tree\n",
    "plt.figure(figsize=(15,15))\n",
    "tree.plot_tree(dtc_model,\n",
    "                feature_names=[\"PCA1\", \"PCA2\", \"PCA3\", \"PCA4\"],\n",
    "                filled=True,\n",
    "                rounded=True,\n",
    "              fontsize=8.5)"
   ]
  },
  {
   "cell_type": "code",
   "execution_count": 48,
   "id": "e5243900",
   "metadata": {},
   "outputs": [
    {
     "data": {
      "text/plain": [
       "[Text(0.6618631595254958, 0.975, 'PCA1 <= 434.957\\ngini = 0.436\\nsamples = 1784\\nvalue = [565, 2026, 226]'),\n",
       " Text(0.40587929355524077, 0.925, 'PCA3 <= -37.368\\ngini = 0.324\\nsamples = 1396\\nvalue = [200, 1802, 220]'),\n",
       " Text(0.19281161473087818, 0.875, 'PCA4 <= 23.215\\ngini = 0.589\\nsamples = 355\\nvalue = [68, 285, 201]'),\n",
       " Text(0.1051699716713881, 0.825, 'PCA2 <= -22.408\\ngini = 0.385\\nsamples = 226\\nvalue = [48, 268, 34]'),\n",
       " Text(0.03541076487252125, 0.775, 'PCA1 <= -233.945\\ngini = 0.087\\nsamples = 143\\nvalue = [3, 213, 7]'),\n",
       " Text(0.0113314447592068, 0.725, 'PCA4 <= -8.281\\ngini = 0.432\\nsamples = 11\\nvalue = [0, 13, 6]'),\n",
       " Text(0.0056657223796034, 0.675, 'gini = 0.0\\nsamples = 8\\nvalue = [0, 11, 0]'),\n",
       " Text(0.0169971671388102, 0.675, 'PCA4 <= -0.166\\ngini = 0.375\\nsamples = 3\\nvalue = [0, 2, 6]'),\n",
       " Text(0.0113314447592068, 0.625, 'gini = 0.0\\nsamples = 2\\nvalue = [0, 0, 6]'),\n",
       " Text(0.0226628895184136, 0.625, 'gini = 0.0\\nsamples = 1\\nvalue = [0, 2, 0]'),\n",
       " Text(0.059490084985835696, 0.725, 'PCA1 <= 354.52\\ngini = 0.039\\nsamples = 132\\nvalue = [3, 200, 1]'),\n",
       " Text(0.0453257790368272, 0.675, 'PCA3 <= -39.604\\ngini = 0.021\\nsamples = 122\\nvalue = [1, 185, 1]'),\n",
       " Text(0.0339943342776204, 0.625, 'PCA2 <= -67.758\\ngini = 0.011\\nsamples = 119\\nvalue = [1, 181, 0]'),\n",
       " Text(0.028328611898016998, 0.575, 'gini = 0.0\\nsamples = 109\\nvalue = [0, 165, 0]'),\n",
       " Text(0.039660056657223795, 0.575, 'PCA4 <= -63.437\\ngini = 0.111\\nsamples = 10\\nvalue = [1, 16, 0]'),\n",
       " Text(0.0339943342776204, 0.525, 'gini = 0.0\\nsamples = 1\\nvalue = [1, 0, 0]'),\n",
       " Text(0.0453257790368272, 0.525, 'gini = 0.0\\nsamples = 9\\nvalue = [0, 16, 0]'),\n",
       " Text(0.056657223796033995, 0.625, 'PCA3 <= -39.057\\ngini = 0.32\\nsamples = 3\\nvalue = [0, 4, 1]'),\n",
       " Text(0.05099150141643059, 0.575, 'gini = 0.0\\nsamples = 1\\nvalue = [0, 0, 1]'),\n",
       " Text(0.06232294617563739, 0.575, 'gini = 0.0\\nsamples = 2\\nvalue = [0, 4, 0]'),\n",
       " Text(0.07365439093484419, 0.675, 'PCA4 <= -79.512\\ngini = 0.208\\nsamples = 10\\nvalue = [2, 15, 0]'),\n",
       " Text(0.0679886685552408, 0.625, 'gini = 0.0\\nsamples = 1\\nvalue = [2, 0, 0]'),\n",
       " Text(0.07932011331444759, 0.625, 'gini = 0.0\\nsamples = 9\\nvalue = [0, 15, 0]'),\n",
       " Text(0.17492917847025496, 0.775, 'PCA1 <= -33.448\\ngini = 0.642\\nsamples = 83\\nvalue = [45, 55, 27]'),\n",
       " Text(0.13739376770538245, 0.725, 'PCA2 <= 46.862\\ngini = 0.563\\nsamples = 56\\nvalue = [16, 53, 20]'),\n",
       " Text(0.11048158640226628, 0.675, 'PCA4 <= 13.109\\ngini = 0.663\\nsamples = 24\\nvalue = [12, 14, 11]'),\n",
       " Text(0.0906515580736544, 0.625, 'PCA1 <= -547.848\\ngini = 0.577\\nsamples = 19\\nvalue = [3, 14, 9]'),\n",
       " Text(0.07932011331444759, 0.575, 'PCA2 <= 42.186\\ngini = 0.408\\nsamples = 5\\nvalue = [2, 5, 0]'),\n",
       " Text(0.07365439093484419, 0.525, 'gini = 0.0\\nsamples = 3\\nvalue = [0, 4, 0]'),\n",
       " Text(0.08498583569405099, 0.525, 'PCA4 <= 10.244\\ngini = 0.444\\nsamples = 2\\nvalue = [2, 1, 0]'),\n",
       " Text(0.07932011331444759, 0.475, 'gini = 0.0\\nsamples = 1\\nvalue = [2, 0, 0]'),\n",
       " Text(0.0906515580736544, 0.475, 'gini = 0.0\\nsamples = 1\\nvalue = [0, 1, 0]'),\n",
       " Text(0.10198300283286119, 0.575, 'PCA4 <= -7.788\\ngini = 0.548\\nsamples = 14\\nvalue = [1, 9, 9]'),\n",
       " Text(0.09631728045325778, 0.525, 'gini = 0.0\\nsamples = 7\\nvalue = [0, 8, 0]'),\n",
       " Text(0.10764872521246459, 0.525, 'PCA2 <= -15.643\\ngini = 0.314\\nsamples = 7\\nvalue = [1, 1, 9]'),\n",
       " Text(0.10198300283286119, 0.475, 'gini = 0.0\\nsamples = 1\\nvalue = [1, 0, 0]'),\n",
       " Text(0.11331444759206799, 0.475, 'PCA2 <= 43.487\\ngini = 0.18\\nsamples = 6\\nvalue = [0, 1, 9]'),\n",
       " Text(0.10764872521246459, 0.425, 'gini = 0.0\\nsamples = 5\\nvalue = [0, 0, 9]'),\n",
       " Text(0.11898016997167139, 0.425, 'gini = 0.0\\nsamples = 1\\nvalue = [0, 1, 0]'),\n",
       " Text(0.13031161473087818, 0.625, 'PCA3 <= -45.995\\ngini = 0.298\\nsamples = 5\\nvalue = [9, 0, 2]'),\n",
       " Text(0.12464589235127478, 0.575, 'PCA1 <= -499.281\\ngini = 0.5\\nsamples = 2\\nvalue = [2, 0, 2]'),\n",
       " Text(0.11898016997167139, 0.525, 'gini = 0.0\\nsamples = 1\\nvalue = [0, 0, 2]'),\n",
       " Text(0.13031161473087818, 0.525, 'gini = 0.0\\nsamples = 1\\nvalue = [2, 0, 0]'),\n",
       " Text(0.1359773371104816, 0.575, 'gini = 0.0\\nsamples = 3\\nvalue = [7, 0, 0]'),\n",
       " Text(0.1643059490084986, 0.675, 'PCA1 <= -513.83\\ngini = 0.402\\nsamples = 32\\nvalue = [4, 39, 9]'),\n",
       " Text(0.15864022662889518, 0.625, 'PCA2 <= 68.815\\ngini = 0.322\\nsamples = 29\\nvalue = [4, 39, 5]'),\n",
       " Text(0.14730878186968838, 0.575, 'PCA4 <= 16.249\\ngini = 0.51\\nsamples = 13\\nvalue = [3, 15, 5]'),\n",
       " Text(0.141643059490085, 0.525, 'PCA2 <= 66.792\\ngini = 0.278\\nsamples = 10\\nvalue = [3, 15, 0]'),\n",
       " Text(0.1359773371104816, 0.475, 'gini = 0.0\\nsamples = 9\\nvalue = [0, 15, 0]'),\n",
       " Text(0.14730878186968838, 0.475, 'gini = 0.0\\nsamples = 1\\nvalue = [3, 0, 0]'),\n",
       " Text(0.1529745042492918, 0.525, 'gini = 0.0\\nsamples = 3\\nvalue = [0, 0, 5]'),\n",
       " Text(0.16997167138810199, 0.575, 'PCA4 <= 18.722\\ngini = 0.077\\nsamples = 16\\nvalue = [1, 24, 0]'),\n",
       " Text(0.1643059490084986, 0.525, 'gini = 0.0\\nsamples = 13\\nvalue = [0, 20, 0]'),\n",
       " Text(0.17563739376770537, 0.525, 'PCA4 <= 20.664\\ngini = 0.32\\nsamples = 3\\nvalue = [1, 4, 0]'),\n",
       " Text(0.16997167138810199, 0.475, 'gini = 0.0\\nsamples = 1\\nvalue = [1, 0, 0]'),\n",
       " Text(0.1813031161473088, 0.475, 'gini = 0.0\\nsamples = 2\\nvalue = [0, 4, 0]'),\n",
       " Text(0.16997167138810199, 0.625, 'gini = 0.0\\nsamples = 3\\nvalue = [0, 0, 4]'),\n",
       " Text(0.21246458923512748, 0.725, 'PCA1 <= 134.92\\ngini = 0.381\\nsamples = 27\\nvalue = [29, 2, 7]'),\n",
       " Text(0.19263456090651557, 0.675, 'PCA1 <= 12.427\\ngini = 0.5\\nsamples = 8\\nvalue = [6, 0, 6]'),\n",
       " Text(0.18696883852691218, 0.625, 'gini = 0.0\\nsamples = 2\\nvalue = [5, 0, 0]'),\n",
       " Text(0.19830028328611898, 0.625, 'PCA4 <= -8.345\\ngini = 0.245\\nsamples = 6\\nvalue = [1, 0, 6]'),\n",
       " Text(0.19263456090651557, 0.575, 'PCA4 <= -13.206\\ngini = 0.444\\nsamples = 3\\nvalue = [1, 0, 2]'),\n",
       " Text(0.18696883852691218, 0.525, 'gini = 0.0\\nsamples = 2\\nvalue = [0, 0, 2]'),\n",
       " Text(0.19830028328611898, 0.525, 'gini = 0.0\\nsamples = 1\\nvalue = [1, 0, 0]'),\n",
       " Text(0.20396600566572237, 0.575, 'gini = 0.0\\nsamples = 3\\nvalue = [0, 0, 4]'),\n",
       " Text(0.23229461756373937, 0.675, 'PCA3 <= -48.282\\ngini = 0.21\\nsamples = 19\\nvalue = [23, 2, 1]'),\n",
       " Text(0.22096317280453256, 0.625, 'PCA4 <= -11.808\\ngini = 0.087\\nsamples = 15\\nvalue = [21, 0, 1]'),\n",
       " Text(0.21529745042492918, 0.575, 'gini = 0.0\\nsamples = 9\\nvalue = [13, 0, 0]'),\n",
       " Text(0.22662889518413598, 0.575, 'PCA4 <= -5.625\\ngini = 0.198\\nsamples = 6\\nvalue = [8, 0, 1]'),\n",
       " Text(0.22096317280453256, 0.525, 'gini = 0.0\\nsamples = 1\\nvalue = [0, 0, 1]'),\n",
       " Text(0.23229461756373937, 0.525, 'gini = 0.0\\nsamples = 5\\nvalue = [8, 0, 0]'),\n",
       " Text(0.24362606232294617, 0.625, 'PCA2 <= 95.783\\ngini = 0.5\\nsamples = 4\\nvalue = [2, 2, 0]'),\n",
       " Text(0.23796033994334279, 0.575, 'gini = 0.0\\nsamples = 2\\nvalue = [0, 2, 0]'),\n",
       " Text(0.24929178470254956, 0.575, 'gini = 0.0\\nsamples = 2\\nvalue = [2, 0, 0]'),\n",
       " Text(0.2804532577903683, 0.825, 'PCA2 <= -69.779\\ngini = 0.313\\nsamples = 129\\nvalue = [20, 17, 167]'),\n",
       " Text(0.26628895184135976, 0.775, 'PCA4 <= 86.627\\ngini = 0.432\\nsamples = 14\\nvalue = [6, 13, 0]'),\n",
       " Text(0.26062322946175637, 0.725, 'PCA3 <= -130.458\\ngini = 0.133\\nsamples = 10\\nvalue = [1, 13, 0]'),\n",
       " Text(0.254957507082153, 0.675, 'gini = 0.0\\nsamples = 1\\nvalue = [1, 0, 0]'),\n",
       " Text(0.26628895184135976, 0.675, 'gini = 0.0\\nsamples = 9\\nvalue = [0, 13, 0]'),\n",
       " Text(0.2719546742209632, 0.725, 'gini = 0.0\\nsamples = 4\\nvalue = [5, 0, 0]'),\n",
       " Text(0.29461756373937675, 0.775, 'PCA2 <= 278.327\\ngini = 0.179\\nsamples = 115\\nvalue = [14, 4, 167]'),\n",
       " Text(0.28895184135977336, 0.725, 'PCA3 <= -39.085\\ngini = 0.108\\nsamples = 108\\nvalue = [6, 4, 167]'),\n",
       " Text(0.2776203966005666, 0.675, 'PCA4 <= 128.252\\ngini = 0.079\\nsamples = 105\\nvalue = [6, 1, 164]'),\n",
       " Text(0.2719546742209632, 0.625, 'PCA1 <= -564.647\\ngini = 0.068\\nsamples = 104\\nvalue = [6, 0, 164]'),\n",
       " Text(0.26062322946175637, 0.575, 'PCA2 <= 44.613\\ngini = 0.219\\nsamples = 27\\nvalue = [5, 0, 35]'),\n",
       " Text(0.254957507082153, 0.525, 'PCA2 <= 43.069\\ngini = 0.473\\nsamples = 7\\nvalue = [5, 0, 8]'),\n",
       " Text(0.24929178470254956, 0.475, 'gini = 0.0\\nsamples = 5\\nvalue = [0, 0, 8]'),\n",
       " Text(0.26062322946175637, 0.475, 'gini = 0.0\\nsamples = 2\\nvalue = [5, 0, 0]'),\n",
       " Text(0.26628895184135976, 0.525, 'gini = 0.0\\nsamples = 20\\nvalue = [0, 0, 27]'),\n",
       " Text(0.28328611898017, 0.575, 'PCA3 <= -47.167\\ngini = 0.015\\nsamples = 77\\nvalue = [1, 0, 129]'),\n",
       " Text(0.2776203966005666, 0.525, 'gini = 0.0\\nsamples = 70\\nvalue = [0, 0, 123]'),\n",
       " Text(0.28895184135977336, 0.525, 'PCA1 <= -203.582\\ngini = 0.245\\nsamples = 7\\nvalue = [1, 0, 6]'),\n",
       " Text(0.28328611898017, 0.475, 'gini = 0.0\\nsamples = 5\\nvalue = [0, 0, 5]'),\n",
       " Text(0.29461756373937675, 0.475, 'PCA4 <= 59.186\\ngini = 0.5\\nsamples = 2\\nvalue = [1, 0, 1]'),\n",
       " Text(0.28895184135977336, 0.425, 'gini = 0.0\\nsamples = 1\\nvalue = [0, 0, 1]'),\n",
       " Text(0.3002832861189802, 0.425, 'gini = 0.0\\nsamples = 1\\nvalue = [1, 0, 0]'),\n",
       " Text(0.28328611898017, 0.625, 'gini = 0.0\\nsamples = 1\\nvalue = [0, 1, 0]'),\n",
       " Text(0.3002832861189802, 0.675, 'PCA1 <= -113.614\\ngini = 0.5\\nsamples = 3\\nvalue = [0, 3, 3]'),\n",
       " Text(0.29461756373937675, 0.625, 'gini = 0.0\\nsamples = 2\\nvalue = [0, 0, 3]'),\n",
       " Text(0.3059490084985836, 0.625, 'gini = 0.0\\nsamples = 1\\nvalue = [0, 3, 0]'),\n",
       " Text(0.3002832861189802, 0.725, 'gini = 0.0\\nsamples = 7\\nvalue = [8, 0, 0]'),\n",
       " Text(0.6189469723796034, 0.875, 'PCA2 <= 99.209\\ngini = 0.166\\nsamples = 1041\\nvalue = [132, 1517, 19]'),\n",
       " Text(0.4701885623229462, 0.825, 'PCA4 <= -56.034\\ngini = 0.126\\nsamples = 1001\\nvalue = [91, 1497, 16]'),\n",
       " Text(0.3597733711048159, 0.775, 'PCA2 <= -11.576\\ngini = 0.5\\nsamples = 50\\nvalue = [44, 43, 0]'),\n",
       " Text(0.33994334277620397, 0.725, 'PCA3 <= 52.173\\ngini = 0.433\\nsamples = 33\\nvalue = [19, 41, 0]'),\n",
       " Text(0.3342776203966006, 0.675, 'PCA1 <= 52.667\\ngini = 0.471\\nsamples = 27\\nvalue = [19, 31, 0]'),\n",
       " Text(0.31728045325779036, 0.625, 'PCA2 <= -39.087\\ngini = 0.204\\nsamples = 12\\nvalue = [3, 23, 0]'),\n",
       " Text(0.311614730878187, 0.575, 'gini = 0.0\\nsamples = 8\\nvalue = [0, 18, 0]'),\n",
       " Text(0.32294617563739375, 0.575, 'PCA3 <= -18.419\\ngini = 0.469\\nsamples = 4\\nvalue = [3, 5, 0]'),\n",
       " Text(0.31728045325779036, 0.525, 'gini = 0.0\\nsamples = 2\\nvalue = [0, 5, 0]'),\n",
       " Text(0.3286118980169972, 0.525, 'gini = 0.0\\nsamples = 2\\nvalue = [3, 0, 0]'),\n",
       " Text(0.35127478753541075, 0.625, 'PCA1 <= 401.808\\ngini = 0.444\\nsamples = 15\\nvalue = [16, 8, 0]'),\n",
       " Text(0.34560906515580736, 0.575, 'PCA2 <= -144.669\\ngini = 0.32\\nsamples = 13\\nvalue = [16, 4, 0]'),\n",
       " Text(0.33994334277620397, 0.525, 'gini = 0.0\\nsamples = 1\\nvalue = [0, 1, 0]'),\n",
       " Text(0.35127478753541075, 0.525, 'PCA4 <= -66.198\\ngini = 0.266\\nsamples = 12\\nvalue = [16, 3, 0]'),\n",
       " Text(0.33994334277620397, 0.475, 'PCA1 <= 109.173\\ngini = 0.117\\nsamples = 9\\nvalue = [15, 1, 0]'),\n",
       " Text(0.3342776203966006, 0.425, 'PCA1 <= 67.085\\ngini = 0.444\\nsamples = 2\\nvalue = [2, 1, 0]'),\n",
       " Text(0.3286118980169972, 0.375, 'gini = 0.0\\nsamples = 1\\nvalue = [2, 0, 0]'),\n",
       " Text(0.33994334277620397, 0.375, 'gini = 0.0\\nsamples = 1\\nvalue = [0, 1, 0]'),\n",
       " Text(0.34560906515580736, 0.425, 'gini = 0.0\\nsamples = 7\\nvalue = [13, 0, 0]'),\n",
       " Text(0.3626062322946176, 0.475, 'PCA2 <= -84.885\\ngini = 0.444\\nsamples = 3\\nvalue = [1, 2, 0]'),\n",
       " Text(0.35694050991501414, 0.425, 'gini = 0.0\\nsamples = 1\\nvalue = [1, 0, 0]'),\n",
       " Text(0.36827195467422097, 0.425, 'gini = 0.0\\nsamples = 2\\nvalue = [0, 2, 0]'),\n",
       " Text(0.35694050991501414, 0.575, 'gini = 0.0\\nsamples = 2\\nvalue = [0, 4, 0]'),\n",
       " Text(0.34560906515580736, 0.675, 'gini = 0.0\\nsamples = 6\\nvalue = [0, 10, 0]'),\n",
       " Text(0.37960339943342775, 0.725, 'PCA1 <= -77.518\\ngini = 0.137\\nsamples = 17\\nvalue = [25, 2, 0]'),\n",
       " Text(0.36827195467422097, 0.675, 'PCA1 <= -166.314\\ngini = 0.444\\nsamples = 2\\nvalue = [2, 1, 0]'),\n",
       " Text(0.3626062322946176, 0.625, 'gini = 0.0\\nsamples = 1\\nvalue = [2, 0, 0]'),\n",
       " Text(0.37393767705382436, 0.625, 'gini = 0.0\\nsamples = 1\\nvalue = [0, 1, 0]'),\n",
       " Text(0.3909348441926346, 0.675, 'PCA3 <= 167.451\\ngini = 0.08\\nsamples = 15\\nvalue = [23, 1, 0]'),\n",
       " Text(0.38526912181303113, 0.625, 'gini = 0.0\\nsamples = 14\\nvalue = [23, 0, 0]'),\n",
       " Text(0.39660056657223797, 0.625, 'gini = 0.0\\nsamples = 1\\nvalue = [0, 1, 0]'),\n",
       " Text(0.5806037535410765, 0.775, 'PCA3 <= -26.278\\ngini = 0.08\\nsamples = 951\\nvalue = [47, 1454, 16]'),\n",
       " Text(0.4915014164305949, 0.725, 'PCA3 <= -26.593\\ngini = 0.237\\nsamples = 113\\nvalue = [15, 172, 11]'),\n",
       " Text(0.46175637393767704, 0.675, 'PCA1 <= -697.144\\ngini = 0.178\\nsamples = 109\\nvalue = [11, 170, 7]'),\n",
       " Text(0.45609065155807366, 0.625, 'gini = 0.0\\nsamples = 2\\nvalue = [2, 0, 0]'),\n",
       " Text(0.46742209631728043, 0.625, 'PCA4 <= 22.842\\ngini = 0.161\\nsamples = 107\\nvalue = [9, 170, 7]'),\n",
       " Text(0.43626062322946174, 0.575, 'PCA1 <= -78.456\\ngini = 0.112\\nsamples = 93\\nvalue = [9, 159, 1]'),\n",
       " Text(0.41359773371104813, 0.525, 'PCA4 <= 11.846\\ngini = 0.08\\nsamples = 76\\nvalue = [5, 139, 1]'),\n",
       " Text(0.3909348441926346, 0.475, 'PCA4 <= -16.661\\ngini = 0.047\\nsamples = 63\\nvalue = [2, 121, 1]'),\n",
       " Text(0.37960339943342775, 0.425, 'PCA4 <= -17.545\\ngini = 0.128\\nsamples = 15\\nvalue = [2, 27, 0]'),\n",
       " Text(0.37393767705382436, 0.375, 'gini = 0.0\\nsamples = 14\\nvalue = [0, 27, 0]'),\n",
       " Text(0.38526912181303113, 0.375, 'gini = 0.0\\nsamples = 1\\nvalue = [2, 0, 0]'),\n",
       " Text(0.40226628895184136, 0.425, 'PCA1 <= -204.374\\ngini = 0.021\\nsamples = 48\\nvalue = [0, 94, 1]'),\n",
       " Text(0.39660056657223797, 0.375, 'gini = 0.0\\nsamples = 46\\nvalue = [0, 92, 0]'),\n",
       " Text(0.40793201133144474, 0.375, 'PCA3 <= -33.896\\ngini = 0.444\\nsamples = 2\\nvalue = [0, 2, 1]'),\n",
       " Text(0.40226628895184136, 0.325, 'gini = 0.0\\nsamples = 1\\nvalue = [0, 2, 0]'),\n",
       " Text(0.41359773371104813, 0.325, 'gini = 0.0\\nsamples = 1\\nvalue = [0, 0, 1]'),\n",
       " Text(0.43626062322946174, 0.475, 'PCA1 <= -601.004\\ngini = 0.245\\nsamples = 13\\nvalue = [3, 18, 0]'),\n",
       " Text(0.42492917847025496, 0.425, 'PCA3 <= -30.14\\ngini = 0.105\\nsamples = 11\\nvalue = [1, 17, 0]'),\n",
       " Text(0.4192634560906516, 0.375, 'gini = 0.0\\nsamples = 10\\nvalue = [0, 17, 0]'),\n",
       " Text(0.43059490084985835, 0.375, 'gini = 0.0\\nsamples = 1\\nvalue = [1, 0, 0]'),\n",
       " Text(0.4475920679886686, 0.425, 'PCA4 <= 13.413\\ngini = 0.444\\nsamples = 2\\nvalue = [2, 1, 0]'),\n",
       " Text(0.44192634560906513, 0.375, 'gini = 0.0\\nsamples = 1\\nvalue = [2, 0, 0]'),\n",
       " Text(0.45325779036827196, 0.375, 'gini = 0.0\\nsamples = 1\\nvalue = [0, 1, 0]'),\n",
       " Text(0.45892351274787535, 0.525, 'PCA4 <= -46.287\\ngini = 0.278\\nsamples = 17\\nvalue = [4, 20, 0]'),\n",
       " Text(0.45325779036827196, 0.475, 'gini = 0.0\\nsamples = 1\\nvalue = [1, 0, 0]'),\n",
       " Text(0.46458923512747874, 0.475, 'PCA1 <= -51.593\\ngini = 0.227\\nsamples = 16\\nvalue = [3, 20, 0]'),\n",
       " Text(0.45892351274787535, 0.425, 'gini = 0.0\\nsamples = 1\\nvalue = [2, 0, 0]'),\n",
       " Text(0.4702549575070821, 0.425, 'PCA2 <= -82.193\\ngini = 0.091\\nsamples = 15\\nvalue = [1, 20, 0]'),\n",
       " Text(0.46458923512747874, 0.375, 'gini = 0.0\\nsamples = 13\\nvalue = [0, 19, 0]'),\n",
       " Text(0.47592067988668557, 0.375, 'PCA1 <= 198.551\\ngini = 0.5\\nsamples = 2\\nvalue = [1, 1, 0]'),\n",
       " Text(0.4702549575070821, 0.325, 'gini = 0.0\\nsamples = 1\\nvalue = [1, 0, 0]'),\n",
       " Text(0.48158640226628896, 0.325, 'gini = 0.0\\nsamples = 1\\nvalue = [0, 1, 0]'),\n",
       " Text(0.4985835694050991, 0.575, 'PCA4 <= 36.692\\ngini = 0.457\\nsamples = 14\\nvalue = [0, 11, 6]'),\n",
       " Text(0.49291784702549574, 0.525, 'PCA1 <= -608.851\\ngini = 0.5\\nsamples = 11\\nvalue = [0, 6, 6]'),\n",
       " Text(0.48725212464589235, 0.475, 'gini = 0.0\\nsamples = 2\\nvalue = [0, 3, 0]'),\n",
       " Text(0.4985835694050991, 0.475, 'PCA2 <= 3.987\\ngini = 0.444\\nsamples = 9\\nvalue = [0, 3, 6]'),\n",
       " Text(0.49291784702549574, 0.425, 'PCA4 <= 26.678\\ngini = 0.375\\nsamples = 4\\nvalue = [0, 3, 1]'),\n",
       " Text(0.48725212464589235, 0.375, 'gini = 0.0\\nsamples = 1\\nvalue = [0, 0, 1]'),\n",
       " Text(0.4985835694050991, 0.375, 'gini = 0.0\\nsamples = 3\\nvalue = [0, 3, 0]'),\n",
       " Text(0.5042492917847026, 0.425, 'gini = 0.0\\nsamples = 5\\nvalue = [0, 0, 5]'),\n",
       " Text(0.5042492917847026, 0.525, 'gini = 0.0\\nsamples = 3\\nvalue = [0, 5, 0]'),\n",
       " Text(0.5212464589235127, 0.675, 'PCA1 <= 91.643\\ngini = 0.64\\nsamples = 4\\nvalue = [4, 2, 4]'),\n",
       " Text(0.5155807365439093, 0.625, 'PCA4 <= 20.072\\ngini = 0.444\\nsamples = 3\\nvalue = [0, 2, 4]'),\n",
       " Text(0.509915014164306, 0.575, 'gini = 0.0\\nsamples = 2\\nvalue = [0, 2, 0]'),\n",
       " Text(0.5212464589235127, 0.575, 'gini = 0.0\\nsamples = 1\\nvalue = [0, 0, 4]'),\n",
       " Text(0.5269121813031161, 0.625, 'gini = 0.0\\nsamples = 1\\nvalue = [4, 0, 0]'),\n",
       " Text(0.6697060906515581, 0.725, 'PCA4 <= 58.323\\ngini = 0.055\\nsamples = 838\\nvalue = [32, 1282, 5]'),\n",
       " Text(0.6198654390934845, 0.675, 'PCA2 <= 58.642\\ngini = 0.038\\nsamples = 794\\nvalue = [23, 1222, 1]'),\n",
       " Text(0.5740084985835694, 0.625, 'PCA1 <= 392.168\\ngini = 0.03\\nsamples = 708\\nvalue = [16, 1093, 1]'),\n",
       " Text(0.5361189801699717, 0.575, 'PCA4 <= -54.954\\ngini = 0.025\\nsamples = 699\\nvalue = [13, 1079, 1]'),\n",
       " Text(0.5155807365439093, 0.525, 'PCA4 <= -55.223\\ngini = 0.32\\nsamples = 3\\nvalue = [1, 4, 0]'),\n",
       " Text(0.509915014164306, 0.475, 'gini = 0.0\\nsamples = 2\\nvalue = [0, 4, 0]'),\n",
       " Text(0.5212464589235127, 0.475, 'gini = 0.0\\nsamples = 1\\nvalue = [1, 0, 0]'),\n",
       " Text(0.556657223796034, 0.525, 'PCA3 <= -16.463\\ngini = 0.024\\nsamples = 696\\nvalue = [12, 1075, 1]'),\n",
       " Text(0.5325779036827195, 0.475, 'PCA3 <= -16.672\\ngini = 0.063\\nsamples = 73\\nvalue = [3, 119, 1]'),\n",
       " Text(0.5269121813031161, 0.425, 'PCA1 <= -229.404\\ngini = 0.017\\nsamples = 71\\nvalue = [0, 119, 1]'),\n",
       " Text(0.5212464589235127, 0.375, 'gini = 0.0\\nsamples = 57\\nvalue = [0, 102, 0]'),\n",
       " Text(0.5325779036827195, 0.375, 'PCA1 <= -221.993\\ngini = 0.105\\nsamples = 14\\nvalue = [0, 17, 1]'),\n",
       " Text(0.5269121813031161, 0.325, 'gini = 0.0\\nsamples = 1\\nvalue = [0, 0, 1]'),\n",
       " Text(0.5382436260623229, 0.325, 'gini = 0.0\\nsamples = 13\\nvalue = [0, 17, 0]'),\n",
       " Text(0.5382436260623229, 0.425, 'gini = 0.0\\nsamples = 2\\nvalue = [3, 0, 0]'),\n",
       " Text(0.5807365439093485, 0.475, 'PCA4 <= 41.308\\ngini = 0.018\\nsamples = 623\\nvalue = [9, 956, 0]'),\n",
       " Text(0.56657223796034, 0.425, 'PCA3 <= 180.35\\ngini = 0.015\\nsamples = 591\\nvalue = [7, 908, 0]'),\n",
       " Text(0.5552407932011332, 0.375, 'PCA2 <= -9.056\\ngini = 0.013\\nsamples = 568\\nvalue = [6, 878, 0]'),\n",
       " Text(0.5495750708215298, 0.325, 'gini = 0.0\\nsamples = 287\\nvalue = [0, 469, 0]'),\n",
       " Text(0.5609065155807366, 0.325, 'PCA2 <= -8.724\\ngini = 0.028\\nsamples = 281\\nvalue = [6, 409, 0]'),\n",
       " Text(0.5552407932011332, 0.275, 'gini = 0.0\\nsamples = 1\\nvalue = [1, 0, 0]'),\n",
       " Text(0.56657223796034, 0.275, 'PCA4 <= -13.957\\ngini = 0.024\\nsamples = 280\\nvalue = [5, 409, 0]'),\n",
       " Text(0.5524079320113314, 0.225, 'PCA1 <= -378.186\\ngini = 0.046\\nsamples = 114\\nvalue = [4, 165, 0]'),\n",
       " Text(0.546742209631728, 0.175, 'gini = 0.0\\nsamples = 47\\nvalue = [0, 67, 0]'),\n",
       " Text(0.5580736543909348, 0.175, 'PCA3 <= -3.683\\ngini = 0.075\\nsamples = 67\\nvalue = [4, 98, 0]'),\n",
       " Text(0.546742209631728, 0.125, 'PCA3 <= -4.986\\ngini = 0.231\\nsamples = 12\\nvalue = [2, 13, 0]'),\n",
       " Text(0.5410764872521246, 0.075, 'gini = 0.0\\nsamples = 11\\nvalue = [0, 13, 0]'),\n",
       " Text(0.5524079320113314, 0.075, 'gini = 0.0\\nsamples = 1\\nvalue = [2, 0, 0]'),\n",
       " Text(0.5694050991501416, 0.125, 'PCA1 <= -378.001\\ngini = 0.045\\nsamples = 55\\nvalue = [2, 85, 0]'),\n",
       " Text(0.5637393767705382, 0.075, 'gini = 0.0\\nsamples = 1\\nvalue = [1, 0, 0]'),\n",
       " Text(0.5750708215297451, 0.075, 'PCA4 <= -14.209\\ngini = 0.023\\nsamples = 54\\nvalue = [1, 85, 0]'),\n",
       " Text(0.5694050991501416, 0.025, 'gini = 0.0\\nsamples = 53\\nvalue = [0, 85, 0]'),\n",
       " Text(0.5807365439093485, 0.025, 'gini = 0.0\\nsamples = 1\\nvalue = [1, 0, 0]'),\n",
       " Text(0.5807365439093485, 0.225, 'PCA4 <= 22.463\\ngini = 0.008\\nsamples = 166\\nvalue = [1, 244, 0]'),\n",
       " Text(0.5750708215297451, 0.175, 'gini = 0.0\\nsamples = 150\\nvalue = [0, 225, 0]'),\n",
       " Text(0.5864022662889519, 0.175, 'PCA4 <= 25.107\\ngini = 0.095\\nsamples = 16\\nvalue = [1, 19, 0]'),\n",
       " Text(0.5807365439093485, 0.125, 'gini = 0.0\\nsamples = 1\\nvalue = [1, 0, 0]'),\n",
       " Text(0.5920679886685553, 0.125, 'gini = 0.0\\nsamples = 15\\nvalue = [0, 19, 0]'),\n",
       " Text(0.5779036827195467, 0.375, 'PCA3 <= 181.12\\ngini = 0.062\\nsamples = 23\\nvalue = [1, 30, 0]'),\n",
       " Text(0.5722379603399433, 0.325, 'gini = 0.0\\nsamples = 1\\nvalue = [1, 0, 0]'),\n",
       " Text(0.5835694050991501, 0.325, 'gini = 0.0\\nsamples = 22\\nvalue = [0, 30, 0]'),\n",
       " Text(0.5949008498583569, 0.425, 'PCA4 <= 42.04\\ngini = 0.077\\nsamples = 32\\nvalue = [2, 48, 0]'),\n",
       " Text(0.5892351274787535, 0.375, 'gini = 0.0\\nsamples = 1\\nvalue = [1, 0, 0]'),\n",
       " Text(0.6005665722379604, 0.375, 'PCA4 <= 45.121\\ngini = 0.04\\nsamples = 31\\nvalue = [1, 48, 0]'),\n",
       " Text(0.5949008498583569, 0.325, 'PCA4 <= 44.618\\ngini = 0.198\\nsamples = 7\\nvalue = [1, 8, 0]'),\n",
       " Text(0.5892351274787535, 0.275, 'gini = 0.0\\nsamples = 6\\nvalue = [0, 8, 0]'),\n",
       " Text(0.6005665722379604, 0.275, 'gini = 0.0\\nsamples = 1\\nvalue = [1, 0, 0]'),\n",
       " Text(0.6062322946175638, 0.325, 'gini = 0.0\\nsamples = 24\\nvalue = [0, 40, 0]'),\n",
       " Text(0.6118980169971672, 0.575, 'PCA3 <= 59.613\\ngini = 0.291\\nsamples = 9\\nvalue = [3, 14, 0]'),\n",
       " Text(0.6062322946175638, 0.525, 'PCA4 <= -32.042\\ngini = 0.49\\nsamples = 5\\nvalue = [3, 4, 0]'),\n",
       " Text(0.6005665722379604, 0.475, 'gini = 0.0\\nsamples = 1\\nvalue = [2, 0, 0]'),\n",
       " Text(0.6118980169971672, 0.475, 'PCA4 <= -8.98\\ngini = 0.32\\nsamples = 4\\nvalue = [1, 4, 0]'),\n",
       " Text(0.6062322946175638, 0.425, 'gini = 0.0\\nsamples = 2\\nvalue = [0, 3, 0]'),\n",
       " Text(0.6175637393767706, 0.425, 'PCA2 <= -37.942\\ngini = 0.5\\nsamples = 2\\nvalue = [1, 1, 0]'),\n",
       " Text(0.6118980169971672, 0.375, 'gini = 0.0\\nsamples = 1\\nvalue = [1, 0, 0]'),\n",
       " Text(0.623229461756374, 0.375, 'gini = 0.0\\nsamples = 1\\nvalue = [0, 1, 0]'),\n",
       " Text(0.6175637393767706, 0.525, 'gini = 0.0\\nsamples = 4\\nvalue = [0, 10, 0]'),\n",
       " Text(0.6657223796033994, 0.625, 'PCA3 <= 109.155\\ngini = 0.098\\nsamples = 86\\nvalue = [7, 129, 0]'),\n",
       " Text(0.660056657223796, 0.575, 'PCA1 <= -629.746\\ngini = 0.072\\nsamples = 85\\nvalue = [5, 129, 0]'),\n",
       " Text(0.6458923512747875, 0.525, 'PCA4 <= 25.883\\ngini = 0.245\\nsamples = 20\\nvalue = [4, 24, 0]'),\n",
       " Text(0.6345609065155807, 0.475, 'PCA2 <= 78.769\\ngini = 0.087\\nsamples = 15\\nvalue = [1, 21, 0]'),\n",
       " Text(0.6288951841359773, 0.425, 'gini = 0.0\\nsamples = 10\\nvalue = [0, 16, 0]'),\n",
       " Text(0.6402266288951841, 0.425, 'PCA2 <= 78.916\\ngini = 0.278\\nsamples = 5\\nvalue = [1, 5, 0]'),\n",
       " Text(0.6345609065155807, 0.375, 'gini = 0.0\\nsamples = 1\\nvalue = [1, 0, 0]'),\n",
       " Text(0.6458923512747875, 0.375, 'gini = 0.0\\nsamples = 4\\nvalue = [0, 5, 0]'),\n",
       " Text(0.6572237960339944, 0.475, 'PCA4 <= 28.71\\ngini = 0.5\\nsamples = 5\\nvalue = [3, 3, 0]'),\n",
       " Text(0.6515580736543909, 0.425, 'gini = 0.0\\nsamples = 3\\nvalue = [3, 0, 0]'),\n",
       " Text(0.6628895184135978, 0.425, 'gini = 0.0\\nsamples = 2\\nvalue = [0, 3, 0]'),\n",
       " Text(0.6742209631728046, 0.525, 'PCA4 <= 21.409\\ngini = 0.019\\nsamples = 65\\nvalue = [1, 105, 0]'),\n",
       " Text(0.6685552407932012, 0.475, 'gini = 0.0\\nsamples = 43\\nvalue = [0, 69, 0]'),\n",
       " Text(0.6798866855524079, 0.475, 'PCA1 <= -596.699\\ngini = 0.053\\nsamples = 22\\nvalue = [1, 36, 0]'),\n",
       " Text(0.6742209631728046, 0.425, 'PCA1 <= -605.058\\ngini = 0.32\\nsamples = 4\\nvalue = [1, 4, 0]'),\n",
       " Text(0.6685552407932012, 0.375, 'gini = 0.0\\nsamples = 3\\nvalue = [0, 4, 0]'),\n",
       " Text(0.6798866855524079, 0.375, 'gini = 0.0\\nsamples = 1\\nvalue = [1, 0, 0]'),\n",
       " Text(0.6855524079320113, 0.425, 'gini = 0.0\\nsamples = 18\\nvalue = [0, 32, 0]'),\n",
       " Text(0.6713881019830028, 0.575, 'gini = 0.0\\nsamples = 1\\nvalue = [2, 0, 0]'),\n",
       " Text(0.7195467422096318, 0.675, 'PCA2 <= 69.569\\ngini = 0.306\\nsamples = 44\\nvalue = [9, 60, 4]'),\n",
       " Text(0.7082152974504249, 0.625, 'PCA1 <= -5.396\\ngini = 0.155\\nsamples = 35\\nvalue = [5, 54, 0]'),\n",
       " Text(0.7025495750708215, 0.575, 'PCA1 <= -35.365\\ngini = 0.486\\nsamples = 7\\nvalue = [5, 7, 0]'),\n",
       " Text(0.6968838526912181, 0.525, 'PCA3 <= 16.488\\ngini = 0.346\\nsamples = 6\\nvalue = [2, 7, 0]'),\n",
       " Text(0.6912181303116147, 0.475, 'gini = 0.0\\nsamples = 4\\nvalue = [0, 6, 0]'),\n",
       " Text(0.7025495750708215, 0.475, 'PCA4 <= 68.888\\ngini = 0.444\\nsamples = 2\\nvalue = [2, 1, 0]'),\n",
       " Text(0.6968838526912181, 0.425, 'gini = 0.0\\nsamples = 1\\nvalue = [2, 0, 0]'),\n",
       " Text(0.7082152974504249, 0.425, 'gini = 0.0\\nsamples = 1\\nvalue = [0, 1, 0]'),\n",
       " Text(0.7082152974504249, 0.525, 'gini = 0.0\\nsamples = 1\\nvalue = [3, 0, 0]'),\n",
       " Text(0.7138810198300283, 0.575, 'gini = 0.0\\nsamples = 28\\nvalue = [0, 47, 0]'),\n",
       " Text(0.7308781869688386, 0.625, 'PCA2 <= 72.007\\ngini = 0.653\\nsamples = 9\\nvalue = [4, 6, 4]'),\n",
       " Text(0.7252124645892352, 0.575, 'gini = 0.0\\nsamples = 1\\nvalue = [0, 0, 4]'),\n",
       " Text(0.7365439093484419, 0.575, 'PCA3 <= 27.056\\ngini = 0.48\\nsamples = 8\\nvalue = [4, 6, 0]'),\n",
       " Text(0.7308781869688386, 0.525, 'PCA2 <= 79.157\\ngini = 0.32\\nsamples = 4\\nvalue = [4, 1, 0]'),\n",
       " Text(0.7252124645892352, 0.475, 'gini = 0.0\\nsamples = 3\\nvalue = [4, 0, 0]'),\n",
       " Text(0.7365439093484419, 0.475, 'gini = 0.0\\nsamples = 1\\nvalue = [0, 1, 0]'),\n",
       " Text(0.7422096317280453, 0.525, 'gini = 0.0\\nsamples = 4\\nvalue = [0, 5, 0]'),\n",
       " Text(0.7677053824362606, 0.825, 'PCA2 <= 112.919\\ngini = 0.49\\nsamples = 40\\nvalue = [41, 20, 3]'),\n",
       " Text(0.7478753541076487, 0.775, 'PCA3 <= -19.095\\ngini = 0.48\\nsamples = 10\\nvalue = [6, 9, 0]'),\n",
       " Text(0.7422096317280453, 0.725, 'gini = 0.0\\nsamples = 3\\nvalue = [4, 0, 0]'),\n",
       " Text(0.7535410764872521, 0.725, 'PCA2 <= 107.091\\ngini = 0.298\\nsamples = 7\\nvalue = [2, 9, 0]'),\n",
       " Text(0.7478753541076487, 0.675, 'PCA1 <= 14.372\\ngini = 0.444\\nsamples = 3\\nvalue = [2, 4, 0]'),\n",
       " Text(0.7422096317280453, 0.625, 'gini = 0.0\\nsamples = 2\\nvalue = [0, 4, 0]'),\n",
       " Text(0.7535410764872521, 0.625, 'gini = 0.0\\nsamples = 1\\nvalue = [2, 0, 0]'),\n",
       " Text(0.7592067988668555, 0.675, 'gini = 0.0\\nsamples = 4\\nvalue = [0, 5, 0]'),\n",
       " Text(0.7875354107648725, 0.775, 'PCA3 <= 94.943\\ngini = 0.436\\nsamples = 30\\nvalue = [35, 11, 3]'),\n",
       " Text(0.7762039660056658, 0.725, 'PCA2 <= 153.797\\ngini = 0.35\\nsamples = 26\\nvalue = [34, 6, 3]'),\n",
       " Text(0.7705382436260623, 0.675, 'gini = 0.0\\nsamples = 13\\nvalue = [23, 0, 0]'),\n",
       " Text(0.7818696883852692, 0.675, 'PCA2 <= 228.994\\ngini = 0.585\\nsamples = 13\\nvalue = [11, 6, 3]'),\n",
       " Text(0.7762039660056658, 0.625, 'PCA3 <= 16.64\\ngini = 0.625\\nsamples = 8\\nvalue = [3, 6, 3]'),\n",
       " Text(0.7648725212464589, 0.575, 'PCA2 <= 222.95\\ngini = 0.375\\nsamples = 3\\nvalue = [0, 1, 3]'),\n",
       " Text(0.7592067988668555, 0.525, 'gini = 0.0\\nsamples = 2\\nvalue = [0, 0, 3]'),\n",
       " Text(0.7705382436260623, 0.525, 'gini = 0.0\\nsamples = 1\\nvalue = [0, 1, 0]'),\n",
       " Text(0.7875354107648725, 0.575, 'PCA1 <= 296.656\\ngini = 0.469\\nsamples = 5\\nvalue = [3, 5, 0]'),\n",
       " Text(0.7818696883852692, 0.525, 'PCA4 <= -48.163\\ngini = 0.278\\nsamples = 3\\nvalue = [1, 5, 0]'),\n",
       " Text(0.7762039660056658, 0.475, 'gini = 0.0\\nsamples = 1\\nvalue = [1, 0, 0]'),\n",
       " Text(0.7875354107648725, 0.475, 'gini = 0.0\\nsamples = 2\\nvalue = [0, 5, 0]'),\n",
       " Text(0.7932011331444759, 0.525, 'gini = 0.0\\nsamples = 2\\nvalue = [2, 0, 0]'),\n",
       " Text(0.7875354107648725, 0.625, 'gini = 0.0\\nsamples = 5\\nvalue = [8, 0, 0]'),\n",
       " Text(0.7988668555240793, 0.725, 'PCA2 <= 114.955\\ngini = 0.278\\nsamples = 4\\nvalue = [1, 5, 0]'),\n",
       " Text(0.7932011331444759, 0.675, 'gini = 0.0\\nsamples = 1\\nvalue = [1, 0, 0]'),\n",
       " Text(0.8045325779036827, 0.675, 'gini = 0.0\\nsamples = 3\\nvalue = [0, 5, 0]'),\n",
       " Text(0.9178470254957507, 0.925, 'PCA2 <= -24.972\\ngini = 0.482\\nsamples = 388\\nvalue = [365, 224, 6]'),\n",
       " Text(0.8590651558073654, 0.875, 'PCA4 <= -48.82\\ngini = 0.36\\nsamples = 163\\nvalue = [54, 185, 2]'),\n",
       " Text(0.8215297450424929, 0.825, 'PCA3 <= -90.614\\ngini = 0.343\\nsamples = 36\\nvalue = [39, 11, 0]'),\n",
       " Text(0.8158640226628895, 0.775, 'gini = 0.0\\nsamples = 4\\nvalue = [0, 6, 0]'),\n",
       " Text(0.8271954674220963, 0.775, 'PCA2 <= -201.685\\ngini = 0.201\\nsamples = 32\\nvalue = [39, 5, 0]'),\n",
       " Text(0.8215297450424929, 0.725, 'PCA4 <= -85.937\\ngini = 0.5\\nsamples = 8\\nvalue = [5, 5, 0]'),\n",
       " Text(0.8158640226628895, 0.675, 'gini = 0.0\\nsamples = 3\\nvalue = [4, 0, 0]'),\n",
       " Text(0.8271954674220963, 0.675, 'PCA1 <= 1282.308\\ngini = 0.278\\nsamples = 5\\nvalue = [1, 5, 0]'),\n",
       " Text(0.8215297450424929, 0.625, 'gini = 0.0\\nsamples = 4\\nvalue = [0, 5, 0]'),\n",
       " Text(0.8328611898016998, 0.625, 'gini = 0.0\\nsamples = 1\\nvalue = [1, 0, 0]'),\n",
       " Text(0.8328611898016998, 0.725, 'gini = 0.0\\nsamples = 24\\nvalue = [34, 0, 0]'),\n",
       " Text(0.896600566572238, 0.825, 'PCA1 <= 1129.08\\ngini = 0.164\\nsamples = 127\\nvalue = [15, 174, 2]'),\n",
       " Text(0.8753541076487252, 0.775, 'PCA3 <= -63.744\\ngini = 0.128\\nsamples = 116\\nvalue = [10, 165, 2]'),\n",
       " Text(0.8611898016997167, 0.725, 'PCA4 <= 42.463\\ngini = 0.24\\nsamples = 54\\nvalue = [9, 70, 2]'),\n",
       " Text(0.8498583569405099, 0.675, 'PCA2 <= -131.501\\ngini = 0.034\\nsamples = 37\\nvalue = [1, 56, 0]'),\n",
       " Text(0.8441926345609065, 0.625, 'gini = 0.0\\nsamples = 35\\nvalue = [0, 55, 0]'),\n",
       " Text(0.8555240793201133, 0.625, 'PCA2 <= -118.933\\ngini = 0.5\\nsamples = 2\\nvalue = [1, 1, 0]'),\n",
       " Text(0.8498583569405099, 0.575, 'gini = 0.0\\nsamples = 1\\nvalue = [1, 0, 0]'),\n",
       " Text(0.8611898016997167, 0.575, 'gini = 0.0\\nsamples = 1\\nvalue = [0, 1, 0]'),\n",
       " Text(0.8725212464589235, 0.675, 'PCA2 <= -422.304\\ngini = 0.542\\nsamples = 17\\nvalue = [8, 14, 2]'),\n",
       " Text(0.8668555240793201, 0.625, 'gini = 0.0\\nsamples = 7\\nvalue = [0, 12, 0]'),\n",
       " Text(0.8781869688385269, 0.625, 'PCA1 <= 1057.669\\ngini = 0.5\\nsamples = 10\\nvalue = [8, 2, 2]'),\n",
       " Text(0.8725212464589235, 0.575, 'PCA1 <= 565.867\\ngini = 0.43\\nsamples = 9\\nvalue = [8, 1, 2]'),\n",
       " Text(0.8668555240793201, 0.525, 'gini = 0.0\\nsamples = 2\\nvalue = [4, 0, 0]'),\n",
       " Text(0.8781869688385269, 0.525, 'PCA3 <= -126.58\\ngini = 0.571\\nsamples = 7\\nvalue = [4, 1, 2]'),\n",
       " Text(0.8725212464589235, 0.475, 'gini = 0.0\\nsamples = 3\\nvalue = [3, 0, 0]'),\n",
       " Text(0.8838526912181303, 0.475, 'PCA3 <= -89.531\\ngini = 0.625\\nsamples = 4\\nvalue = [1, 1, 2]'),\n",
       " Text(0.8781869688385269, 0.425, 'gini = 0.0\\nsamples = 2\\nvalue = [0, 0, 2]'),\n",
       " Text(0.8895184135977338, 0.425, 'PCA3 <= -73.695\\ngini = 0.5\\nsamples = 2\\nvalue = [1, 1, 0]'),\n",
       " Text(0.8838526912181303, 0.375, 'gini = 0.0\\nsamples = 1\\nvalue = [0, 1, 0]'),\n",
       " Text(0.8951841359773371, 0.375, 'gini = 0.0\\nsamples = 1\\nvalue = [1, 0, 0]'),\n",
       " Text(0.8838526912181303, 0.575, 'gini = 0.0\\nsamples = 1\\nvalue = [0, 1, 0]'),\n",
       " Text(0.8895184135977338, 0.725, 'PCA2 <= -98.147\\ngini = 0.021\\nsamples = 62\\nvalue = [1, 95, 0]'),\n",
       " Text(0.8838526912181303, 0.675, 'gini = 0.0\\nsamples = 44\\nvalue = [0, 68, 0]'),\n",
       " Text(0.8951841359773371, 0.675, 'PCA4 <= 95.736\\ngini = 0.069\\nsamples = 18\\nvalue = [1, 27, 0]'),\n",
       " Text(0.8895184135977338, 0.625, 'gini = 0.0\\nsamples = 9\\nvalue = [0, 16, 0]'),\n",
       " Text(0.9008498583569405, 0.625, 'PCA2 <= -83.793\\ngini = 0.153\\nsamples = 9\\nvalue = [1, 11, 0]'),\n",
       " Text(0.8951841359773371, 0.575, 'gini = 0.0\\nsamples = 1\\nvalue = [1, 0, 0]'),\n",
       " Text(0.9065155807365439, 0.575, 'gini = 0.0\\nsamples = 8\\nvalue = [0, 11, 0]'),\n",
       " Text(0.9178470254957507, 0.775, 'PCA4 <= 75.165\\ngini = 0.459\\nsamples = 11\\nvalue = [5, 9, 0]'),\n",
       " Text(0.9121813031161473, 0.725, 'PCA2 <= -571.621\\ngini = 0.278\\nsamples = 4\\nvalue = [5, 1, 0]'),\n",
       " Text(0.9065155807365439, 0.675, 'gini = 0.0\\nsamples = 1\\nvalue = [0, 1, 0]'),\n",
       " Text(0.9178470254957507, 0.675, 'gini = 0.0\\nsamples = 3\\nvalue = [5, 0, 0]'),\n",
       " Text(0.9235127478753541, 0.725, 'gini = 0.0\\nsamples = 7\\nvalue = [0, 8, 0]'),\n",
       " Text(0.976628895184136, 0.875, 'PCA3 <= 175.878\\ngini = 0.216\\nsamples = 225\\nvalue = [311, 39, 4]'),\n",
       " Text(0.9709631728045326, 0.825, 'PCA4 <= 161.908\\ngini = 0.149\\nsamples = 215\\nvalue = [311, 23, 4]'),\n",
       " Text(0.953257790368272, 0.775, 'PCA1 <= 471.239\\ngini = 0.094\\nsamples = 207\\nvalue = [310, 12, 4]'),\n",
       " Text(0.9348441926345609, 0.725, 'PCA3 <= 26.557\\ngini = 0.46\\nsamples = 15\\nvalue = [14, 2, 4]'),\n",
       " Text(0.9291784702549575, 0.675, 'PCA2 <= 523.91\\ngini = 0.346\\nsamples = 13\\nvalue = [14, 0, 4]'),\n",
       " Text(0.9235127478753541, 0.625, 'PCA1 <= 439.821\\ngini = 0.219\\nsamples = 12\\nvalue = [14, 0, 2]'),\n",
       " Text(0.9178470254957507, 0.575, 'PCA4 <= -59.538\\ngini = 0.5\\nsamples = 3\\nvalue = [2, 0, 2]'),\n",
       " Text(0.9121813031161473, 0.525, 'gini = 0.0\\nsamples = 1\\nvalue = [0, 0, 2]'),\n",
       " Text(0.9235127478753541, 0.525, 'gini = 0.0\\nsamples = 2\\nvalue = [2, 0, 0]'),\n",
       " Text(0.9291784702549575, 0.575, 'gini = 0.0\\nsamples = 9\\nvalue = [12, 0, 0]'),\n",
       " Text(0.9348441926345609, 0.625, 'gini = 0.0\\nsamples = 1\\nvalue = [0, 0, 2]'),\n",
       " Text(0.9405099150141643, 0.675, 'gini = 0.0\\nsamples = 2\\nvalue = [0, 2, 0]'),\n",
       " Text(0.9716713881019831, 0.725, 'PCA4 <= 120.672\\ngini = 0.063\\nsamples = 192\\nvalue = [296, 10, 0]'),\n",
       " Text(0.9575070821529745, 0.675, 'PCA1 <= 821.261\\ngini = 0.046\\nsamples = 183\\nvalue = [287, 7, 0]'),\n",
       " Text(0.9518413597733711, 0.625, 'PCA2 <= -10.399\\ngini = 0.08\\nsamples = 106\\nvalue = [161, 7, 0]'),\n",
       " Text(0.9405099150141643, 0.575, 'PCA1 <= 620.913\\ngini = 0.49\\nsamples = 5\\nvalue = [4, 3, 0]'),\n",
       " Text(0.9348441926345609, 0.525, 'PCA2 <= -12.693\\ngini = 0.32\\nsamples = 4\\nvalue = [4, 1, 0]'),\n",
       " Text(0.9291784702549575, 0.475, 'gini = 0.0\\nsamples = 3\\nvalue = [4, 0, 0]'),\n",
       " Text(0.9405099150141643, 0.475, 'gini = 0.0\\nsamples = 1\\nvalue = [0, 1, 0]'),\n",
       " Text(0.9461756373937678, 0.525, 'gini = 0.0\\nsamples = 1\\nvalue = [0, 2, 0]'),\n",
       " Text(0.9631728045325779, 0.575, 'PCA1 <= 808.301\\ngini = 0.048\\nsamples = 101\\nvalue = [157, 4, 0]'),\n",
       " Text(0.9575070821529745, 0.525, 'PCA4 <= -5.397\\ngini = 0.037\\nsamples = 100\\nvalue = [157, 3, 0]'),\n",
       " Text(0.9518413597733711, 0.475, 'gini = 0.0\\nsamples = 72\\nvalue = [121, 0, 0]'),\n",
       " Text(0.9631728045325779, 0.475, 'PCA4 <= -2.303\\ngini = 0.142\\nsamples = 28\\nvalue = [36, 3, 0]'),\n",
       " Text(0.9575070821529745, 0.425, 'gini = 0.0\\nsamples = 1\\nvalue = [0, 1, 0]'),\n",
       " Text(0.9688385269121813, 0.425, 'PCA2 <= 205.647\\ngini = 0.1\\nsamples = 27\\nvalue = [36, 2, 0]'),\n",
       " Text(0.9631728045325779, 0.375, 'PCA4 <= 40.655\\ngini = 0.444\\nsamples = 3\\nvalue = [1, 2, 0]'),\n",
       " Text(0.9575070821529745, 0.325, 'gini = 0.0\\nsamples = 2\\nvalue = [0, 2, 0]'),\n",
       " Text(0.9688385269121813, 0.325, 'gini = 0.0\\nsamples = 1\\nvalue = [1, 0, 0]'),\n",
       " Text(0.9745042492917847, 0.375, 'gini = 0.0\\nsamples = 24\\nvalue = [35, 0, 0]'),\n",
       " Text(0.9688385269121813, 0.525, 'gini = 0.0\\nsamples = 1\\nvalue = [0, 1, 0]'),\n",
       " Text(0.9631728045325779, 0.625, 'gini = 0.0\\nsamples = 77\\nvalue = [126, 0, 0]'),\n",
       " Text(0.9858356940509915, 0.675, 'PCA1 <= 705.617\\ngini = 0.375\\nsamples = 9\\nvalue = [9, 3, 0]'),\n",
       " Text(0.9801699716713881, 0.625, 'PCA2 <= 249.784\\ngini = 0.5\\nsamples = 5\\nvalue = [3, 3, 0]'),\n",
       " Text(0.9745042492917847, 0.575, 'gini = 0.0\\nsamples = 3\\nvalue = [0, 3, 0]'),\n",
       " Text(0.9858356940509915, 0.575, 'gini = 0.0\\nsamples = 2\\nvalue = [3, 0, 0]'),\n",
       " Text(0.9915014164305949, 0.625, 'gini = 0.0\\nsamples = 4\\nvalue = [6, 0, 0]'),\n",
       " Text(0.9886685552407932, 0.775, 'PCA1 <= 1188.927\\ngini = 0.153\\nsamples = 8\\nvalue = [1, 11, 0]'),\n",
       " Text(0.9830028328611898, 0.725, 'gini = 0.0\\nsamples = 7\\nvalue = [0, 11, 0]'),\n",
       " Text(0.9943342776203966, 0.725, 'gini = 0.0\\nsamples = 1\\nvalue = [1, 0, 0]'),\n",
       " Text(0.9822946175637394, 0.825, 'gini = 0.0\\nsamples = 10\\nvalue = [0, 16, 0]')]"
      ]
     },
     "execution_count": 48,
     "metadata": {},
     "output_type": "execute_result"
    },
    {
     "data": {
      "image/png": "[encoded data removed]",
      "text/plain": [
       "<Figure size 432x288 with 1 Axes>"
      ]
     },
     "metadata": {
      "needs_background": "light"
     },
     "output_type": "display_data"
    }
   ],
   "source": [
    "from sklearn import tree\n",
    "tree.plot_tree(rfc_model.estimators_[0],\n",
    "                feature_names=[\"PCA1\", \"PCA2\", \"PCA3\", \"PCA4\"],\n",
    "                filled=True,\n",
    "                rounded=True)"
   ]
  },
  {
   "cell_type": "code",
   "execution_count": 46,
   "id": "61ddf1d3",
   "metadata": {},
   "outputs": [
    {
     "name": "stderr",
     "output_type": "stream",
     "text": [
      "sh: dot: command not found\n"
     ]
    },
    {
     "data": {
      "text/plain": [
       "32512"
      ]
     },
     "execution_count": 46,
     "metadata": {},
     "output_type": "execute_result"
    }
   ],
   "source": [
    "os.system('dot -Tpng tree.dot -o tree.png')"
   ]
  },
  {
   "cell_type": "code",
   "execution_count": 39,
   "id": "4a7b708f",
   "metadata": {},
   "outputs": [],
   "source": [
    "from sklearn.metrics import accuracy_score,plot_confusion_matrix, classification_report"
   ]
  },
  {
   "cell_type": "code",
   "execution_count": 41,
   "id": "0084e01f",
   "metadata": {},
   "outputs": [
    {
     "name": "stderr",
     "output_type": "stream",
     "text": [
      "/Library/Frameworks/Python.framework/Versions/3.9/lib/python3.9/site-packages/sklearn/utils/deprecation.py:87: FutureWarning: Function plot_confusion_matrix is deprecated; Function `plot_confusion_matrix` is deprecated in 1.0 and will be removed in 1.2. Use one of the class methods: ConfusionMatrixDisplay.from_predictions or ConfusionMatrixDisplay.from_estimator.\n",
      "  warnings.warn(msg, category=FutureWarning)\n"
     ]
    },
    {
     "data": {
      "text/plain": [
       "<sklearn.metrics._plot.confusion_matrix.ConfusionMatrixDisplay at 0x7fbbb89aa790>"
      ]
     },
     "execution_count": 41,
     "metadata": {},
     "output_type": "execute_result"
    },
    {
     "data": {
      "image/png": "[encoded data removed]",
      "text/plain": [
       "<Figure size 432x288 with 2 Axes>"
      ]
     },
     "metadata": {
      "needs_background": "light"
     },
     "output_type": "display_data"
    }
   ],
   "source": [
    "plt.rcParams[\"font.size\"] = 14\n",
    "plot_confusion_matrix(model,X_test,y_test, display_labels=[\"Non-Tumor\", \"Tumor\", \"Hepatocyte\"], cmap=\"Greens\")"
   ]
  },
  {
   "cell_type": "code",
   "execution_count": 42,
   "id": "266a1a71",
   "metadata": {},
   "outputs": [
    {
     "name": "stderr",
     "output_type": "stream",
     "text": [
      "/Library/Frameworks/Python.framework/Versions/3.9/lib/python3.9/site-packages/sklearn/utils/deprecation.py:87: FutureWarning: Function plot_confusion_matrix is deprecated; Function `plot_confusion_matrix` is deprecated in 1.0 and will be removed in 1.2. Use one of the class methods: ConfusionMatrixDisplay.from_predictions or ConfusionMatrixDisplay.from_estimator.\n",
      "  warnings.warn(msg, category=FutureWarning)\n"
     ]
    },
    {
     "data": {
      "text/plain": [
       "<sklearn.metrics._plot.confusion_matrix.ConfusionMatrixDisplay at 0x7fbbac187b50>"
      ]
     },
     "execution_count": 42,
     "metadata": {},
     "output_type": "execute_result"
    },
    {
     "data": {
      "image/png": "[encoded data removed]",
      "text/plain": [
       "<Figure size 432x288 with 2 Axes>"
      ]
     },
     "metadata": {
      "needs_background": "light"
     },
     "output_type": "display_data"
    }
   ],
   "source": [
    "plot_confusion_matrix(svc_model,X_test,y_test, display_labels=[\"Non-Tumor\", \"Tumor\", \"Hepatocyte\"], cmap=\"Greens\")"
   ]
  },
  {
   "cell_type": "code",
   "execution_count": 43,
   "id": "374b6603",
   "metadata": {},
   "outputs": [
    {
     "name": "stderr",
     "output_type": "stream",
     "text": [
      "/Library/Frameworks/Python.framework/Versions/3.9/lib/python3.9/site-packages/sklearn/utils/deprecation.py:87: FutureWarning: Function plot_confusion_matrix is deprecated; Function `plot_confusion_matrix` is deprecated in 1.0 and will be removed in 1.2. Use one of the class methods: ConfusionMatrixDisplay.from_predictions or ConfusionMatrixDisplay.from_estimator.\n",
      "  warnings.warn(msg, category=FutureWarning)\n"
     ]
    },
    {
     "data": {
      "text/plain": [
       "<sklearn.metrics._plot.confusion_matrix.ConfusionMatrixDisplay at 0x7fbbb8979040>"
      ]
     },
     "execution_count": 43,
     "metadata": {},
     "output_type": "execute_result"
    },
    {
     "data": {
      "image/png": "[encoded data removed]",
      "text/plain": [
       "<Figure size 432x288 with 2 Axes>"
      ]
     },
     "metadata": {
      "needs_background": "light"
     },
     "output_type": "display_data"
    }
   ],
   "source": [
    "plot_confusion_matrix(rfc_model,X_test_us,y_test_us, display_labels=[\"Non-Tumor\", \"Tumor\", \"Hepatocyte\"], cmap=\"Greens\")"
   ]
  },
  {
   "cell_type": "markdown",
   "id": "18203b7d",
   "metadata": {},
   "source": [
    "## 7b. Classification Excluding Hepatocyte:"
   ]
  },
  {
   "cell_type": "code",
   "execution_count": 45,
   "id": "13d2d37b",
   "metadata": {},
   "outputs": [],
   "source": [
    "tumor = pd.read_csv(\"Tumor.csv\")\n",
    "non_tumor = pd.read_csv(\"Non-Tumor.csv\")\n",
    "hepatocyte = pd.read_csv(\"Hepatocyte.csv\")\n",
    "tumor = np.array(tumor[\"Tumor\"])"
   ]
  },
  {
   "cell_type": "code",
   "execution_count": 46,
   "id": "33488d68",
   "metadata": {},
   "outputs": [
    {
     "name": "stdout",
     "output_type": "stream",
     "text": [
      "2571\n",
      "2532\n"
     ]
    }
   ],
   "source": [
    "tumor = np.array(tumor)\n",
    "for i in range(3522):\n",
    "    if np.isnan(tumor[i]):\n",
    "        tumor[i] = 0\n",
    "print((tumor==1).sum())\n",
    "for i in range(3522):\n",
    "    if np.isnan(non_tumor[\"Non-Tumor\"][i]) == False:\n",
    "        tumor[i] = 0\n",
    "print((tumor==1).sum())"
   ]
  },
  {
   "cell_type": "code",
   "execution_count": 47,
   "id": "2eb1fe82",
   "metadata": {},
   "outputs": [],
   "source": [
    "sc = StandardScaler()\n",
    "no = Normalizer()"
   ]
  },
  {
   "cell_type": "code",
   "execution_count": 48,
   "id": "a8ab094e",
   "metadata": {},
   "outputs": [
    {
     "name": "stdout",
     "output_type": "stream",
     "text": [
      "[[ 0.93811728  0.36109474  0.54273543  0.18698935]\n",
      " [ 1.60676671 -2.00024485 -1.10160058 -1.18967684]\n",
      " [-1.06758532  0.17395594 -0.11684745 -0.01206202]\n",
      " ...\n",
      " [ 1.02163516  2.69483307 -0.49914913  1.28344976]\n",
      " [ 1.38053766  0.38526521  0.01426075 -1.59310526]\n",
      " [-0.51831721 -0.33029945 -0.65961558 -0.36175697]]\n",
      "[[ 0.98640611  0.13544598  0.08999053  0.02364472]\n",
      " [ 0.90653293 -0.40258749 -0.09800876 -0.08071949]\n",
      " [-0.99816578  0.05802106 -0.01722778 -0.00135625]\n",
      " ...\n",
      " [ 0.72277808  0.68012285 -0.05568644  0.10919599]\n",
      " [ 0.98572535  0.09813271  0.00160568 -0.13679518]\n",
      " [-0.95389757 -0.21685045 -0.19142868 -0.08006481]]\n"
     ]
    }
   ],
   "source": [
    "scaled_train = sc.fit_transform(projected)\n",
    "print(scaled_train)\n",
    "normalized_train = no.fit_transform(projected)\n",
    "print(normalized_train)"
   ]
  },
  {
   "cell_type": "code",
   "execution_count": 49,
   "id": "ef0405f1",
   "metadata": {},
   "outputs": [],
   "source": [
    "X_train, X_test, y_train, y_test = train_test_split(scaled_train, tumor, test_size=.2, random_state=0, shuffle=True, stratify=tumor)\n",
    "X_train_us, X_test_us, y_train_us, y_test_us = train_test_split(projected, tumor, test_size=.2, random_state=0, shuffle=True, stratify=tumor)"
   ]
  },
  {
   "cell_type": "code",
   "execution_count": 50,
   "id": "ca7da903",
   "metadata": {},
   "outputs": [],
   "source": [
    "log_reg = LogisticRegression(random_state=0)"
   ]
  },
  {
   "cell_type": "code",
   "execution_count": 51,
   "id": "6dc2afc4",
   "metadata": {},
   "outputs": [
    {
     "data": {
      "text/plain": [
       "LogisticRegression(random_state=0)"
      ]
     },
     "execution_count": 51,
     "metadata": {},
     "output_type": "execute_result"
    }
   ],
   "source": [
    "log_reg.fit(X_train, y_train)"
   ]
  },
  {
   "cell_type": "code",
   "execution_count": 52,
   "id": "491a6b9d",
   "metadata": {},
   "outputs": [
    {
     "data": {
      "text/plain": [
       "0.8680851063829788"
      ]
     },
     "execution_count": 52,
     "metadata": {},
     "output_type": "execute_result"
    }
   ],
   "source": [
    "log_reg.score(X_test, y_test)"
   ]
  },
  {
   "cell_type": "code",
   "execution_count": 53,
   "id": "f72696b4",
   "metadata": {},
   "outputs": [],
   "source": [
    "rfc2= rfc(random_state=0)"
   ]
  },
  {
   "cell_type": "code",
   "execution_count": 54,
   "id": "ab5cea2d",
   "metadata": {},
   "outputs": [
    {
     "data": {
      "text/plain": [
       "RandomForestClassifier(random_state=0)"
      ]
     },
     "execution_count": 54,
     "metadata": {},
     "output_type": "execute_result"
    }
   ],
   "source": [
    "rfc2.fit(X_train_us, y_train_us)"
   ]
  },
  {
   "cell_type": "code",
   "execution_count": 55,
   "id": "29e4a963",
   "metadata": {},
   "outputs": [
    {
     "data": {
      "text/plain": [
       "0.9404255319148936"
      ]
     },
     "execution_count": 55,
     "metadata": {},
     "output_type": "execute_result"
    }
   ],
   "source": [
    "rfc2.score(X_test_us, y_test_us)"
   ]
  },
  {
   "cell_type": "code",
   "execution_count": 56,
   "id": "21039748",
   "metadata": {},
   "outputs": [],
   "source": [
    "svc2 = svc(random_state=0)"
   ]
  },
  {
   "cell_type": "code",
   "execution_count": 57,
   "id": "cdb760eb",
   "metadata": {},
   "outputs": [
    {
     "data": {
      "text/plain": [
       "SVC(random_state=0)"
      ]
     },
     "execution_count": 57,
     "metadata": {},
     "output_type": "execute_result"
    }
   ],
   "source": [
    "svc2.fit(X_train, y_train)"
   ]
  },
  {
   "cell_type": "code",
   "execution_count": 58,
   "id": "b57abba4",
   "metadata": {},
   "outputs": [
    {
     "data": {
      "text/plain": [
       "0.9347517730496454"
      ]
     },
     "execution_count": 58,
     "metadata": {},
     "output_type": "execute_result"
    }
   ],
   "source": [
    "svc2.score(X_test, y_test)"
   ]
  },
  {
   "cell_type": "code",
   "execution_count": 59,
   "id": "8ca8659b",
   "metadata": {},
   "outputs": [
    {
     "name": "stderr",
     "output_type": "stream",
     "text": [
      "/Library/Frameworks/Python.framework/Versions/3.9/lib/python3.9/site-packages/sklearn/utils/deprecation.py:87: FutureWarning: Function plot_confusion_matrix is deprecated; Function `plot_confusion_matrix` is deprecated in 1.0 and will be removed in 1.2. Use one of the class methods: ConfusionMatrixDisplay.from_predictions or ConfusionMatrixDisplay.from_estimator.\n",
      "  warnings.warn(msg, category=FutureWarning)\n"
     ]
    },
    {
     "data": {
      "text/plain": [
       "<sklearn.metrics._plot.confusion_matrix.ConfusionMatrixDisplay at 0x7fbbad170790>"
      ]
     },
     "execution_count": 59,
     "metadata": {},
     "output_type": "execute_result"
    },
    {
     "data": {
      "image/png": "[encoded data removed]",
      "text/plain": [
       "<Figure size 432x288 with 2 Axes>"
      ]
     },
     "metadata": {
      "needs_background": "light"
     },
     "output_type": "display_data"
    }
   ],
   "source": [
    "plot_confusion_matrix(log_reg,X_test,y_test, display_labels=[\"Non-Tumor\", \"Tumor\"], cmap=\"Greens\")"
   ]
  },
  {
   "cell_type": "code",
   "execution_count": 60,
   "id": "0612f78d",
   "metadata": {},
   "outputs": [
    {
     "name": "stderr",
     "output_type": "stream",
     "text": [
      "/Library/Frameworks/Python.framework/Versions/3.9/lib/python3.9/site-packages/sklearn/utils/deprecation.py:87: FutureWarning: Function plot_confusion_matrix is deprecated; Function `plot_confusion_matrix` is deprecated in 1.0 and will be removed in 1.2. Use one of the class methods: ConfusionMatrixDisplay.from_predictions or ConfusionMatrixDisplay.from_estimator.\n",
      "  warnings.warn(msg, category=FutureWarning)\n"
     ]
    },
    {
     "data": {
      "text/plain": [
       "<sklearn.metrics._plot.confusion_matrix.ConfusionMatrixDisplay at 0x7fbbb8cf4970>"
      ]
     },
     "execution_count": 60,
     "metadata": {},
     "output_type": "execute_result"
    },
    {
     "data": {
      "image/png": "[encoded data removed]",
      "text/plain": [
       "<Figure size 432x288 with 2 Axes>"
      ]
     },
     "metadata": {
      "needs_background": "light"
     },
     "output_type": "display_data"
    }
   ],
   "source": [
    "plot_confusion_matrix(rfc2,X_test_us,y_test_us, display_labels=[\"Non-Tumor\", \"Tumor\"], cmap=\"Greens\")"
   ]
  },
  {
   "cell_type": "code",
   "execution_count": 61,
   "id": "2c1d2072",
   "metadata": {},
   "outputs": [
    {
     "name": "stderr",
     "output_type": "stream",
     "text": [
      "/Library/Frameworks/Python.framework/Versions/3.9/lib/python3.9/site-packages/sklearn/utils/deprecation.py:87: FutureWarning: Function plot_confusion_matrix is deprecated; Function `plot_confusion_matrix` is deprecated in 1.0 and will be removed in 1.2. Use one of the class methods: ConfusionMatrixDisplay.from_predictions or ConfusionMatrixDisplay.from_estimator.\n",
      "  warnings.warn(msg, category=FutureWarning)\n"
     ]
    },
    {
     "data": {
      "text/plain": [
       "<sklearn.metrics._plot.confusion_matrix.ConfusionMatrixDisplay at 0x7fbbad70e0d0>"
      ]
     },
     "execution_count": 61,
     "metadata": {},
     "output_type": "execute_result"
    },
    {
     "data": {
      "image/png": "[encoded data removed]",
      "text/plain": [
       "<Figure size 432x288 with 2 Axes>"
      ]
     },
     "metadata": {
      "needs_background": "light"
     },
     "output_type": "display_data"
    }
   ],
   "source": [
    "plot_confusion_matrix(svc2,X_test,y_test, display_labels=[\"Non-Tumor\", \"Tumor\"], cmap=\"Greens\")"
   ]
  },
  {
   "cell_type": "code",
   "execution_count": null,
   "id": "6ebe9562",
   "metadata": {},
   "outputs": [],
   "source": []
  }
 ],
 "metadata": {
  "kernelspec": {
   "display_name": "Python 3 (ipykernel)",
   "language": "python",
   "name": "python3"
  },
  "language_info": {
   "codemirror_mode": {
    "name": "ipython",
    "version": 3
   },
   "file_extension": ".py",
   "mimetype": "text/x-python",
   "name": "python",
   "nbconvert_exporter": "python",
   "pygments_lexer": "ipython3",
   "version": "3.8.16"
  }
 },
 "nbformat": 4,
 "nbformat_minor": 5
}
