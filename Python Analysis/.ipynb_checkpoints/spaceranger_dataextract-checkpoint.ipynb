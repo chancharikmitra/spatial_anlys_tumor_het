{
 "cells": [
  {
   "cell_type": "markdown",
   "id": "d78b7152",
   "metadata": {},
   "source": [
    "# SpaceRanger Data Extraction Code:"
   ]
  },
  {
   "cell_type": "markdown",
   "id": "af35009a",
   "metadata": {},
   "source": [
    "This notebook is specifically for extracting a .csv file from the SpaceRanger outs folder of a sample. Essentially, running this script for an outs file will output a .csv file which contains the gene expression counts for all barcode coordinates. This *in combination* to the coordinates and spatial projection information in the **spatial** folder will allow for easy statistical analysis of the gene expression data of a SpaceRanger sample."
   ]
  },
  {
   "cell_type": "code",
   "execution_count": 1,
   "id": "3176aa9c",
   "metadata": {
    "tags": []
   },
   "outputs": [],
   "source": [
    "import csv\n",
    "import gzip\n",
    "import os\n",
    "import scipy.io\n",
    "import pandas as pd\n",
    "import numpy as np"
   ]
  },
  {
   "cell_type": "markdown",
   "id": "b7077745-6fa6-4a0f-b443-cd4f83e48f75",
   "metadata": {},
   "source": [
    "All that needs to be checked is that the file paths point to the correct directory."
   ]
  },
  {
   "cell_type": "code",
   "execution_count": null,
   "id": "745f0c5b",
   "metadata": {},
   "outputs": [],
   "source": [
    "# define MEX directory\n",
    "matrix_dir = \"V1_3_human_outs/filtered_feature_bc_matrix\"\n",
    "# read in MEX format matrix as table\n",
    "mat_filtered = scipy.io.mmread(os.path.join(matrix_dir, \"matrix.mtx.gz\"))\n",
    " \n",
    "# list of transcript ids, e.g. 'ENSG00000187634'\n",
    "features_path = os.path.join(matrix_dir, \"features.tsv.gz\")\n",
    "feature_ids = [row[0] for row in csv.reader(gzip.open(features_path, mode=\"rt\"), delimiter=\"\\t\")]\n",
    " \n",
    "# list of gene names, e.g. 'SAMD11'\n",
    "gene_names = [row[1] for row in csv.reader(gzip.open(features_path, mode=\"rt\"), delimiter=\"\\t\")]\n",
    " \n",
    "# list of feature_types, e.g. 'Gene Expression'\n",
    "feature_types = [row[2] for row in csv.reader(gzip.open(features_path, mode=\"rt\"), delimiter=\"\\t\")]\n",
    " \n",
    "# list of barcodes, e.g. 'AAACATACAAAACG-1'\n",
    "barcodes_path = os.path.join(matrix_dir, \"barcodes.tsv.gz\")\n",
    "barcodes = [row[0] for row in csv.reader(gzip.open(barcodes_path, mode=\"rt\"), delimiter=\"\\t\")]"
   ]
  },
  {
   "cell_type": "code",
   "execution_count": null,
   "id": "32dad4fc",
   "metadata": {},
   "outputs": [],
   "source": [
    "# transform table to pandas dataframe and label rows and columns\n",
    "matrix = pd.DataFrame.sparse.from_spmatrix(mat_filtered)\n",
    "matrix.columns = barcodes\n",
    "matrix.insert(loc=0, column=\"feature_id\", value=feature_ids)\n",
    "matrix.insert(loc=1, column=\"gene\", value=gene_names)\n",
    "matrix.insert(loc=2, column=\"feature_type\", value=feature_types)\n",
    " \n",
    "# display matrix\n",
    "print(matrix)\n",
    " \n",
    "# save the table as a CSV (note the CSV will be a very large file)\n",
    "matrix.to_csv(\"V1_3_human_matrix.csv\", index=False)"
   ]
  }
 ],
 "metadata": {
  "kernelspec": {
   "display_name": "Python 3 (ipykernel)",
   "language": "python",
   "name": "python3"
  },
  "language_info": {
   "codemirror_mode": {
    "name": "ipython",
    "version": 3
   },
   "file_extension": ".py",
   "mimetype": "text/x-python",
   "name": "python",
   "nbconvert_exporter": "python",
   "pygments_lexer": "ipython3",
   "version": "3.8.16"
  }
 },
 "nbformat": 4,
 "nbformat_minor": 5
}
